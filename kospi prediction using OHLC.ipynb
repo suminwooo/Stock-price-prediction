{
 "cells": [
  {
   "cell_type": "markdown",
   "metadata": {},
   "source": [
    "# Kospi 200 close price LSTM prediction using OHLC"
   ]
  },
  {
   "cell_type": "code",
   "execution_count": 1,
   "metadata": {},
   "outputs": [
    {
     "name": "stderr",
     "output_type": "stream",
     "text": [
      "Using TensorFlow backend.\n"
     ]
    }
   ],
   "source": [
    "import pandas as pd\n",
    "import numpy as np\n",
    "import matplotlib.pyplot as plt \n",
    "\n",
    "from keras.models import Sequential\n",
    "from keras.layers import Dense, LSTM ,Dropout\n",
    "\n",
    "from sklearn.metrics import mean_squared_error\n",
    "from sklearn.preprocessing import MinMaxScaler"
   ]
  },
  {
   "cell_type": "markdown",
   "metadata": {},
   "source": [
    "## data load"
   ]
  },
  {
   "cell_type": "code",
   "execution_count": 2,
   "metadata": {},
   "outputs": [
    {
     "data": {
      "text/html": [
       "<div>\n",
       "<style scoped>\n",
       "    .dataframe tbody tr th:only-of-type {\n",
       "        vertical-align: middle;\n",
       "    }\n",
       "\n",
       "    .dataframe tbody tr th {\n",
       "        vertical-align: top;\n",
       "    }\n",
       "\n",
       "    .dataframe thead th {\n",
       "        text-align: right;\n",
       "    }\n",
       "</style>\n",
       "<table border=\"1\" class=\"dataframe\">\n",
       "  <thead>\n",
       "    <tr style=\"text-align: right;\">\n",
       "      <th></th>\n",
       "      <th>date</th>\n",
       "      <th>open</th>\n",
       "      <th>high</th>\n",
       "      <th>low</th>\n",
       "      <th>close</th>\n",
       "    </tr>\n",
       "  </thead>\n",
       "  <tbody>\n",
       "    <tr>\n",
       "      <td>0</td>\n",
       "      <td>2019-12-30</td>\n",
       "      <td>2202.62</td>\n",
       "      <td>2206.36</td>\n",
       "      <td>2188.10</td>\n",
       "      <td>2203.60</td>\n",
       "    </tr>\n",
       "    <tr>\n",
       "      <td>1</td>\n",
       "      <td>2019-12-27</td>\n",
       "      <td>2183.70</td>\n",
       "      <td>2215.55</td>\n",
       "      <td>2177.40</td>\n",
       "      <td>2204.21</td>\n",
       "    </tr>\n",
       "    <tr>\n",
       "      <td>2</td>\n",
       "      <td>2019-12-26</td>\n",
       "      <td>2192.22</td>\n",
       "      <td>2198.01</td>\n",
       "      <td>2183.90</td>\n",
       "      <td>2197.93</td>\n",
       "    </tr>\n",
       "    <tr>\n",
       "      <td>3</td>\n",
       "      <td>2019-12-24</td>\n",
       "      <td>2206.23</td>\n",
       "      <td>2206.23</td>\n",
       "      <td>2187.58</td>\n",
       "      <td>2190.08</td>\n",
       "    </tr>\n",
       "    <tr>\n",
       "      <td>4</td>\n",
       "      <td>2019-12-23</td>\n",
       "      <td>2208.22</td>\n",
       "      <td>2209.20</td>\n",
       "      <td>2196.43</td>\n",
       "      <td>2203.71</td>\n",
       "    </tr>\n",
       "  </tbody>\n",
       "</table>\n",
       "</div>"
      ],
      "text/plain": [
       "         date     open     high      low    close\n",
       "0  2019-12-30  2202.62  2206.36  2188.10  2203.60\n",
       "1  2019-12-27  2183.70  2215.55  2177.40  2204.21\n",
       "2  2019-12-26  2192.22  2198.01  2183.90  2197.93\n",
       "3  2019-12-24  2206.23  2206.23  2187.58  2190.08\n",
       "4  2019-12-23  2208.22  2209.20  2196.43  2203.71"
      ]
     },
     "execution_count": 2,
     "metadata": {},
     "output_type": "execute_result"
    }
   ],
   "source": [
    "data = pd.read_csv(\"stock data/kospi.csv\")\n",
    "data.head()"
   ]
  },
  {
   "cell_type": "markdown",
   "metadata": {},
   "source": [
    "### reshape to [-1,1]\n"
   ]
  },
  {
   "cell_type": "code",
   "execution_count": 3,
   "metadata": {
    "scrolled": true
   },
   "outputs": [
    {
     "name": "stderr",
     "output_type": "stream",
     "text": [
      "C:\\Users\\wsm26\\Anaconda3\\lib\\site-packages\\ipykernel_launcher.py:3: FutureWarning: Method .as_matrix will be removed in a future version. Use .values instead.\n",
      "  This is separate from the ipykernel package so we can avoid doing imports until\n",
      "C:\\Users\\wsm26\\Anaconda3\\lib\\site-packages\\ipykernel_launcher.py:4: FutureWarning: Method .as_matrix will be removed in a future version. Use .values instead.\n",
      "  after removing the cwd from sys.path.\n",
      "C:\\Users\\wsm26\\Anaconda3\\lib\\site-packages\\ipykernel_launcher.py:5: FutureWarning: Method .as_matrix will be removed in a future version. Use .values instead.\n",
      "  \"\"\"\n",
      "C:\\Users\\wsm26\\Anaconda3\\lib\\site-packages\\ipykernel_launcher.py:6: FutureWarning: Method .as_matrix will be removed in a future version. Use .values instead.\n",
      "  \n",
      "C:\\Users\\wsm26\\Anaconda3\\lib\\site-packages\\ipykernel_launcher.py:13: SettingWithCopyWarning: \n",
      "A value is trying to be set on a copy of a slice from a DataFrame.\n",
      "Try using .loc[row_indexer,col_indexer] = value instead\n",
      "\n",
      "See the caveats in the documentation: http://pandas.pydata.org/pandas-docs/stable/user_guide/indexing.html#returning-a-view-versus-a-copy\n",
      "  del sys.path[0]\n",
      "C:\\Users\\wsm26\\Anaconda3\\lib\\site-packages\\ipykernel_launcher.py:14: SettingWithCopyWarning: \n",
      "A value is trying to be set on a copy of a slice from a DataFrame.\n",
      "Try using .loc[row_indexer,col_indexer] = value instead\n",
      "\n",
      "See the caveats in the documentation: http://pandas.pydata.org/pandas-docs/stable/user_guide/indexing.html#returning-a-view-versus-a-copy\n",
      "  \n",
      "C:\\Users\\wsm26\\Anaconda3\\lib\\site-packages\\ipykernel_launcher.py:15: SettingWithCopyWarning: \n",
      "A value is trying to be set on a copy of a slice from a DataFrame.\n",
      "Try using .loc[row_indexer,col_indexer] = value instead\n",
      "\n",
      "See the caveats in the documentation: http://pandas.pydata.org/pandas-docs/stable/user_guide/indexing.html#returning-a-view-versus-a-copy\n",
      "  from ipykernel import kernelapp as app\n",
      "C:\\Users\\wsm26\\Anaconda3\\lib\\site-packages\\ipykernel_launcher.py:16: SettingWithCopyWarning: \n",
      "A value is trying to be set on a copy of a slice from a DataFrame.\n",
      "Try using .loc[row_indexer,col_indexer] = value instead\n",
      "\n",
      "See the caveats in the documentation: http://pandas.pydata.org/pandas-docs/stable/user_guide/indexing.html#returning-a-view-versus-a-copy\n",
      "  app.launch_new_instance()\n"
     ]
    }
   ],
   "source": [
    "price_data=data[['open', 'high', 'low', 'close']]\n",
    "\n",
    "price_data_open=price_data['open'].as_matrix().reshape(-1, 1)\n",
    "price_data_high=price_data['high'].as_matrix().reshape(-1, 1)\n",
    "price_data_low=price_data['low'].as_matrix().reshape(-1, 1)\n",
    "price_data_close=price_data['close'].as_matrix().reshape(-1, 1)\n",
    "\n",
    "sc_open = MinMaxScaler()\n",
    "sc_high = MinMaxScaler()\n",
    "sc_low = MinMaxScaler()\n",
    "sc_close = MinMaxScaler()\n",
    "\n",
    "price_data['open'] = sc_open.fit_transform(price_data_open)\n",
    "price_data['high'] = sc_high.fit_transform(price_data_high)\n",
    "price_data['low'] = sc_low.fit_transform(price_data_low)\n",
    "price_data['close'] = sc_close.fit_transform(price_data_close)\n",
    "\n",
    "price_data=pd.DataFrame(price_data)\n",
    "price_data.columns=['open','high','low','close']"
   ]
  },
  {
   "cell_type": "code",
   "execution_count": 4,
   "metadata": {},
   "outputs": [
    {
     "data": {
      "text/html": [
       "<div>\n",
       "<style scoped>\n",
       "    .dataframe tbody tr th:only-of-type {\n",
       "        vertical-align: middle;\n",
       "    }\n",
       "\n",
       "    .dataframe tbody tr th {\n",
       "        vertical-align: top;\n",
       "    }\n",
       "\n",
       "    .dataframe thead th {\n",
       "        text-align: right;\n",
       "    }\n",
       "</style>\n",
       "<table border=\"1\" class=\"dataframe\">\n",
       "  <thead>\n",
       "    <tr style=\"text-align: right;\">\n",
       "      <th></th>\n",
       "      <th>open</th>\n",
       "      <th>high</th>\n",
       "      <th>low</th>\n",
       "      <th>close</th>\n",
       "    </tr>\n",
       "  </thead>\n",
       "  <tbody>\n",
       "    <tr>\n",
       "      <td>0</td>\n",
       "      <td>0.831907</td>\n",
       "      <td>0.826976</td>\n",
       "      <td>0.827091</td>\n",
       "      <td>0.829785</td>\n",
       "    </tr>\n",
       "    <tr>\n",
       "      <td>1</td>\n",
       "      <td>0.823706</td>\n",
       "      <td>0.830944</td>\n",
       "      <td>0.822460</td>\n",
       "      <td>0.830048</td>\n",
       "    </tr>\n",
       "    <tr>\n",
       "      <td>2</td>\n",
       "      <td>0.827399</td>\n",
       "      <td>0.823370</td>\n",
       "      <td>0.825273</td>\n",
       "      <td>0.827339</td>\n",
       "    </tr>\n",
       "    <tr>\n",
       "      <td>3</td>\n",
       "      <td>0.833472</td>\n",
       "      <td>0.826920</td>\n",
       "      <td>0.826866</td>\n",
       "      <td>0.823953</td>\n",
       "    </tr>\n",
       "    <tr>\n",
       "      <td>4</td>\n",
       "      <td>0.834335</td>\n",
       "      <td>0.828202</td>\n",
       "      <td>0.830697</td>\n",
       "      <td>0.829833</td>\n",
       "    </tr>\n",
       "  </tbody>\n",
       "</table>\n",
       "</div>"
      ],
      "text/plain": [
       "       open      high       low     close\n",
       "0  0.831907  0.826976  0.827091  0.829785\n",
       "1  0.823706  0.830944  0.822460  0.830048\n",
       "2  0.827399  0.823370  0.825273  0.827339\n",
       "3  0.833472  0.826920  0.826866  0.823953\n",
       "4  0.834335  0.828202  0.830697  0.829833"
      ]
     },
     "execution_count": 4,
     "metadata": {},
     "output_type": "execute_result"
    }
   ],
   "source": [
    "price_data.head()"
   ]
  },
  {
   "cell_type": "markdown",
   "metadata": {},
   "source": [
    "### y value include"
   ]
  },
  {
   "cell_type": "markdown",
   "metadata": {},
   "source": [
    "this model will predict 5 days later with 5 days price imformation\n",
    "- -> example 1,2,3,4,5 day kospi information -> predict 10 day kospi close"
   ]
  },
  {
   "cell_type": "code",
   "execution_count": 5,
   "metadata": {},
   "outputs": [],
   "source": [
    "data_close = price_data[[\"close\"]]\n",
    "data_close = data_close[10:].reset_index()[[\"close\"]]\n",
    "data_close = data_close.rename(columns = {\"close\" : \"y\"})"
   ]
  },
  {
   "cell_type": "code",
   "execution_count": 6,
   "metadata": {},
   "outputs": [
    {
     "data": {
      "text/html": [
       "<div>\n",
       "<style scoped>\n",
       "    .dataframe tbody tr th:only-of-type {\n",
       "        vertical-align: middle;\n",
       "    }\n",
       "\n",
       "    .dataframe tbody tr th {\n",
       "        vertical-align: top;\n",
       "    }\n",
       "\n",
       "    .dataframe thead th {\n",
       "        text-align: right;\n",
       "    }\n",
       "</style>\n",
       "<table border=\"1\" class=\"dataframe\">\n",
       "  <thead>\n",
       "    <tr style=\"text-align: right;\">\n",
       "      <th></th>\n",
       "      <th>open</th>\n",
       "      <th>high</th>\n",
       "      <th>low</th>\n",
       "      <th>close</th>\n",
       "      <th>y</th>\n",
       "    </tr>\n",
       "  </thead>\n",
       "  <tbody>\n",
       "    <tr>\n",
       "      <td>0</td>\n",
       "      <td>0.831907</td>\n",
       "      <td>0.826976</td>\n",
       "      <td>0.827091</td>\n",
       "      <td>0.829785</td>\n",
       "      <td>0.815399</td>\n",
       "    </tr>\n",
       "    <tr>\n",
       "      <td>1</td>\n",
       "      <td>0.823706</td>\n",
       "      <td>0.830944</td>\n",
       "      <td>0.822460</td>\n",
       "      <td>0.830048</td>\n",
       "      <td>0.801207</td>\n",
       "    </tr>\n",
       "    <tr>\n",
       "      <td>2</td>\n",
       "      <td>0.827399</td>\n",
       "      <td>0.823370</td>\n",
       "      <td>0.825273</td>\n",
       "      <td>0.827339</td>\n",
       "      <td>0.787520</td>\n",
       "    </tr>\n",
       "    <tr>\n",
       "      <td>3</td>\n",
       "      <td>0.833472</td>\n",
       "      <td>0.826920</td>\n",
       "      <td>0.826866</td>\n",
       "      <td>0.823953</td>\n",
       "      <td>0.784233</td>\n",
       "    </tr>\n",
       "    <tr>\n",
       "      <td>4</td>\n",
       "      <td>0.834335</td>\n",
       "      <td>0.828202</td>\n",
       "      <td>0.830697</td>\n",
       "      <td>0.829833</td>\n",
       "      <td>0.780199</td>\n",
       "    </tr>\n",
       "  </tbody>\n",
       "</table>\n",
       "</div>"
      ],
      "text/plain": [
       "       open      high       low     close         y\n",
       "0  0.831907  0.826976  0.827091  0.829785  0.815399\n",
       "1  0.823706  0.830944  0.822460  0.830048  0.801207\n",
       "2  0.827399  0.823370  0.825273  0.827339  0.787520\n",
       "3  0.833472  0.826920  0.826866  0.823953  0.784233\n",
       "4  0.834335  0.828202  0.830697  0.829833  0.780199"
      ]
     },
     "execution_count": 6,
     "metadata": {},
     "output_type": "execute_result"
    }
   ],
   "source": [
    "result = pd.concat([price_data,data_close], axis=1)\n",
    "result = result[:-10]\n",
    "result.head()"
   ]
  },
  {
   "cell_type": "code",
   "execution_count": 7,
   "metadata": {
    "scrolled": true
   },
   "outputs": [],
   "source": [
    "y=result['y']"
   ]
  },
  {
   "cell_type": "markdown",
   "metadata": {},
   "source": [
    "### to make group using 5 days kospi"
   ]
  },
  {
   "cell_type": "code",
   "execution_count": 8,
   "metadata": {},
   "outputs": [
    {
     "data": {
      "text/plain": [
       "7933"
      ]
     },
     "execution_count": 8,
     "metadata": {},
     "output_type": "execute_result"
    }
   ],
   "source": [
    "len(result)"
   ]
  },
  {
   "cell_type": "code",
   "execution_count": 9,
   "metadata": {},
   "outputs": [
    {
     "name": "stderr",
     "output_type": "stream",
     "text": [
      "C:\\Users\\wsm26\\Anaconda3\\lib\\site-packages\\ipykernel_launcher.py:1: FutureWarning: Method .as_matrix will be removed in a future version. Use .values instead.\n",
      "  \"\"\"Entry point for launching an IPython kernel.\n"
     ]
    }
   ],
   "source": [
    "d_matrix=price_data.as_matrix()\n",
    "\n",
    "p_result =[]\n",
    "for i in range(len(price_data)-10):\n",
    "    for j in range(5):\n",
    "        p_result.append(d_matrix[i+j])"
   ]
  },
  {
   "cell_type": "code",
   "execution_count": 10,
   "metadata": {},
   "outputs": [
    {
     "data": {
      "text/plain": [
       "array([[[0.83190724, 0.82697564, 0.8270914 , 0.82978531],\n",
       "        [0.82370611, 0.83094353, 0.82245972, 0.83004844],\n",
       "        [0.82739922, 0.82337042, 0.82527336, 0.82733943],\n",
       "        [0.83347204, 0.82691951, 0.8268663 , 0.82395317],\n",
       "        [0.83433463, 0.82820184, 0.83069718, 0.82983276]],\n",
       "\n",
       "       [[0.82370611, 0.83094353, 0.82245972, 0.83004844],\n",
       "        [0.82739922, 0.82337042, 0.82527336, 0.82733943],\n",
       "        [0.83347204, 0.82691951, 0.8268663 , 0.82395317],\n",
       "        [0.83433463, 0.82820184, 0.83069718, 0.82983276],\n",
       "        [0.83318596, 0.82717425, 0.8299916 , 0.8300355 ]],\n",
       "\n",
       "       [[0.82739922, 0.82337042, 0.82527336, 0.82733943],\n",
       "        [0.83347204, 0.82691951, 0.8268663 , 0.82395317],\n",
       "        [0.83433463, 0.82820184, 0.83069718, 0.82983276],\n",
       "        [0.83318596, 0.82717425, 0.8299916 , 0.8300355 ],\n",
       "        [0.83052016, 0.82627186, 0.82643777, 0.82674845]],\n",
       "\n",
       "       ...,\n",
       "\n",
       "       [[0.27292154, 0.26856901, 0.27196149, 0.26991748],\n",
       "        [0.27451669, 0.2710171 , 0.27564952, 0.27342021],\n",
       "        [0.27205462, 0.2690569 , 0.27408254, 0.27356256],\n",
       "        [0.27416992, 0.27096961, 0.27561489, 0.27352805],\n",
       "        [0.27549632, 0.27173814, 0.2757534 , 0.27481785]],\n",
       "\n",
       "       [[0.27451669, 0.2710171 , 0.27564952, 0.27342021],\n",
       "        [0.27205462, 0.2690569 , 0.27408254, 0.27356256],\n",
       "        [0.27416992, 0.27096961, 0.27561489, 0.27352805],\n",
       "        [0.27549632, 0.27173814, 0.2757534 , 0.27481785],\n",
       "        [0.27175553, 0.26980817, 0.27399597, 0.27386452]],\n",
       "\n",
       "       [[0.27205462, 0.2690569 , 0.27408254, 0.27356256],\n",
       "        [0.27416992, 0.27096961, 0.27561489, 0.27352805],\n",
       "        [0.27549632, 0.27173814, 0.2757534 , 0.27481785],\n",
       "        [0.27175553, 0.26980817, 0.27399597, 0.27386452],\n",
       "        [0.26866493, 0.2655769 , 0.27029496, 0.2700814 ]]])"
      ]
     },
     "execution_count": 10,
     "metadata": {},
     "output_type": "execute_result"
    }
   ],
   "source": [
    "p_result=np.array(p_result)\n",
    "p_result=p_result.reshape((len(d_matrix)-10,5,4))\n",
    "p_result"
   ]
  },
  {
   "cell_type": "code",
   "execution_count": 11,
   "metadata": {},
   "outputs": [
    {
     "data": {
      "text/plain": [
       "array([[0.83190724, 0.82697564, 0.8270914 , 0.82978531],\n",
       "       [0.82370611, 0.83094353, 0.82245972, 0.83004844],\n",
       "       [0.82739922, 0.82337042, 0.82527336, 0.82733943],\n",
       "       [0.83347204, 0.82691951, 0.8268663 , 0.82395317],\n",
       "       [0.83433463, 0.82820184, 0.83069718, 0.82983276]])"
      ]
     },
     "execution_count": 11,
     "metadata": {},
     "output_type": "execute_result"
    }
   ],
   "source": [
    "p_result[0]"
   ]
  },
  {
   "cell_type": "markdown",
   "metadata": {},
   "source": [
    "### make train, test set"
   ]
  },
  {
   "cell_type": "code",
   "execution_count": 12,
   "metadata": {},
   "outputs": [
    {
     "data": {
      "text/plain": [
       "7923"
      ]
     },
     "execution_count": 12,
     "metadata": {},
     "output_type": "execute_result"
    }
   ],
   "source": [
    "len(result)-10"
   ]
  },
  {
   "cell_type": "code",
   "execution_count": 13,
   "metadata": {},
   "outputs": [
    {
     "data": {
      "text/plain": [
       "872"
      ]
     },
     "execution_count": 13,
     "metadata": {},
     "output_type": "execute_result"
    }
   ],
   "source": [
    "int(969*0.9)"
   ]
  },
  {
   "cell_type": "code",
   "execution_count": 14,
   "metadata": {},
   "outputs": [],
   "source": [
    "X_train,X_test = p_result[:int(len(p_result)*0.9)],p_result[int(len(p_result)*0.9):]\n",
    "y_train,y_test = y[:int(len(p_result)*0.9)],y[int(len(p_result)*0.9):]"
   ]
  },
  {
   "cell_type": "code",
   "execution_count": 15,
   "metadata": {},
   "outputs": [
    {
     "data": {
      "text/plain": [
       "array([[[0.83190724, 0.82697564, 0.8270914 , 0.82978531],\n",
       "        [0.82370611, 0.83094353, 0.82245972, 0.83004844],\n",
       "        [0.82739922, 0.82337042, 0.82527336, 0.82733943],\n",
       "        [0.83347204, 0.82691951, 0.8268663 , 0.82395317],\n",
       "        [0.83433463, 0.82820184, 0.83069718, 0.82983276]],\n",
       "\n",
       "       [[0.82370611, 0.83094353, 0.82245972, 0.83004844],\n",
       "        [0.82739922, 0.82337042, 0.82527336, 0.82733943],\n",
       "        [0.83347204, 0.82691951, 0.8268663 , 0.82395317],\n",
       "        [0.83433463, 0.82820184, 0.83069718, 0.82983276],\n",
       "        [0.83318596, 0.82717425, 0.8299916 , 0.8300355 ]],\n",
       "\n",
       "       [[0.82739922, 0.82337042, 0.82527336, 0.82733943],\n",
       "        [0.83347204, 0.82691951, 0.8268663 , 0.82395317],\n",
       "        [0.83433463, 0.82820184, 0.83069718, 0.82983276],\n",
       "        [0.83318596, 0.82717425, 0.8299916 , 0.8300355 ],\n",
       "        [0.83052016, 0.82627186, 0.82643777, 0.82674845]],\n",
       "\n",
       "       ...,\n",
       "\n",
       "       [[0.13500217, 0.13190334, 0.13424928, 0.13265522],\n",
       "        [0.13725184, 0.13395852, 0.13712784, 0.13571795],\n",
       "        [0.13887733, 0.13675634, 0.13933113, 0.1377152 ],\n",
       "        [0.14357174, 0.14025362, 0.14107992, 0.13947951],\n",
       "        [0.14653663, 0.14363863, 0.14478525, 0.14315048]],\n",
       "\n",
       "       [[0.13725184, 0.13395852, 0.13712784, 0.13571795],\n",
       "        [0.13887733, 0.13675634, 0.13933113, 0.1377152 ],\n",
       "        [0.14357174, 0.14025362, 0.14107992, 0.13947951],\n",
       "        [0.14653663, 0.14363863, 0.14478525, 0.14315048],\n",
       "        [0.14602948, 0.14517139, 0.14844298, 0.1468085 ]],\n",
       "\n",
       "       [[0.13887733, 0.13675634, 0.13933113, 0.1377152 ],\n",
       "        [0.14357174, 0.14025362, 0.14107992, 0.13947951],\n",
       "        [0.14653663, 0.14363863, 0.14478525, 0.14315048],\n",
       "        [0.14602948, 0.14517139, 0.14844298, 0.1468085 ],\n",
       "        [0.14547464, 0.14180796, 0.14513588, 0.14448773]]])"
      ]
     },
     "execution_count": 15,
     "metadata": {},
     "output_type": "execute_result"
    }
   ],
   "source": [
    "X_train"
   ]
  },
  {
   "cell_type": "code",
   "execution_count": 16,
   "metadata": {
    "scrolled": false
   },
   "outputs": [
    {
     "data": {
      "text/plain": [
       "array([[[0.14357174, 0.14025362, 0.14107992, 0.13947951],\n",
       "        [0.14653663, 0.14363863, 0.14478525, 0.14315048],\n",
       "        [0.14602948, 0.14517139, 0.14844298, 0.1468085 ],\n",
       "        [0.14547464, 0.14180796, 0.14513588, 0.14448773],\n",
       "        [0.14440399, 0.14446762, 0.14681973, 0.14682576]],\n",
       "\n",
       "       [[0.14653663, 0.14363863, 0.14478525, 0.14315048],\n",
       "        [0.14602948, 0.14517139, 0.14844298, 0.1468085 ],\n",
       "        [0.14547464, 0.14180796, 0.14513588, 0.14448773],\n",
       "        [0.14440399, 0.14446762, 0.14681973, 0.14682576],\n",
       "        [0.14351539, 0.14262399, 0.14473331, 0.14492772]],\n",
       "\n",
       "       [[0.14602948, 0.14517139, 0.14844298, 0.1468085 ],\n",
       "        [0.14547464, 0.14180796, 0.14513588, 0.14448773],\n",
       "        [0.14440399, 0.14446762, 0.14681973, 0.14682576],\n",
       "        [0.14351539, 0.14262399, 0.14473331, 0.14492772],\n",
       "        [0.1373212 , 0.1389022 , 0.13920127, 0.14352577]],\n",
       "\n",
       "       ...,\n",
       "\n",
       "       [[0.27292154, 0.26856901, 0.27196149, 0.26991748],\n",
       "        [0.27451669, 0.2710171 , 0.27564952, 0.27342021],\n",
       "        [0.27205462, 0.2690569 , 0.27408254, 0.27356256],\n",
       "        [0.27416992, 0.27096961, 0.27561489, 0.27352805],\n",
       "        [0.27549632, 0.27173814, 0.2757534 , 0.27481785]],\n",
       "\n",
       "       [[0.27451669, 0.2710171 , 0.27564952, 0.27342021],\n",
       "        [0.27205462, 0.2690569 , 0.27408254, 0.27356256],\n",
       "        [0.27416992, 0.27096961, 0.27561489, 0.27352805],\n",
       "        [0.27549632, 0.27173814, 0.2757534 , 0.27481785],\n",
       "        [0.27175553, 0.26980817, 0.27399597, 0.27386452]],\n",
       "\n",
       "       [[0.27205462, 0.2690569 , 0.27408254, 0.27356256],\n",
       "        [0.27416992, 0.27096961, 0.27561489, 0.27352805],\n",
       "        [0.27549632, 0.27173814, 0.2757534 , 0.27481785],\n",
       "        [0.27175553, 0.26980817, 0.27399597, 0.27386452],\n",
       "        [0.26866493, 0.2655769 , 0.27029496, 0.2700814 ]]])"
      ]
     },
     "execution_count": 16,
     "metadata": {},
     "output_type": "execute_result"
    }
   ],
   "source": [
    "X_test"
   ]
  },
  {
   "cell_type": "code",
   "execution_count": 17,
   "metadata": {},
   "outputs": [
    {
     "data": {
      "text/plain": [
       "0       0.815399\n",
       "1       0.801207\n",
       "2       0.787520\n",
       "3       0.784233\n",
       "4       0.780199\n",
       "          ...   \n",
       "7134    0.144928\n",
       "7135    0.143526\n",
       "7136    0.136848\n",
       "7137    0.141511\n",
       "7138    0.135830\n",
       "Name: y, Length: 7139, dtype: float64"
      ]
     },
     "execution_count": 17,
     "metadata": {},
     "output_type": "execute_result"
    }
   ],
   "source": [
    "y_train"
   ]
  },
  {
   "cell_type": "code",
   "execution_count": 18,
   "metadata": {},
   "outputs": [
    {
     "data": {
      "text/plain": [
       "7913    0.289480\n",
       "7914    0.281181\n",
       "7915    0.275439\n",
       "7916    0.269974\n",
       "7917    0.268805\n",
       "7918    0.268257\n",
       "7919    0.269516\n",
       "7920    0.269917\n",
       "7921    0.273420\n",
       "7922    0.273563\n",
       "7923    0.273528\n",
       "7924    0.274818\n",
       "7925    0.273865\n",
       "7926    0.270081\n",
       "7927    0.267735\n",
       "7928    0.266419\n",
       "7929    0.262882\n",
       "7930    0.263481\n",
       "7931    0.264965\n",
       "7932    0.263559\n",
       "Name: y, dtype: float64"
      ]
     },
     "execution_count": 18,
     "metadata": {},
     "output_type": "execute_result"
    }
   ],
   "source": [
    "y_test[-20:]"
   ]
  },
  {
   "cell_type": "markdown",
   "metadata": {},
   "source": [
    "### model"
   ]
  },
  {
   "cell_type": "code",
   "execution_count": 19,
   "metadata": {},
   "outputs": [],
   "source": [
    "model = Sequential()\n",
    "\n",
    "model.add(LSTM(units=100, input_shape=(5,4)))\n",
    "model.add(Dense(units=1))\n",
    "model.add(Dropout(0.1))"
   ]
  },
  {
   "cell_type": "code",
   "execution_count": 20,
   "metadata": {
    "scrolled": true
   },
   "outputs": [
    {
     "name": "stdout",
     "output_type": "stream",
     "text": [
      "Model: \"sequential_1\"\n",
      "_________________________________________________________________\n",
      "Layer (type)                 Output Shape              Param #   \n",
      "=================================================================\n",
      "lstm_1 (LSTM)                (None, 100)               42000     \n",
      "_________________________________________________________________\n",
      "dense_1 (Dense)              (None, 1)                 101       \n",
      "_________________________________________________________________\n",
      "dropout_1 (Dropout)          (None, 1)                 0         \n",
      "=================================================================\n",
      "Total params: 42,101\n",
      "Trainable params: 42,101\n",
      "Non-trainable params: 0\n",
      "_________________________________________________________________\n"
     ]
    }
   ],
   "source": [
    "model.summary()"
   ]
  },
  {
   "cell_type": "markdown",
   "metadata": {},
   "source": [
    "### model train"
   ]
  },
  {
   "cell_type": "code",
   "execution_count": 21,
   "metadata": {
    "scrolled": false
   },
   "outputs": [
    {
     "name": "stdout",
     "output_type": "stream",
     "text": [
      "Epoch 1/100\n",
      "7139/7139 [==============================] - 4s 591us/step - loss: 0.0257\n",
      "Epoch 2/100\n",
      "7139/7139 [==============================] - 4s 563us/step - loss: 0.0285\n",
      "Epoch 3/100\n",
      "7139/7139 [==============================] - 4s 508us/step - loss: 0.0265\n",
      "Epoch 4/100\n",
      "7139/7139 [==============================] - 3s 453us/step - loss: 0.0274\n",
      "Epoch 5/100\n",
      "7139/7139 [==============================] - 3s 459us/step - loss: 0.0247\n",
      "Epoch 6/100\n",
      "7139/7139 [==============================] - 4s 515us/step - loss: 0.0259\n",
      "Epoch 7/100\n",
      "7139/7139 [==============================] - 4s 499us/step - loss: 0.0271\n",
      "Epoch 8/100\n",
      "7139/7139 [==============================] - 4s 572us/step - loss: 0.0266\n",
      "Epoch 9/100\n",
      "7139/7139 [==============================] - 4s 517us/step - loss: 0.0262\n",
      "Epoch 10/100\n",
      "7139/7139 [==============================] - 3s 481us/step - loss: 0.0277\n",
      "Epoch 11/100\n",
      "7139/7139 [==============================] - 4s 522us/step - loss: 0.0271\n",
      "Epoch 12/100\n",
      "7139/7139 [==============================] - 3s 473us/step - loss: 0.0274\n",
      "Epoch 13/100\n",
      "7139/7139 [==============================] - 3s 481us/step - loss: 0.0243\n",
      "Epoch 14/100\n",
      "7139/7139 [==============================] - 4s 544us/step - loss: 0.0250\n",
      "Epoch 15/100\n",
      "7139/7139 [==============================] - 4s 499us/step - loss: 0.0278\n",
      "Epoch 16/100\n",
      "7139/7139 [==============================] - 4s 580us/step - loss: 0.0234\n",
      "Epoch 17/100\n",
      "7139/7139 [==============================] - 3s 457us/step - loss: 0.0286\n",
      "Epoch 18/100\n",
      "7139/7139 [==============================] - 4s 498us/step - loss: 0.0284\n",
      "Epoch 19/100\n",
      "7139/7139 [==============================] - 4s 532us/step - loss: 0.0267\n",
      "Epoch 20/100\n",
      "7139/7139 [==============================] - 4s 497us/step - loss: 0.0277 0s -\n",
      "Epoch 21/100\n",
      "7139/7139 [==============================] - 3s 474us/step - loss: 0.0268\n",
      "Epoch 22/100\n",
      "7139/7139 [==============================] - 4s 502us/step - loss: 0.0274\n",
      "Epoch 23/100\n",
      "7139/7139 [==============================] - 4s 496us/step - loss: 0.0282\n",
      "Epoch 24/100\n",
      "7139/7139 [==============================] - 4s 528us/step - loss: 0.0270\n",
      "Epoch 25/100\n",
      "7139/7139 [==============================] - 3s 474us/step - loss: 0.0268\n",
      "Epoch 26/100\n",
      "7139/7139 [==============================] - 4s 569us/step - loss: 0.0269\n",
      "Epoch 27/100\n",
      "7139/7139 [==============================] - 3s 442us/step - loss: 0.0281\n",
      "Epoch 28/100\n",
      "7139/7139 [==============================] - 4s 536us/step - loss: 0.0253\n",
      "Epoch 29/100\n",
      "7139/7139 [==============================] - 4s 559us/step - loss: 0.0267\n",
      "Epoch 30/100\n",
      "7139/7139 [==============================] - 4s 539us/step - loss: 0.0263\n",
      "Epoch 31/100\n",
      "7139/7139 [==============================] - 4s 516us/step - loss: 0.0253\n",
      "Epoch 32/100\n",
      "7139/7139 [==============================] - 3s 486us/step - loss: 0.0266\n",
      "Epoch 33/100\n",
      "7139/7139 [==============================] - 3s 476us/step - loss: 0.0252\n",
      "Epoch 34/100\n",
      "7139/7139 [==============================] - 3s 467us/step - loss: 0.0258\n",
      "Epoch 35/100\n",
      "7139/7139 [==============================] - 3s 469us/step - loss: 0.0261\n",
      "Epoch 36/100\n",
      "7139/7139 [==============================] - 4s 524us/step - loss: 0.0266\n",
      "Epoch 37/100\n",
      "7139/7139 [==============================] - 4s 558us/step - loss: 0.0251\n",
      "Epoch 38/100\n",
      "7139/7139 [==============================] - 3s 482us/step - loss: 0.0283\n",
      "Epoch 39/100\n",
      "7139/7139 [==============================] - 3s 470us/step - loss: 0.0255\n",
      "Epoch 40/100\n",
      "7139/7139 [==============================] - 3s 441us/step - loss: 0.0284\n",
      "Epoch 41/100\n",
      "7139/7139 [==============================] - 4s 530us/step - loss: 0.0256\n",
      "Epoch 42/100\n",
      "7139/7139 [==============================] - 3s 457us/step - loss: 0.0275\n",
      "Epoch 43/100\n",
      "7139/7139 [==============================] - 3s 432us/step - loss: 0.0237\n",
      "Epoch 44/100\n",
      "7139/7139 [==============================] - 3s 440us/step - loss: 0.0258\n",
      "Epoch 45/100\n",
      "7139/7139 [==============================] - 3s 437us/step - loss: 0.0269\n",
      "Epoch 46/100\n",
      "7139/7139 [==============================] - 3s 457us/step - loss: 0.0234\n",
      "Epoch 47/100\n",
      "7139/7139 [==============================] - 3s 438us/step - loss: 0.0266\n",
      "Epoch 48/100\n",
      "7139/7139 [==============================] - 3s 441us/step - loss: 0.0251\n",
      "Epoch 49/100\n",
      "7139/7139 [==============================] - 3s 441us/step - loss: 0.0252\n",
      "Epoch 50/100\n",
      "7139/7139 [==============================] - 3s 460us/step - loss: 0.0264\n",
      "Epoch 51/100\n",
      "7139/7139 [==============================] - 4s 523us/step - loss: 0.0253\n",
      "Epoch 52/100\n",
      "7139/7139 [==============================] - 4s 548us/step - loss: 0.0277\n",
      "Epoch 53/100\n",
      "7139/7139 [==============================] - 3s 448us/step - loss: 0.0272\n",
      "Epoch 54/100\n",
      "7139/7139 [==============================] - 4s 533us/step - loss: 0.0253\n",
      "Epoch 55/100\n",
      "7139/7139 [==============================] - 3s 482us/step - loss: 0.0273\n",
      "Epoch 56/100\n",
      "7139/7139 [==============================] - 4s 511us/step - loss: 0.0267\n",
      "Epoch 57/100\n",
      "7139/7139 [==============================] - 3s 438us/step - loss: 0.0261\n",
      "Epoch 58/100\n",
      "7139/7139 [==============================] - 3s 444us/step - loss: 0.0267\n",
      "Epoch 59/100\n",
      "7139/7139 [==============================] - 3s 442us/step - loss: 0.0253\n",
      "Epoch 60/100\n",
      "7139/7139 [==============================] - 4s 505us/step - loss: 0.0240\n",
      "Epoch 61/100\n",
      "7139/7139 [==============================] - 3s 436us/step - loss: 0.0261\n",
      "Epoch 62/100\n",
      "7139/7139 [==============================] - 4s 531us/step - loss: 0.0270\n",
      "Epoch 63/100\n",
      "7139/7139 [==============================] - 3s 444us/step - loss: 0.0272\n",
      "Epoch 64/100\n",
      "7139/7139 [==============================] - 3s 458us/step - loss: 0.0266\n",
      "Epoch 65/100\n",
      "7139/7139 [==============================] - 4s 569us/step - loss: 0.0268\n",
      "Epoch 66/100\n",
      "7139/7139 [==============================] - 4s 542us/step - loss: 0.0281\n",
      "Epoch 67/100\n",
      "7139/7139 [==============================] - 4s 525us/step - loss: 0.0290\n",
      "Epoch 68/100\n",
      "7139/7139 [==============================] - 4s 573us/step - loss: 0.0258\n",
      "Epoch 69/100\n",
      "7139/7139 [==============================] - 4s 536us/step - loss: 0.0274\n",
      "Epoch 70/100\n",
      "7139/7139 [==============================] - 5s 660us/step - loss: 0.0281\n",
      "Epoch 71/100\n",
      "7139/7139 [==============================] - 4s 528us/step - loss: 0.0275\n",
      "Epoch 72/100\n",
      "7139/7139 [==============================] - 4s 492us/step - loss: 0.0273\n",
      "Epoch 73/100\n",
      "7139/7139 [==============================] - 3s 462us/step - loss: 0.0265\n",
      "Epoch 74/100\n",
      "7139/7139 [==============================] - 3s 442us/step - loss: 0.0264\n",
      "Epoch 75/100\n",
      "7139/7139 [==============================] - 3s 467us/step - loss: 0.0306\n",
      "Epoch 76/100\n",
      "7139/7139 [==============================] - 3s 454us/step - loss: 0.0278\n",
      "Epoch 77/100\n",
      "7139/7139 [==============================] - 3s 454us/step - loss: 0.0287\n",
      "Epoch 78/100\n",
      "7139/7139 [==============================] - 3s 453us/step - loss: 0.0251\n",
      "Epoch 79/100\n",
      "7139/7139 [==============================] - 3s 464us/step - loss: 0.0256\n",
      "Epoch 80/100\n",
      "7139/7139 [==============================] - 4s 526us/step - loss: 0.0264\n",
      "Epoch 81/100\n",
      "7139/7139 [==============================] - 3s 441us/step - loss: 0.0273\n",
      "Epoch 82/100\n",
      "7139/7139 [==============================] - 3s 484us/step - loss: 0.0268\n",
      "Epoch 83/100\n",
      "7139/7139 [==============================] - 3s 471us/step - loss: 0.0279\n",
      "Epoch 84/100\n",
      "7139/7139 [==============================] - 4s 557us/step - loss: 0.0252\n",
      "Epoch 85/100\n",
      "7139/7139 [==============================] - 4s 542us/step - loss: 0.0257\n",
      "Epoch 86/100\n",
      "7139/7139 [==============================] - 5s 761us/step - loss: 0.0264\n",
      "Epoch 87/100\n",
      "7139/7139 [==============================] - 4s 562us/step - loss: 0.0292\n",
      "Epoch 88/100\n",
      "7139/7139 [==============================] - 4s 544us/step - loss: 0.0272\n",
      "Epoch 89/100\n",
      "7139/7139 [==============================] - 3s 451us/step - loss: 0.0263\n",
      "Epoch 90/100\n",
      "7139/7139 [==============================] - 4s 514us/step - loss: 0.0239\n",
      "Epoch 91/100\n",
      "7139/7139 [==============================] - 3s 473us/step - loss: 0.0267\n",
      "Epoch 92/100\n",
      "7139/7139 [==============================] - 3s 457us/step - loss: 0.0264\n",
      "Epoch 93/100\n",
      "7139/7139 [==============================] - 3s 445us/step - loss: 0.0279\n",
      "Epoch 94/100\n",
      "7139/7139 [==============================] - 3s 446us/step - loss: 0.0257\n",
      "Epoch 95/100\n"
     ]
    },
    {
     "name": "stdout",
     "output_type": "stream",
     "text": [
      "7139/7139 [==============================] - 3s 444us/step - loss: 0.0270\n",
      "Epoch 96/100\n",
      "7139/7139 [==============================] - 4s 535us/step - loss: 0.0260\n",
      "Epoch 97/100\n",
      "7139/7139 [==============================] - 4s 544us/step - loss: 0.0268\n",
      "Epoch 98/100\n",
      "7139/7139 [==============================] - 4s 566us/step - loss: 0.0263\n",
      "Epoch 99/100\n",
      "7139/7139 [==============================] - 4s 493us/step - loss: 0.0259\n",
      "Epoch 100/100\n",
      "7139/7139 [==============================] - 3s 436us/step - loss: 0.0250\n"
     ]
    },
    {
     "data": {
      "text/plain": [
       "<keras.callbacks.callbacks.History at 0x2b42ac50a08>"
      ]
     },
     "execution_count": 21,
     "metadata": {},
     "output_type": "execute_result"
    }
   ],
   "source": [
    "model.compile(optimizer='rmsprop', loss='mean_squared_error')\n",
    "model.fit(X_train, y_train, epochs=100, batch_size=12)"
   ]
  },
  {
   "cell_type": "markdown",
   "metadata": {},
   "source": [
    "### accuracy"
   ]
  },
  {
   "cell_type": "code",
   "execution_count": 22,
   "metadata": {},
   "outputs": [
    {
     "name": "stdout",
     "output_type": "stream",
     "text": [
      "RMSE = 0.02553430596902424\n",
      "std =0.01148330601951726\n"
     ]
    }
   ],
   "source": [
    "predicted = model.predict(X_test)\n",
    "predicted.shape , y_test.shape\n",
    "RMSE = mean_squared_error(y_test, predicted)**0.5    \n",
    "print(\"RMSE =\" ,RMSE)\n",
    "error = y_test.values - predicted.reshape(1,-1)\n",
    "print(\"std ={}\" .format(np.std(error)))"
   ]
  }
 ],
 "metadata": {
  "kernelspec": {
   "display_name": "Python 3",
   "language": "python",
   "name": "python3"
  },
  "language_info": {
   "codemirror_mode": {
    "name": "ipython",
    "version": 3
   },
   "file_extension": ".py",
   "mimetype": "text/x-python",
   "name": "python",
   "nbconvert_exporter": "python",
   "pygments_lexer": "ipython3",
   "version": "3.7.4"
  }
 },
 "nbformat": 4,
 "nbformat_minor": 2
}
