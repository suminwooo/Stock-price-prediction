{
 "cells": [
  {
   "cell_type": "code",
   "execution_count": 1,
   "metadata": {},
   "outputs": [],
   "source": [
    "import pandas as pd\n",
    "import numpy as np"
   ]
  },
  {
   "cell_type": "markdown",
   "metadata": {},
   "source": [
    "## 기술적 지표를 위한 주식 가격 데이터 프레임"
   ]
  },
  {
   "cell_type": "markdown",
   "metadata": {},
   "source": [
    "전처리의 목적은 기술적 지표와 기본적 지표를 미리 세팅해두고 다음날 값을 예측하기 위함이다.  \n",
    "따라서 기술적 지표는 다음과 같이 설정한다.(목표 : 오늘의 가격을 토대로 내일의 종가 예측)    \n",
    "즉, 예를 들면 2020년 2월 20일에 2월 21일 가격을 예측한다고 가정하면,   \n",
    "- 1번, 4번,5번 은 2월20일과 19일을 이용하여 구한다.  \n",
    "- 2번, 3번은 2월20일 종가와 시가를 이용한다.\n",
    "- 6번~8번은 평균을 20일로 잡았으므로 지금 데이터셋이 2017년 1월부터 train set이므로 2017년1월1일을 기준으로 20일전평균을 구하면서 시작한다. 나머지는 하루전의 데이터만 추가로 활용한다.\n",
    "- 여기서 1~8번 변수는 각각 A,B,C,D,E,F,G,H 라 설정"
   ]
  },
  {
   "cell_type": "code",
   "execution_count": 2,
   "metadata": {},
   "outputs": [],
   "source": [
    "data1 = pd.read_csv('data/samsung2.csv')\n",
    "data1 = data1[['Date','Open','High','Low','Close','Volume']]\n",
    "data1 = data1.set_index('Date')\n",
    "data1 = data1.loc['2016-12-01':'2019-12-31']"
   ]
  },
  {
   "cell_type": "code",
   "execution_count": 3,
   "metadata": {
    "scrolled": true
   },
   "outputs": [],
   "source": [
    "data_145=data1[20:] #1,4,5번은 이를 이용\n",
    "data_23=data1[21:] # 2,3은 이를 이용\n",
    "data_678=data1[1:] # 6,7,8은 이를 이용"
   ]
  },
  {
   "cell_type": "code",
   "execution_count": 4,
   "metadata": {},
   "outputs": [
    {
     "data": {
      "text/html": [
       "<div>\n",
       "<style scoped>\n",
       "    .dataframe tbody tr th:only-of-type {\n",
       "        vertical-align: middle;\n",
       "    }\n",
       "\n",
       "    .dataframe tbody tr th {\n",
       "        vertical-align: top;\n",
       "    }\n",
       "\n",
       "    .dataframe thead th {\n",
       "        text-align: right;\n",
       "    }\n",
       "</style>\n",
       "<table border=\"1\" class=\"dataframe\">\n",
       "  <thead>\n",
       "    <tr style=\"text-align: right;\">\n",
       "      <th></th>\n",
       "      <th>Open</th>\n",
       "      <th>High</th>\n",
       "      <th>Low</th>\n",
       "      <th>Close</th>\n",
       "      <th>Volume</th>\n",
       "    </tr>\n",
       "    <tr>\n",
       "      <th>Date</th>\n",
       "      <th></th>\n",
       "      <th></th>\n",
       "      <th></th>\n",
       "      <th></th>\n",
       "      <th></th>\n",
       "    </tr>\n",
       "  </thead>\n",
       "  <tbody>\n",
       "    <tr>\n",
       "      <td>2016-12-29</td>\n",
       "      <td>35420</td>\n",
       "      <td>36040</td>\n",
       "      <td>35400</td>\n",
       "      <td>36040</td>\n",
       "      <td>7516450</td>\n",
       "    </tr>\n",
       "    <tr>\n",
       "      <td>2017-01-02</td>\n",
       "      <td>35980</td>\n",
       "      <td>36240</td>\n",
       "      <td>35880</td>\n",
       "      <td>36100</td>\n",
       "      <td>4650600</td>\n",
       "    </tr>\n",
       "    <tr>\n",
       "      <td>2017-01-03</td>\n",
       "      <td>36280</td>\n",
       "      <td>36620</td>\n",
       "      <td>36020</td>\n",
       "      <td>36480</td>\n",
       "      <td>7357650</td>\n",
       "    </tr>\n",
       "    <tr>\n",
       "      <td>2017-01-04</td>\n",
       "      <td>36500</td>\n",
       "      <td>36520</td>\n",
       "      <td>36100</td>\n",
       "      <td>36160</td>\n",
       "      <td>7971750</td>\n",
       "    </tr>\n",
       "    <tr>\n",
       "      <td>2017-01-05</td>\n",
       "      <td>36060</td>\n",
       "      <td>36060</td>\n",
       "      <td>35540</td>\n",
       "      <td>35560</td>\n",
       "      <td>10967450</td>\n",
       "    </tr>\n",
       "  </tbody>\n",
       "</table>\n",
       "</div>"
      ],
      "text/plain": [
       "             Open   High    Low  Close    Volume\n",
       "Date                                            \n",
       "2016-12-29  35420  36040  35400  36040   7516450\n",
       "2017-01-02  35980  36240  35880  36100   4650600\n",
       "2017-01-03  36280  36620  36020  36480   7357650\n",
       "2017-01-04  36500  36520  36100  36160   7971750\n",
       "2017-01-05  36060  36060  35540  35560  10967450"
      ]
     },
     "execution_count": 4,
     "metadata": {},
     "output_type": "execute_result"
    }
   ],
   "source": [
    "data_145.head()"
   ]
  },
  {
   "cell_type": "code",
   "execution_count": 5,
   "metadata": {},
   "outputs": [
    {
     "data": {
      "text/html": [
       "<div>\n",
       "<style scoped>\n",
       "    .dataframe tbody tr th:only-of-type {\n",
       "        vertical-align: middle;\n",
       "    }\n",
       "\n",
       "    .dataframe tbody tr th {\n",
       "        vertical-align: top;\n",
       "    }\n",
       "\n",
       "    .dataframe thead th {\n",
       "        text-align: right;\n",
       "    }\n",
       "</style>\n",
       "<table border=\"1\" class=\"dataframe\">\n",
       "  <thead>\n",
       "    <tr style=\"text-align: right;\">\n",
       "      <th></th>\n",
       "      <th>Open</th>\n",
       "      <th>High</th>\n",
       "      <th>Low</th>\n",
       "      <th>Close</th>\n",
       "      <th>Volume</th>\n",
       "    </tr>\n",
       "    <tr>\n",
       "      <th>Date</th>\n",
       "      <th></th>\n",
       "      <th></th>\n",
       "      <th></th>\n",
       "      <th></th>\n",
       "      <th></th>\n",
       "    </tr>\n",
       "  </thead>\n",
       "  <tbody>\n",
       "    <tr>\n",
       "      <td>2017-01-02</td>\n",
       "      <td>35980</td>\n",
       "      <td>36240</td>\n",
       "      <td>35880</td>\n",
       "      <td>36100</td>\n",
       "      <td>4650600</td>\n",
       "    </tr>\n",
       "    <tr>\n",
       "      <td>2017-01-03</td>\n",
       "      <td>36280</td>\n",
       "      <td>36620</td>\n",
       "      <td>36020</td>\n",
       "      <td>36480</td>\n",
       "      <td>7357650</td>\n",
       "    </tr>\n",
       "    <tr>\n",
       "      <td>2017-01-04</td>\n",
       "      <td>36500</td>\n",
       "      <td>36520</td>\n",
       "      <td>36100</td>\n",
       "      <td>36160</td>\n",
       "      <td>7971750</td>\n",
       "    </tr>\n",
       "    <tr>\n",
       "      <td>2017-01-05</td>\n",
       "      <td>36060</td>\n",
       "      <td>36060</td>\n",
       "      <td>35540</td>\n",
       "      <td>35560</td>\n",
       "      <td>10967450</td>\n",
       "    </tr>\n",
       "    <tr>\n",
       "      <td>2017-01-06</td>\n",
       "      <td>36180</td>\n",
       "      <td>36440</td>\n",
       "      <td>36040</td>\n",
       "      <td>36200</td>\n",
       "      <td>8880950</td>\n",
       "    </tr>\n",
       "  </tbody>\n",
       "</table>\n",
       "</div>"
      ],
      "text/plain": [
       "             Open   High    Low  Close    Volume\n",
       "Date                                            \n",
       "2017-01-02  35980  36240  35880  36100   4650600\n",
       "2017-01-03  36280  36620  36020  36480   7357650\n",
       "2017-01-04  36500  36520  36100  36160   7971750\n",
       "2017-01-05  36060  36060  35540  35560  10967450\n",
       "2017-01-06  36180  36440  36040  36200   8880950"
      ]
     },
     "execution_count": 5,
     "metadata": {},
     "output_type": "execute_result"
    }
   ],
   "source": [
    "data_23.head()"
   ]
  },
  {
   "cell_type": "code",
   "execution_count": 6,
   "metadata": {},
   "outputs": [
    {
     "data": {
      "text/html": [
       "<div>\n",
       "<style scoped>\n",
       "    .dataframe tbody tr th:only-of-type {\n",
       "        vertical-align: middle;\n",
       "    }\n",
       "\n",
       "    .dataframe tbody tr th {\n",
       "        vertical-align: top;\n",
       "    }\n",
       "\n",
       "    .dataframe thead th {\n",
       "        text-align: right;\n",
       "    }\n",
       "</style>\n",
       "<table border=\"1\" class=\"dataframe\">\n",
       "  <thead>\n",
       "    <tr style=\"text-align: right;\">\n",
       "      <th></th>\n",
       "      <th>Open</th>\n",
       "      <th>High</th>\n",
       "      <th>Low</th>\n",
       "      <th>Close</th>\n",
       "      <th>Volume</th>\n",
       "    </tr>\n",
       "    <tr>\n",
       "      <th>Date</th>\n",
       "      <th></th>\n",
       "      <th></th>\n",
       "      <th></th>\n",
       "      <th></th>\n",
       "      <th></th>\n",
       "    </tr>\n",
       "  </thead>\n",
       "  <tbody>\n",
       "    <tr>\n",
       "      <td>2016-12-02</td>\n",
       "      <td>34480</td>\n",
       "      <td>34760</td>\n",
       "      <td>34140</td>\n",
       "      <td>34540</td>\n",
       "      <td>15352950</td>\n",
       "    </tr>\n",
       "    <tr>\n",
       "      <td>2016-12-05</td>\n",
       "      <td>34340</td>\n",
       "      <td>34680</td>\n",
       "      <td>34220</td>\n",
       "      <td>34360</td>\n",
       "      <td>8484600</td>\n",
       "    </tr>\n",
       "    <tr>\n",
       "      <td>2016-12-06</td>\n",
       "      <td>34440</td>\n",
       "      <td>35200</td>\n",
       "      <td>34400</td>\n",
       "      <td>34960</td>\n",
       "      <td>14001800</td>\n",
       "    </tr>\n",
       "    <tr>\n",
       "      <td>2016-12-07</td>\n",
       "      <td>35040</td>\n",
       "      <td>35480</td>\n",
       "      <td>35040</td>\n",
       "      <td>35440</td>\n",
       "      <td>9603650</td>\n",
       "    </tr>\n",
       "    <tr>\n",
       "      <td>2016-12-08</td>\n",
       "      <td>35980</td>\n",
       "      <td>36020</td>\n",
       "      <td>35520</td>\n",
       "      <td>35800</td>\n",
       "      <td>16462550</td>\n",
       "    </tr>\n",
       "  </tbody>\n",
       "</table>\n",
       "</div>"
      ],
      "text/plain": [
       "             Open   High    Low  Close    Volume\n",
       "Date                                            \n",
       "2016-12-02  34480  34760  34140  34540  15352950\n",
       "2016-12-05  34340  34680  34220  34360   8484600\n",
       "2016-12-06  34440  35200  34400  34960  14001800\n",
       "2016-12-07  35040  35480  35040  35440   9603650\n",
       "2016-12-08  35980  36020  35520  35800  16462550"
      ]
     },
     "execution_count": 6,
     "metadata": {},
     "output_type": "execute_result"
    }
   ],
   "source": [
    "data_678.head()"
   ]
  },
  {
   "cell_type": "markdown",
   "metadata": {},
   "source": [
    "#### 1. 시가, 전날 종가 비율"
   ]
  },
  {
   "cell_type": "markdown",
   "metadata": {},
   "source": [
    "(open - last close) / last close"
   ]
  },
  {
   "cell_type": "code",
   "execution_count": 7,
   "metadata": {},
   "outputs": [],
   "source": [
    "A=[]\n",
    "for i in range(len(data_145)-1):    \n",
    "    A.append(round((data_145['Open'][i+1] - data_145['Close'][i]) / data_145['Close'][i],3))"
   ]
  },
  {
   "cell_type": "code",
   "execution_count": 8,
   "metadata": {},
   "outputs": [],
   "source": [
    "A=pd.DataFrame(A)\n",
    "A.columns=['A']"
   ]
  },
  {
   "cell_type": "markdown",
   "metadata": {},
   "source": [
    "#### 2. 고가, 종가 비율"
   ]
  },
  {
   "cell_type": "markdown",
   "metadata": {},
   "source": [
    "(high - close) / close"
   ]
  },
  {
   "cell_type": "code",
   "execution_count": 9,
   "metadata": {},
   "outputs": [],
   "source": [
    "B=[]\n",
    "for i in range(len(data_23)):    \n",
    "    B.append(round((data_23['High'][i] - data_23['Close'][i]) / data_23['Close'][i],3))"
   ]
  },
  {
   "cell_type": "code",
   "execution_count": 10,
   "metadata": {},
   "outputs": [],
   "source": [
    "B=pd.DataFrame(B)\n",
    "B.columns=['B']"
   ]
  },
  {
   "cell_type": "markdown",
   "metadata": {},
   "source": [
    "#### 3. 저가, 종가 비율"
   ]
  },
  {
   "cell_type": "markdown",
   "metadata": {},
   "source": [
    "(low - close) / close"
   ]
  },
  {
   "cell_type": "code",
   "execution_count": 11,
   "metadata": {},
   "outputs": [],
   "source": [
    "C=[]\n",
    "for i in range(len(data_23)):    \n",
    "    C.append(round((data_23['Low'][i] - data_23['Close'][i]) / data_23['Close'][i],3))"
   ]
  },
  {
   "cell_type": "code",
   "execution_count": 12,
   "metadata": {},
   "outputs": [],
   "source": [
    "C=pd.DataFrame(C)\n",
    "C.columns=['C']"
   ]
  },
  {
   "cell_type": "markdown",
   "metadata": {},
   "source": [
    "#### 4. 종가, 전날 종가 비율"
   ]
  },
  {
   "cell_type": "markdown",
   "metadata": {},
   "source": [
    "(close - last close) / close"
   ]
  },
  {
   "cell_type": "code",
   "execution_count": 13,
   "metadata": {},
   "outputs": [],
   "source": [
    "D=[]\n",
    "for i in range(len(data_145)-1):    \n",
    "    D.append(round((data_145['Close'][i+1] - data_145['Close'][i]) / data_145['Close'][i+1],3))"
   ]
  },
  {
   "cell_type": "code",
   "execution_count": 14,
   "metadata": {},
   "outputs": [],
   "source": [
    "D=pd.DataFrame(D)\n",
    "D.columns=['D']"
   ]
  },
  {
   "cell_type": "markdown",
   "metadata": {},
   "source": [
    "#### 5. 거래량, 전날 거래랑 비율"
   ]
  },
  {
   "cell_type": "markdown",
   "metadata": {},
   "source": [
    "(volume - last volume) / last volume"
   ]
  },
  {
   "cell_type": "code",
   "execution_count": 15,
   "metadata": {},
   "outputs": [],
   "source": [
    "E=[]\n",
    "for i in range(len(data_145)-1):    \n",
    "    E.append(round((data_145['Volume'][i+1] - data_145['Volume'][i]) / data_145['Volume'][i],3))"
   ]
  },
  {
   "cell_type": "code",
   "execution_count": 16,
   "metadata": {},
   "outputs": [],
   "source": [
    "E=pd.DataFrame(E)\n",
    "E.columns=['E']"
   ]
  },
  {
   "cell_type": "markdown",
   "metadata": {},
   "source": [
    "#### 6. 종가, 종가 20일 이동평균선 비율"
   ]
  },
  {
   "cell_type": "markdown",
   "metadata": {},
   "source": [
    "(close - close ma20) / close ma20"
   ]
  },
  {
   "cell_type": "code",
   "execution_count": 17,
   "metadata": {},
   "outputs": [],
   "source": [
    "def moving_average(data, w=5):\n",
    "        \n",
    "    ma_w=data.ewm(span=w).mean()\n",
    "    ma_5=data.ewm(span=5).mean()\n",
    "    ma_10=data.ewm(span=10).mean()\n",
    "    ma_15=data.ewm(span=15).mean()\n",
    "    ma_20=data.ewm(span=20).mean()\n",
    "    ma_30=data.ewm(span=30).mean()\n",
    "    ma_60=data.ewm(span=60).mean()\n",
    "    \n",
    "    result = np.array([data,ma_w,ma_5,ma_10,ma_15,ma_20,ma_30,ma_60])\n",
    "\n",
    "    df = pd.DataFrame(result).T\n",
    "    df.columns = [\"close\", \"user_ma_{}\".format(w), \"ma_5\", \"ma_10\",\"ma_15\",\"ma_20\",\"ma_30\",\"ma_60\" ]\n",
    "    \n",
    "    if w == 5:\n",
    "        del df['user_ma_5']\n",
    "    \n",
    "    \n",
    "    return df"
   ]
  },
  {
   "cell_type": "code",
   "execution_count": 18,
   "metadata": {},
   "outputs": [],
   "source": [
    "close_ma20 = moving_average(data_678['Close'])['ma_20']"
   ]
  },
  {
   "cell_type": "code",
   "execution_count": 19,
   "metadata": {},
   "outputs": [
    {
     "data": {
      "text/plain": [
       "Date\n",
       "2017-01-02    36100\n",
       "2017-01-03    36480\n",
       "2017-01-04    36160\n",
       "2017-01-05    35560\n",
       "2017-01-06    36200\n",
       "              ...  \n",
       "2019-12-23    55500\n",
       "2019-12-24    55000\n",
       "2019-12-26    55400\n",
       "2019-12-27    56500\n",
       "2019-12-30    55800\n",
       "Name: Close, Length: 731, dtype: int64"
      ]
     },
     "execution_count": 19,
     "metadata": {},
     "output_type": "execute_result"
    }
   ],
   "source": [
    "data_678['Close'][20:]"
   ]
  },
  {
   "cell_type": "code",
   "execution_count": 20,
   "metadata": {},
   "outputs": [],
   "source": [
    "F=[]\n",
    "for i in range(len(data_678)-20):    \n",
    "    F.append(round((data_678['Close'][i+20] - close_ma20[i]) / close_ma20[i] , 3))"
   ]
  },
  {
   "cell_type": "code",
   "execution_count": 21,
   "metadata": {},
   "outputs": [],
   "source": [
    "F=pd.DataFrame(F)\n",
    "F.columns=['F']"
   ]
  },
  {
   "cell_type": "markdown",
   "metadata": {},
   "source": [
    "#### 7. 거래량, 거래량 20일 이동평균선 비율"
   ]
  },
  {
   "cell_type": "markdown",
   "metadata": {},
   "source": [
    "(volume - volume ma20) / volume ma20"
   ]
  },
  {
   "cell_type": "code",
   "execution_count": 22,
   "metadata": {},
   "outputs": [],
   "source": [
    "volume_ma20 = moving_average(data_678['Volume'])['ma_20']"
   ]
  },
  {
   "cell_type": "code",
   "execution_count": 23,
   "metadata": {},
   "outputs": [],
   "source": [
    "G=[]\n",
    "for i in range(len(data_678)-20):    \n",
    "    G.append(round((data_678['Volume'][i+20] - volume_ma20[i]) / volume_ma20[i] , 3))"
   ]
  },
  {
   "cell_type": "code",
   "execution_count": 24,
   "metadata": {},
   "outputs": [],
   "source": [
    "G=pd.DataFrame(G)\n",
    "G.columns=['G']"
   ]
  },
  {
   "cell_type": "markdown",
   "metadata": {},
   "source": [
    "#### 8. 볼린저 밴드 너비 전달 대비 비율"
   ]
  },
  {
   "cell_type": "markdown",
   "metadata": {},
   "source": [
    "(close ma20 std *4 ) / last close ma20 std*4"
   ]
  },
  {
   "cell_type": "code",
   "execution_count": 25,
   "metadata": {},
   "outputs": [],
   "source": [
    "def bollinger_band(data, w=20, k=2):\n",
    "        \n",
    "    mbb = data.rolling(w).mean()\n",
    "    \n",
    "    ubb = mbb + k * data.rolling(w).std()\n",
    "    \n",
    "    lbb = mbb - k * data.rolling(w).std()\n",
    "    \n",
    "    result = np.array([data,mbb,ubb,lbb])\n",
    "    \n",
    "    df = pd.DataFrame(result).T\n",
    "    df.columns = [\"close\", \"mbb\", \"ubb\", \"lbb\"]\n",
    "    \n",
    "    return df"
   ]
  },
  {
   "cell_type": "code",
   "execution_count": 26,
   "metadata": {
    "scrolled": true
   },
   "outputs": [],
   "source": [
    "BB = bollinger_band(data_678['Close'])\n",
    "BB['H']=BB['ubb']-BB['lbb']"
   ]
  },
  {
   "cell_type": "code",
   "execution_count": 27,
   "metadata": {},
   "outputs": [],
   "source": [
    "H=BB[20:]['H'].dropna().reset_index()[['H']]"
   ]
  },
  {
   "cell_type": "markdown",
   "metadata": {},
   "source": [
    "## 7개의 변수를 dataframe set으로 만들기"
   ]
  },
  {
   "cell_type": "code",
   "execution_count": 28,
   "metadata": {},
   "outputs": [],
   "source": [
    "data_tech=pd.concat([A,B,C,D,E,F,G,H],axis=1)"
   ]
  },
  {
   "cell_type": "code",
   "execution_count": 29,
   "metadata": {},
   "outputs": [
    {
     "data": {
      "text/html": [
       "<div>\n",
       "<style scoped>\n",
       "    .dataframe tbody tr th:only-of-type {\n",
       "        vertical-align: middle;\n",
       "    }\n",
       "\n",
       "    .dataframe tbody tr th {\n",
       "        vertical-align: top;\n",
       "    }\n",
       "\n",
       "    .dataframe thead th {\n",
       "        text-align: right;\n",
       "    }\n",
       "</style>\n",
       "<table border=\"1\" class=\"dataframe\">\n",
       "  <thead>\n",
       "    <tr style=\"text-align: right;\">\n",
       "      <th></th>\n",
       "      <th>A</th>\n",
       "      <th>B</th>\n",
       "      <th>C</th>\n",
       "      <th>D</th>\n",
       "      <th>E</th>\n",
       "      <th>F</th>\n",
       "      <th>G</th>\n",
       "      <th>H</th>\n",
       "    </tr>\n",
       "  </thead>\n",
       "  <tbody>\n",
       "    <tr>\n",
       "      <td>0</td>\n",
       "      <td>-0.002</td>\n",
       "      <td>0.004</td>\n",
       "      <td>-0.006</td>\n",
       "      <td>0.002</td>\n",
       "      <td>-0.381</td>\n",
       "      <td>0.045</td>\n",
       "      <td>-0.697</td>\n",
       "      <td>1932.154511</td>\n",
       "    </tr>\n",
       "    <tr>\n",
       "      <td>1</td>\n",
       "      <td>0.005</td>\n",
       "      <td>0.004</td>\n",
       "      <td>-0.013</td>\n",
       "      <td>0.010</td>\n",
       "      <td>0.582</td>\n",
       "      <td>0.059</td>\n",
       "      <td>-0.374</td>\n",
       "      <td>1650.079424</td>\n",
       "    </tr>\n",
       "    <tr>\n",
       "      <td>2</td>\n",
       "      <td>0.001</td>\n",
       "      <td>0.010</td>\n",
       "      <td>-0.002</td>\n",
       "      <td>-0.009</td>\n",
       "      <td>0.083</td>\n",
       "      <td>0.044</td>\n",
       "      <td>-0.366</td>\n",
       "      <td>1505.325284</td>\n",
       "    </tr>\n",
       "    <tr>\n",
       "      <td>3</td>\n",
       "      <td>-0.003</td>\n",
       "      <td>0.014</td>\n",
       "      <td>-0.001</td>\n",
       "      <td>-0.017</td>\n",
       "      <td>0.376</td>\n",
       "      <td>0.020</td>\n",
       "      <td>-0.064</td>\n",
       "      <td>1483.756257</td>\n",
       "    </tr>\n",
       "    <tr>\n",
       "      <td>4</td>\n",
       "      <td>0.017</td>\n",
       "      <td>0.007</td>\n",
       "      <td>-0.004</td>\n",
       "      <td>0.018</td>\n",
       "      <td>-0.190</td>\n",
       "      <td>0.032</td>\n",
       "      <td>-0.310</td>\n",
       "      <td>1521.417621</td>\n",
       "    </tr>\n",
       "  </tbody>\n",
       "</table>\n",
       "</div>"
      ],
      "text/plain": [
       "       A      B      C      D      E      F      G            H\n",
       "0 -0.002  0.004 -0.006  0.002 -0.381  0.045 -0.697  1932.154511\n",
       "1  0.005  0.004 -0.013  0.010  0.582  0.059 -0.374  1650.079424\n",
       "2  0.001  0.010 -0.002 -0.009  0.083  0.044 -0.366  1505.325284\n",
       "3 -0.003  0.014 -0.001 -0.017  0.376  0.020 -0.064  1483.756257\n",
       "4  0.017  0.007 -0.004  0.018 -0.190  0.032 -0.310  1521.417621"
      ]
     },
     "execution_count": 29,
     "metadata": {},
     "output_type": "execute_result"
    }
   ],
   "source": [
    "data_tech.head()"
   ]
  },
  {
   "cell_type": "code",
   "execution_count": 30,
   "metadata": {},
   "outputs": [],
   "source": [
    "data_tech.to_csv('data/data_tech.csv')"
   ]
  },
  {
   "cell_type": "code",
   "execution_count": null,
   "metadata": {},
   "outputs": [],
   "source": []
  }
 ],
 "metadata": {
  "kernelspec": {
   "display_name": "Python 3",
   "language": "python",
   "name": "python3"
  },
  "language_info": {
   "codemirror_mode": {
    "name": "ipython",
    "version": 3
   },
   "file_extension": ".py",
   "mimetype": "text/x-python",
   "name": "python",
   "nbconvert_exporter": "python",
   "pygments_lexer": "ipython3",
   "version": "3.7.4"
  }
 },
 "nbformat": 4,
 "nbformat_minor": 2
}
