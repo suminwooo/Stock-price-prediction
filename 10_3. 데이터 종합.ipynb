{
 "cells": [
  {
   "cell_type": "code",
   "execution_count": 17,
   "metadata": {},
   "outputs": [],
   "source": [
    "import pandas as pd\n",
    "import numpy as np"
   ]
  },
  {
   "cell_type": "markdown",
   "metadata": {},
   "source": [
    "## 기술적 지표를 위한 주식 가격 데이터 프레임"
   ]
  },
  {
   "cell_type": "code",
   "execution_count": 2,
   "metadata": {},
   "outputs": [],
   "source": [
    "data1 = pd.read_csv('data/samsung.csv')"
   ]
  },
  {
   "cell_type": "code",
   "execution_count": 3,
   "metadata": {},
   "outputs": [],
   "source": [
    "data1['Open-1d']=data1['Open'].shift(1)\n",
    "data1['High-1d']=data1['High'].shift(1)\n",
    "data1['Low-1d']=data1['Low'].shift(1)\n",
    "data1['Close-1d']=data1['Close'].shift(1)\n",
    "data1['Volume-1d']=data1['Volume'].shift(1)\n",
    "\n",
    "data1['Open-2d']=data1['Open'].shift(2)\n",
    "data1['High-2d']=data1['High'].shift(2)\n",
    "data1['Low-2d']=data1['Low'].shift(2)\n",
    "data1['Close-2d']=data1['Close'].shift(2)\n",
    "data1['Volume-2d']=data1['Volume'].shift(2)"
   ]
  },
  {
   "cell_type": "code",
   "execution_count": 4,
   "metadata": {},
   "outputs": [],
   "source": [
    "data1=data1[['Date','Open','High','Low','Close','Volume','Open-1d','High-1d','Low-1d','Close-1d',\n",
    "             'Volume-1d','Open-2d','High-2d','Low-2d','Close-2d','Volume-2d']] # 기술적 분석"
   ]
  },
  {
   "cell_type": "markdown",
   "metadata": {},
   "source": [
    "## 기본적 지표를 위한 데이터 프레임"
   ]
  },
  {
   "cell_type": "code",
   "execution_count": 5,
   "metadata": {},
   "outputs": [],
   "source": [
    "data2=pd.read_csv('data/fundamental.csv')"
   ]
  },
  {
   "cell_type": "code",
   "execution_count": 6,
   "metadata": {},
   "outputs": [],
   "source": [
    "# 제 48 기말       : '2017-01-01' : '2017-03-31'\n",
    "# 제 49 기 1분기말 : '2017-04-01' : '2017-06-31'\n",
    "# 제 49 기 반기말  : '2017-07-01' : '2017-09-31'\n",
    "# 제 49 기 3분기말 : '2017-10-01' : '2017-12-31'\n",
    "# 제 49 기말       : '2018-01-01' : '2018-03-31'\n",
    "# 제 50 기 1분기말 : '2018-04-01' : '2018-06-31'\n",
    "# 제 50 기 반기말  : '2018-07-01' : '2018-09-31'\n",
    "# 제 50 기 3분기말 : '2018-10-01' : '2018-12-31'\n",
    "# 제 50 기말       : '2019-01-01' : '2019-03-31'\n",
    "# 제 51 기 1분기말 : '2019-04-01' : '2019-06-31'\n",
    "# 제 51 기 반기말  : '2019-07-01' : '2019-09-31'\n",
    "# 제 51 기 3분기말 : '2019-10-01' : '2019-12-31'"
   ]
  },
  {
   "cell_type": "markdown",
   "metadata": {},
   "source": [
    "### data1과 dat2 합치기"
   ]
  },
  {
   "cell_type": "code",
   "execution_count": 7,
   "metadata": {},
   "outputs": [],
   "source": [
    "A=[]\n",
    "B=[] #분기 앞당기기\n",
    "for i in range(len(data1)):\n",
    "    month = data1['Date'][i][:7]\n",
    "    \n",
    "    if month == '2017-01' :\n",
    "        A.append(['0.084','2.054','0.271','0.086','0.066','4.692'])\n",
    "        B.append(['0','0','0','0','0','0'])\n",
    "    elif month == '2017-02':\n",
    "        A.append(['0.084','2.054','0.271','0.086','0.066','4.692'])\n",
    "        B.append(['0','0','0','0','0','0'])\n",
    "    elif month == '2017-03':\n",
    "        A.append(['0.084','2.054','0.271','0.086','0.066','4.692'])\n",
    "        B.append(['0','0','0','0','0','0'])\n",
    "        \n",
    "    elif month == '2017-04':\n",
    "        A.append(['0.036','1.793','0.267','0.141','0.028','4.744'])\n",
    "        B.append(['0.084','2.054','0.271','0.086','0.066','4.692'])\n",
    "    elif month == '2017-05':\n",
    "        A.append(['0.036','1.793','0.267','0.141','0.028','4.744'])\n",
    "        B.append(['0.084','2.054','0.271','0.086','0.066','4.692'])\n",
    "    elif month == '2017-06':\n",
    "        A.append(['0.036','1.793','0.267','0.141','0.028','4.744'])\n",
    "        B.append(['0.084','2.054','0.271','0.086','0.066','4.692'])\n",
    "\n",
    "    elif month == '2017-07':\n",
    "        A.append(['0.079','1.633','0.277','0.144','0.062','4.604'])\n",
    "        B.append(['0.036','1.793','0.267','0.141','0.028','4.744'])        \n",
    "    elif month == '2017-08':\n",
    "        A.append(['0.079','1.633','0.277','0.144','0.062','4.604'])\n",
    "        B.append(['0.036','1.793','0.267','0.141','0.028','4.744'])\n",
    "    elif month == '2017-09':\n",
    "        A.append(['0.079','1.633','0.277','0.144','0.062','4.604'])\n",
    "        B.append(['0.036','1.793','0.267','0.141','0.028','4.744'])\n",
    "\n",
    "        \n",
    "    elif month == '2017-10':\n",
    "        A.append(['0.130','1.564','0.309','0.157','0.100','4.240'])\n",
    "        B.append(['0.079','1.633','0.277','0.144','0.062','4.604'])\n",
    "    elif month == '2017-11':\n",
    "        A.append(['0.130','1.564','0.309','0.157','0.100','4.240'])\n",
    "        B.append(['0.079','1.633','0.277','0.144','0.062','4.604'])\n",
    "    elif month == '2017-12':\n",
    "        A.append(['0.130','1.564','0.309','0.157','0.100','4.240'])\n",
    "        B.append(['0.079','1.633','0.277','0.144','0.062','4.604'])\n",
    "    \n",
    "    elif month == '2018-01':\n",
    "        A.append(['0.190','1.577','0.308','0.178','0.145','4.248'])\n",
    "        B.append(['0.130','1.564','0.309','0.157','0.100','4.240'])\n",
    "    elif month == '2018-02':\n",
    "        A.append(['0.190','1.577','0.308','0.178','0.145','4.248'])\n",
    "        B.append(['0.130','1.564','0.309','0.157','0.100','4.240'])\n",
    "    elif month == '2018-03':\n",
    "        A.append(['0.190','1.577','0.308','0.178','0.145','4.248'])\n",
    "        B.append(['0.130','1.564','0.309','0.157','0.100','4.240'])\n",
    "    \n",
    "    elif month == '2018-04':\n",
    "        A.append(['0.054','1.534','0.314','0.198','0.041','4.187'])\n",
    "        B.append(['0.190','1.577','0.308','0.178','0.145','4.248'])\n",
    "    elif month == '2018-05':\n",
    "        A.append(['0.054','1.534','0.314','0.198','0.041','4.187'])\n",
    "        B.append(['0.190','1.577','0.308','0.178','0.145','4.248'])\n",
    "    elif month == '2018-06':\n",
    "        A.append(['0.054','1.534','0.314','0.198','0.041','4.187'])\n",
    "        B.append(['0.190','1.577','0.308','0.178','0.145','4.248'])\n",
    "   \n",
    "    elif month == '2018-07':\n",
    "        A.append(['0.102','1.693','0.260','0.197','0.081','4.841'])\n",
    "        B.append(['0.054','1.534','0.314','0.198','0.041','4.187'])\n",
    "    elif month == '2018-08':\n",
    "        A.append(['0.102','1.693','0.260','0.197','0.081','4.841'])\n",
    "        B.append(['0.054','1.534','0.314','0.198','0.041','4.187'])\n",
    "    elif month == '2018-09':\n",
    "        A.append(['0.102','1.693','0.260','0.197','0.081','4.841'])\n",
    "        B.append(['0.054','1.534','0.314','0.198','0.041','4.187'])\n",
    "        \n",
    "    elif month == '2018-10':\n",
    "        A.append(['0.158','1.766','0.284','0.203','0.123','4.524'])\n",
    "        B.append(['0.102','1.693','0.260','0.197','0.081','4.841'])\n",
    "    elif month == '2018-11':\n",
    "        A.append(['0.158','1.766','0.284','0.203','0.123','4.524'])\n",
    "        B.append(['0.102','1.693','0.260','0.197','0.081','4.841'])\n",
    "    elif month == '2018-12':\n",
    "        A.append(['0.158','1.766','0.284','0.203','0.123','4.524'])\n",
    "        B.append(['0.102','1.693','0.260','0.197','0.081','4.841'])\n",
    "        \n",
    "    elif month == '2019-01':\n",
    "        A.append(['0.190','1.855','0.266','0.193','0.150','4.758'])\n",
    "        B.append(['0.158','1.766','0.284','0.203','0.123','4.524'])\n",
    "    elif month == '2019-02':\n",
    "        A.append(['0.190','1.855','0.266','0.193','0.150','4.758'])\n",
    "        B.append(['0.158','1.766','0.284','0.203','0.123','4.524'])\n",
    "    elif month == '2019-03':\n",
    "        A.append(['0.190','1.855','0.266','0.193','0.150','4.758'])\n",
    "        B.append(['0.158','1.766','0.284','0.203','0.123','4.524'])\n",
    "\n",
    "        \n",
    "    elif month == '2019-04':\n",
    "        A.append(['0.018','1.857','0.270','0.083','0.014','4.705'])\n",
    "        B.append(['0.190','1.855','0.266','0.193','0.150','4.758'])\n",
    "    elif month == '2019-05':\n",
    "        A.append(['0.018','1.857','0.270','0.083','0.014','4.705'])\n",
    "        B.append(['0.190','1.855','0.266','0.193','0.150','4.758'])\n",
    "    elif month == '2019-06':\n",
    "        A.append(['0.018','1.857','0.270','0.083','0.014','4.705'])\n",
    "        B.append(['0.190','1.855','0.266','0.193','0.150','4.758'])\n",
    "        \n",
    "    elif month == '2019-07':\n",
    "        A.append(['0.041','2.066','0.213','0.095','0.034','5.694'])\n",
    "        B.append(['0.018','1.857','0.270','0.083','0.014','4.705'])\n",
    "    elif month == '2019-08':\n",
    "        A.append(['0.041','2.066','0.213','0.095','0.034','5.694'])\n",
    "        B.append(['0.018','1.857','0.270','0.083','0.014','4.705'])\n",
    "    elif month == '2019-09':\n",
    "        A.append(['0.041','2.066','0.213','0.095','0.034','5.694'])\n",
    "        B.append(['0.018','1.857','0.270','0.083','0.014','4.705'])\n",
    "        \n",
    "    elif month == '2019-10':\n",
    "        A.append(['0.066','2.063','0.224','0.100','0.054','5.473'])\n",
    "        B.append(['0.041','2.066','0.213','0.095','0.034','5.694'])\n",
    "    elif month == '2019-11':\n",
    "        A.append(['0.066','2.063','0.224','0.100','0.054','5.473'])\n",
    "        B.append(['0.041','2.066','0.213','0.095','0.034','5.694'])\n",
    "    elif month == '2019-12':\n",
    "        A.append(['0.066','2.063','0.224','0.100','0.054','5.473'])\n",
    "        B.append(['0.041','2.066','0.213','0.095','0.034','5.694'])"
   ]
  },
  {
   "cell_type": "code",
   "execution_count": 8,
   "metadata": {},
   "outputs": [],
   "source": [
    "A=pd.DataFrame(A)\n",
    "B=pd.DataFrame(B)\n",
    "A.columns=['ROE','Current_ratio','Debt_ratio','Net_profit_margin','ROA','Book_value']\n",
    "B.columns=['ROE_1q','Current_ratio_1q','Debt_ratio_1q','Net_profit_margin_1q','ROA_1q','Book_value_1q']\n",
    "final_fund=pd.concat([A,B],axis=1)"
   ]
  },
  {
   "cell_type": "markdown",
   "metadata": {},
   "source": [
    "## 최종dataframe"
   ]
  },
  {
   "cell_type": "code",
   "execution_count": 9,
   "metadata": {
    "scrolled": false
   },
   "outputs": [],
   "source": [
    "df=pd.concat([data1[:720],final_fund],axis=1)\n",
    "df=df.set_index('Date')\n",
    "df=df.loc['2017-04-01':]"
   ]
  },
  {
   "cell_type": "markdown",
   "metadata": {},
   "source": [
    "## train / test 분류\n",
    "\n",
    "train 기간 2017-04-01 ~ 2019-06-31  \n",
    "test 기간 2019-07-01 ~ 2019-12-30"
   ]
  },
  {
   "cell_type": "markdown",
   "metadata": {},
   "source": [
    "# 1번. 다음날 가격예측"
   ]
  },
  {
   "cell_type": "code",
   "execution_count": 10,
   "metadata": {
    "scrolled": true
   },
   "outputs": [],
   "source": [
    "df=df[['Open-1d', 'High-1d','Low-1d', 'Close-1d', 'Volume-1d', 'Open-2d', 'High-2d', 'Low-2d',\n",
    "       'Close-2d', 'Volume-2d', 'ROE', 'Current_ratio', 'Debt_ratio','Net_profit_margin', 'ROA', \n",
    "       'Book_value', 'ROE_1q', 'Current_ratio_1q','Debt_ratio_1q', 'Net_profit_margin_1q', 'ROA_1q', \n",
    "       'Book_value_1q','Close']]"
   ]
  },
  {
   "cell_type": "code",
   "execution_count": 11,
   "metadata": {},
   "outputs": [],
   "source": [
    "df.columns=['var1','var2','var3','var4','var5','var6','var7','var8','var9','var10','var11','var12','var13','var14',\n",
    "           'var15','var16','var17','var18','var19','var20','var21','var22','yyy']"
   ]
  },
  {
   "cell_type": "code",
   "execution_count": 21,
   "metadata": {},
   "outputs": [],
   "source": [
    "df=df.apply(pd.to_numeric)"
   ]
  },
  {
   "cell_type": "code",
   "execution_count": 22,
   "metadata": {},
   "outputs": [],
   "source": [
    "train_input = df.loc['2017-04-03': '2019-06-31'][['var1','var2','var3','var4','var5','var6','var7','var8','var9','var10','var11','var12','var13','var14',\n",
    "           'var15','var16','var17','var18','var19','var20','var21','var22']]\n",
    "\n",
    "train_target = df.loc['2017-04-03': '2019-06-31'][['yyy']]\n",
    "\n",
    "test_input = df.loc['2019-07-01': '2019-12-31'][['var1','var2','var3','var4','var5','var6','var7','var8','var9','var10','var11','var12','var13','var14',\n",
    "           'var15','var16','var17','var18','var19','var20','var21','var22']]\n",
    "\n",
    "test_target = df.loc['2019-07-01': '2019-12-31'][['yyy']]"
   ]
  },
  {
   "cell_type": "code",
   "execution_count": 25,
   "metadata": {},
   "outputs": [],
   "source": [
    "mean = train_input.mean(axis=0)\n",
    "std = train_input.std(axis=0)\n",
    "train_input -= mean\n",
    "train_input /= std\n",
    "test_input -= mean\n",
    "test_input /= std"
   ]
  },
  {
   "cell_type": "code",
   "execution_count": 27,
   "metadata": {},
   "outputs": [],
   "source": [
    "train_input=np.array(train_input)\n",
    "train_input=train_input.reshape(train_input.shape[0],22)"
   ]
  },
  {
   "cell_type": "code",
   "execution_count": null,
   "metadata": {},
   "outputs": [],
   "source": []
  },
  {
   "cell_type": "code",
   "execution_count": null,
   "metadata": {},
   "outputs": [],
   "source": []
  },
  {
   "cell_type": "code",
   "execution_count": null,
   "metadata": {},
   "outputs": [],
   "source": []
  }
 ],
 "metadata": {
  "kernelspec": {
   "display_name": "Python 3",
   "language": "python",
   "name": "python3"
  },
  "language_info": {
   "codemirror_mode": {
    "name": "ipython",
    "version": 3
   },
   "file_extension": ".py",
   "mimetype": "text/x-python",
   "name": "python",
   "nbconvert_exporter": "python",
   "pygments_lexer": "ipython3",
   "version": "3.7.4"
  }
 },
 "nbformat": 4,
 "nbformat_minor": 2
}
