{
 "cells": [
  {
   "cell_type": "code",
   "execution_count": 1,
   "metadata": {
    "scrolled": false
   },
   "outputs": [],
   "source": [
    "from urllib.request import urlopen\n",
    "import pandas as pd\n",
    "from bs4 import BeautifulSoup\n",
    "import webbrowser\n",
    "from html_table_parser import parser_functions as parser\n",
    "import numpy as np"
   ]
  },
  {
   "cell_type": "markdown",
   "metadata": {},
   "source": [
    "#### 등록된 api로 접속"
   ]
  },
  {
   "cell_type": "code",
   "execution_count": 2,
   "metadata": {},
   "outputs": [],
   "source": [
    "API_KEY='b0e7fa756cdc9c6410f80e331cc1015f94c3dcb6' #authority key\n",
    "company_code='005930' #company code\n",
    "start_date='20170101'"
   ]
  },
  {
   "cell_type": "markdown",
   "metadata": {},
   "source": [
    "#### 사업 보고서 종류 확인"
   ]
  },
  {
   "cell_type": "code",
   "execution_count": 3,
   "metadata": {},
   "outputs": [],
   "source": [
    "url ='https://opendart.fss.or.kr/api/list.xml?crtfc_key='+API_KEY+'&corp_code='+company_code+'&bgn_de='+start_date+'&pblntf_detail_ty=A001&pblntf_detail_ty=A002&pblntf_detail_ty=A003'\n",
    "resultXML=urlopen(url)\n",
    "result=resultXML.read()"
   ]
  },
  {
   "cell_type": "code",
   "execution_count": 4,
   "metadata": {},
   "outputs": [],
   "source": [
    "xmlsoup=BeautifulSoup(result,'html.parser')"
   ]
  },
  {
   "cell_type": "code",
   "execution_count": 5,
   "metadata": {},
   "outputs": [],
   "source": [
    "data = pd.DataFrame()\n",
    "for t in xmlsoup.findAll('list'):\n",
    "    temp=pd.DataFrame(([[t.corp_code.string,t.corp_name.string,t.stock_code.string,t.report_nm.string,\n",
    "         t.rcept_no.string,t.flr_nm.string]]),\n",
    "         columns=[\"corp_code\",\"corp_name\",\"stock_code\",\"report_nm\",\"rcept_no\",\"flr_nm\"])\n",
    "    data=pd.concat([data,temp])\n",
    "\n",
    "data=data.reset_index(drop=True)"
   ]
  },
  {
   "cell_type": "code",
   "execution_count": 6,
   "metadata": {},
   "outputs": [
    {
     "data": {
      "text/html": [
       "<div>\n",
       "<style scoped>\n",
       "    .dataframe tbody tr th:only-of-type {\n",
       "        vertical-align: middle;\n",
       "    }\n",
       "\n",
       "    .dataframe tbody tr th {\n",
       "        vertical-align: top;\n",
       "    }\n",
       "\n",
       "    .dataframe thead th {\n",
       "        text-align: right;\n",
       "    }\n",
       "</style>\n",
       "<table border=\"1\" class=\"dataframe\">\n",
       "  <thead>\n",
       "    <tr style=\"text-align: right;\">\n",
       "      <th></th>\n",
       "      <th>corp_code</th>\n",
       "      <th>corp_name</th>\n",
       "      <th>stock_code</th>\n",
       "      <th>report_nm</th>\n",
       "      <th>rcept_no</th>\n",
       "      <th>flr_nm</th>\n",
       "    </tr>\n",
       "  </thead>\n",
       "  <tbody>\n",
       "    <tr>\n",
       "      <td>0</td>\n",
       "      <td>00126380</td>\n",
       "      <td>삼성전자</td>\n",
       "      <td>005930</td>\n",
       "      <td>분기보고서 (2019.09)</td>\n",
       "      <td>20191114001273</td>\n",
       "      <td>삼성전자</td>\n",
       "    </tr>\n",
       "    <tr>\n",
       "      <td>1</td>\n",
       "      <td>00126380</td>\n",
       "      <td>삼성전자</td>\n",
       "      <td>005930</td>\n",
       "      <td>반기보고서 (2019.06)</td>\n",
       "      <td>20190814002218</td>\n",
       "      <td>삼성전자</td>\n",
       "    </tr>\n",
       "    <tr>\n",
       "      <td>2</td>\n",
       "      <td>00126380</td>\n",
       "      <td>삼성전자</td>\n",
       "      <td>005930</td>\n",
       "      <td>분기보고서 (2019.03)</td>\n",
       "      <td>20190515001605</td>\n",
       "      <td>삼성전자</td>\n",
       "    </tr>\n",
       "    <tr>\n",
       "      <td>3</td>\n",
       "      <td>00126380</td>\n",
       "      <td>삼성전자</td>\n",
       "      <td>005930</td>\n",
       "      <td>사업보고서 (2018.12)</td>\n",
       "      <td>20190401004781</td>\n",
       "      <td>삼성전자</td>\n",
       "    </tr>\n",
       "    <tr>\n",
       "      <td>4</td>\n",
       "      <td>00126380</td>\n",
       "      <td>삼성전자</td>\n",
       "      <td>005930</td>\n",
       "      <td>분기보고서 (2018.09)</td>\n",
       "      <td>20181114001530</td>\n",
       "      <td>삼성전자</td>\n",
       "    </tr>\n",
       "  </tbody>\n",
       "</table>\n",
       "</div>"
      ],
      "text/plain": [
       "  corp_code corp_name stock_code        report_nm        rcept_no flr_nm\n",
       "0  00126380      삼성전자     005930  분기보고서 (2019.09)  20191114001273   삼성전자\n",
       "1  00126380      삼성전자     005930  반기보고서 (2019.06)  20190814002218   삼성전자\n",
       "2  00126380      삼성전자     005930  분기보고서 (2019.03)  20190515001605   삼성전자\n",
       "3  00126380      삼성전자     005930  사업보고서 (2018.12)  20190401004781   삼성전자\n",
       "4  00126380      삼성전자     005930  분기보고서 (2018.09)  20181114001530   삼성전자"
      ]
     },
     "execution_count": 6,
     "metadata": {},
     "output_type": "execute_result"
    }
   ],
   "source": [
    "data.head()"
   ]
  },
  {
   "cell_type": "markdown",
   "metadata": {},
   "source": [
    "#### 각각의 url을 활용하여 재무제표 뽑기"
   ]
  },
  {
   "cell_type": "code",
   "execution_count": 7,
   "metadata": {
    "scrolled": false
   },
   "outputs": [],
   "source": [
    "a2019_09=\"http://dart.fss.or.kr/report/viewer.do?rcpNo=20191114001273&dcmNo=6958001&eleId=15&offset=1099327&length=69959&dtd=dart3.xsd\"\n",
    "a2019_06='http://dart.fss.or.kr/report/viewer.do?rcpNo=20190814002218&dcmNo=6846651&eleId=15&offset=1080041&length=69283&dtd=dart3.xsd'\n",
    "a2019_03='http://dart.fss.or.kr/report/viewer.do?rcpNo=20190515001605&dcmNo=6738798&eleId=15&offset=1026852&length=68820&dtd=dart3.xsd'\n",
    "a2018_12='http://dart.fss.or.kr/report/viewer.do?rcpNo=20190401004781&dcmNo=6616741&eleId=15&offset=1332659&length=90711&dtd=dart3.xsd'\n",
    "a2018_09='http://dart.fss.or.kr/report/viewer.do?rcpNo=20181114001530&dcmNo=6382016&eleId=15&offset=1108496&length=72539&dtd=dart3.xsd'\n",
    "a2018_06='http://dart.fss.or.kr/report/viewer.do?rcpNo=20180814001113&dcmNo=6282263&eleId=15&offset=1102087&length=72265&dtd=dart3.xsd'\n",
    "a2018_03='http://dart.fss.or.kr/report/viewer.do?rcpNo=20180515001699&dcmNo=6180129&eleId=15&offset=1047985&length=72075&dtd=dart3.xsd'\n",
    "a2017_12='http://dart.fss.or.kr/report/viewer.do?rcpNo=20180402005019&dcmNo=6060273&eleId=15&offset=1350131&length=91652&dtd=dart3.xsd'\n",
    "a2017_09='http://dart.fss.or.kr/report/viewer.do?rcpNo=20171114001694&dcmNo=5845320&eleId=15&offset=1135961&length=73638&dtd=dart3.xsd'\n",
    "a2017_06='http://dart.fss.or.kr/report/viewer.do?rcpNo=20170814001832&dcmNo=5752868&eleId=15&offset=1111624&length=73272&dtd=dart3.xsd'\n",
    "a2017_03='http://dart.fss.or.kr/report/viewer.do?rcpNo=20170515003806&dcmNo=5653406&eleId=15&offset=1101560&length=112166&dtd=dart3.xsd'"
   ]
  },
  {
   "cell_type": "code",
   "execution_count": 8,
   "metadata": {},
   "outputs": [],
   "source": [
    "url_list=[a2017_03, a2017_06, a2017_09, a2017_12, a2018_03, a2018_06, a2018_09, a2018_12, a2019_03, a2019_06, a2019_09]"
   ]
  },
  {
   "cell_type": "markdown",
   "metadata": {},
   "source": [
    "#### 재무상태표 칼럼"
   ]
  },
  {
   "cell_type": "code",
   "execution_count": 9,
   "metadata": {},
   "outputs": [],
   "source": [
    "a2019_09_col=['구분','제 51 기 3분기말','제 50 기말']\n",
    "a2019_06_col=['구분','제 51 기 반기말','제 50 기말']\n",
    "a2019_03_col=['구분','제 51 기 1분기말','제 50 기말']\n",
    "a2018_12_col=['구분','제 50 기','제 49 기','제 48 기']\n",
    "a2018_09_col=['구분','제 50 기 3분기말','제 49 기말']\n",
    "a2018_06_col=['구분','제 50 기 반기말','제 49 기말']\n",
    "a2018_03_col=['구분','제 50 기 1분기말','제 49 기말']\n",
    "a2017_12_col=['구분','제 49 기','제 48 기','제 47 기']\n",
    "a2017_09_col=['구분','제 49 기 3분기말','제 48 기말']\n",
    "a2017_06_col=['구분','제 49 기 반기말','제 48 기말']\n",
    "a2017_03_col=['구분','제 49 기 1분기말','제 48 기말','제 47 기말']\n",
    "\n",
    "columns_a=[a2017_03_col,a2017_06_col,a2017_09_col,a2017_12_col,a2018_03_col,a2018_06_col,a2018_09_col,a2018_12_col\n",
    "         ,a2019_03_col,a2019_06_col,a2019_09_col]"
   ]
  },
  {
   "cell_type": "markdown",
   "metadata": {},
   "source": [
    "#### 손익계산서 칼럼"
   ]
  },
  {
   "cell_type": "code",
   "execution_count": 10,
   "metadata": {},
   "outputs": [],
   "source": [
    "b2017_03_col=['구분','제 49 기 1분기3개월','제 49 기 1분기누적','제 48 기 1분기3개월','제 48 기 1분기누적','제 48 기','제 47 기']\n",
    "b2017_06_col=['구분','제 49 기 반기3개월','제 49 기 반기누적','제 48 기 반기3개월','제 48 기 반기누적']\n",
    "b2017_09_col=['구분','제 49 기 3분기3개월', '제 49 기 3분기누적', '제 48 기 3분기3개월', '제 48 기 3분기누적']\n",
    "b2017_12_col=['구분','제 49 기','제 48 기','제 47 기']\n",
    "b2018_03_col=['구분','제 50 기 1분기3개월', '제 50 기 1분기누적', '제 49 기 1분기3개월', '제 49 기 1분기누적']\n",
    "b2018_06_col=['구분','제 50 기 반기3개월', '제 50 기 반기누적', '제 49 기 반기3개월', '제 49 기 반기누적']\n",
    "b2018_09_col=['구분','제 50 기 3분기3개월','제 50 기 3분기누적','제 49 기 3분기3개월','제 49 기 3분기누적']\n",
    "b2018_12_col=['구분','제 50 기','제 49 기','제 48 기']\n",
    "b2019_03_col=['구분','제 51 기 1분기3개월', '제 51 기 1분기누적', '제 50 기 1분기3개월', '제 50 기 1분기누적']\n",
    "b2019_06_col=['구분','제 51 기 반기3개월', '제 51 기 반기누적' ,'제 50 기 반기3개월', '제 50 기 반기누적']\n",
    "b2019_09_col=['구분','제 51 기 3분기3개월', '제 51 기 3분기누적', '제 50 기 3분기3개월', '제 50 기 3분기누적']\n",
    "\n",
    "columns_b=[b2017_03_col,b2017_06_col,b2017_09_col,b2017_12_col,b2018_03_col,b2018_06_col,b2018_09_col,b2018_12_col\n",
    "         ,b2019_03_col,b2019_06_col,b2019_09_col]"
   ]
  },
  {
   "cell_type": "markdown",
   "metadata": {},
   "source": [
    "#### 현금흐름표 칼럼"
   ]
  },
  {
   "cell_type": "code",
   "execution_count": 11,
   "metadata": {},
   "outputs": [],
   "source": [
    "c2019_09_col=['구분','제 51 기 3분기','제 50 기 3분기']\n",
    "c2019_06_col=['구분','제 51 기 반기','제 50 기 반기']\n",
    "c2019_03_col=['구분','제 51 기 1분기','제 50 기 1분기']\n",
    "c2018_12_col=['구분','제 50 기','제 49 기','제 48 기']\n",
    "c2018_09_col=['구분','제 50 기 3분기','제 49 기 3분기']\n",
    "c2018_06_col=['구분','제 50 기 반기','제 49 기 반기']\n",
    "c2018_03_col=['구분','제 50 기 1분기','제 49 기 1분기']\n",
    "c2017_12_col=['구분','제 49 기','제 48 기','제 47 기']\n",
    "c2017_09_col=['구분','제 49 기 3분기','제 48 기 3분기']\n",
    "c2017_06_col=['구분','제 49 기 반기','제 48 기 반기']\n",
    "c2017_03_col=['구분','제 49 기 1분기','제 48 기 1분기','제 48 기','제 47 기']\n",
    "\n",
    "columns_c=[c2017_03_col,c2017_06_col,c2017_09_col,c2017_12_col,c2018_03_col,c2018_06_col,c2018_09_col,c2018_12_col\n",
    "         ,c2019_03_col,c2019_06_col,c2019_09_col]"
   ]
  },
  {
   "cell_type": "markdown",
   "metadata": {},
   "source": [
    "## dataframe 정리"
   ]
  },
  {
   "cell_type": "markdown",
   "metadata": {},
   "source": [
    "#### 재무상태표"
   ]
  },
  {
   "cell_type": "code",
   "execution_count": 12,
   "metadata": {
    "scrolled": false
   },
   "outputs": [],
   "source": [
    "url_list_1=[url_list[0],url_list[3]]\n",
    "columns_a_1=[columns_a[0],columns_a[3]]\n",
    "\n",
    "\n",
    "data1 = pd.DataFrame()\n",
    "\n",
    "for i,j in zip(url_list_1, columns_a_1):\n",
    "    \n",
    "    report=urlopen(i)\n",
    "    r=report.read()\n",
    "    xmlsoup=BeautifulSoup(r,'html.parser')\n",
    "    body=xmlsoup.find(\"body\")\n",
    "    table=body.find_all(\"table\")\n",
    "    \n",
    "    # 재무상태표\n",
    "    p1 = parser.make2d(table[1],) \n",
    "    BS = pd.DataFrame(p1[1:],columns=j)\n",
    "    BS=BS.loc[[1,12,21,23,34,39,48,49],:]\n",
    "    data1=pd.concat([data1,BS],axis=1)\n",
    "data1=data1.reset_index()"
   ]
  },
  {
   "cell_type": "code",
   "execution_count": 13,
   "metadata": {},
   "outputs": [],
   "source": [
    "url_list_2=[url_list[1],url_list[2]]\n",
    "columns_a_2=[columns_a[1],columns_a[2]]\n",
    "\n",
    "data2 = pd.DataFrame()\n",
    "\n",
    "for i,j in zip(url_list_2, columns_a_2):\n",
    "    \n",
    "    report=urlopen(i)\n",
    "    r=report.read()\n",
    "    xmlsoup=BeautifulSoup(r,'html.parser')\n",
    "    body=xmlsoup.find(\"body\")\n",
    "    table=body.find_all(\"table\")\n",
    "    \n",
    "    # 재무상태표\n",
    "    p1 = parser.make2d(table[1],) \n",
    "    BS = pd.DataFrame(p1[1:],columns=j)\n",
    "    BS=BS.loc[[1,12,21,23,34,40,48,49],:]\n",
    "    data2=pd.concat([data2,BS],axis=1)\n",
    "data2=data2.reset_index()"
   ]
  },
  {
   "cell_type": "code",
   "execution_count": 14,
   "metadata": {},
   "outputs": [],
   "source": [
    "url_list_3=[url_list[4],url_list[5],url_list[6]]\n",
    "columns_a_3=[columns_a[4],columns_a[5],columns_a[6]]\n",
    "\n",
    "data3 = pd.DataFrame()\n",
    "\n",
    "for i,j in zip(url_list_3, columns_a_3):\n",
    "    \n",
    "    report=urlopen(i)\n",
    "    r=report.read()\n",
    "    xmlsoup=BeautifulSoup(r,'html.parser')\n",
    "    body=xmlsoup.find(\"body\")\n",
    "    table=body.find_all(\"table\")\n",
    "    \n",
    "    # 재무상태표\n",
    "    p1 = parser.make2d(table[1],) \n",
    "    BS = pd.DataFrame(p1[1:],columns=j)\n",
    "    BS=BS.loc[[1,10,21,23,34,39,47,48],:]\n",
    "    data3=pd.concat([data3,BS],axis=1)\n",
    "data3=data3.reset_index()"
   ]
  },
  {
   "cell_type": "code",
   "execution_count": 15,
   "metadata": {},
   "outputs": [],
   "source": [
    "url_list_4=[url_list[8],url_list[9],url_list[10]]\n",
    "columns_a_4=[columns_a[8],columns_a[9],columns_a[10]]\n",
    "\n",
    "data4 = pd.DataFrame()\n",
    "\n",
    "for i,j in zip(url_list_4, columns_a_4):\n",
    "    \n",
    "    report=urlopen(i)\n",
    "    r=report.read()\n",
    "    xmlsoup=BeautifulSoup(r,'html.parser')\n",
    "    body=xmlsoup.find(\"body\")\n",
    "    table=body.find_all(\"table\")\n",
    "    \n",
    "    # 재무상태표\n",
    "    p1 = parser.make2d(table[1],) \n",
    "    BS = pd.DataFrame(p1[1:],columns=j)\n",
    "    BS=BS.loc[[1,10,21,22,34,39,47,48],:]\n",
    "    data4=pd.concat([data4,BS],axis=1)\n",
    "data4=data4.reset_index()"
   ]
  },
  {
   "cell_type": "code",
   "execution_count": 16,
   "metadata": {},
   "outputs": [],
   "source": [
    "report=urlopen(url_list[7])\n",
    "r=report.read()\n",
    "xmlsoup=BeautifulSoup(r,'html.parser')\n",
    "body=xmlsoup.find(\"body\")\n",
    "table=body.find_all(\"table\")\n",
    "\n",
    "# 재무상태표\n",
    "p1 = parser.make2d(table[1],) \n",
    "BS = pd.DataFrame(p1[1:],columns=columns_a[7])\n",
    "BS=BS.loc[[1,11,22,24,35,40,48,49],:]\n",
    "BS=BS.reset_index()"
   ]
  },
  {
   "cell_type": "code",
   "execution_count": 17,
   "metadata": {},
   "outputs": [],
   "source": [
    "BS_final=pd.concat([data1,data2,data3,data4,BS], axis=1)"
   ]
  },
  {
   "cell_type": "code",
   "execution_count": 18,
   "metadata": {
    "scrolled": true
   },
   "outputs": [],
   "source": [
    "BS_final = BS_final.loc[:,~BS_final.columns.duplicated()]"
   ]
  },
  {
   "cell_type": "code",
   "execution_count": 19,
   "metadata": {
    "scrolled": true
   },
   "outputs": [],
   "source": [
    "BS_final=BS_final[['구분','제 49 기 1분기말','제 49 기 반기말','제 49 기 3분기말','제 49 기말','제 50 기 1분기말','제 50 기 반기말',\n",
    "                  '제 50 기 3분기말', '제 50 기말', '제 51 기 1분기말', '제 51 기 반기말', '제 51 기 3분기말']]"
   ]
  },
  {
   "cell_type": "markdown",
   "metadata": {},
   "source": [
    "---------------------"
   ]
  },
  {
   "cell_type": "markdown",
   "metadata": {},
   "source": [
    "#### 손익계산서"
   ]
  },
  {
   "cell_type": "code",
   "execution_count": 20,
   "metadata": {
    "scrolled": true
   },
   "outputs": [],
   "source": [
    "# 크롤링을 할때 재무상태표는 순서가 일정하지만 손익계산서와 현금흐름표는 일정하지 않아서 수동으로 하나하나 찾아줘야함."
   ]
  },
  {
   "cell_type": "code",
   "execution_count": 21,
   "metadata": {
    "scrolled": true
   },
   "outputs": [],
   "source": [
    "data5=pd.DataFrame()\n",
    "\n",
    "for a in [0,1,2,4,8,9,10]:\n",
    "    report=urlopen(url_list[a])\n",
    "    r=report.read()\n",
    "    xmlsoup=BeautifulSoup(r,'html.parser')\n",
    "    body=xmlsoup.find(\"body\")\n",
    "    table=body.find_all(\"table\")\n",
    "\n",
    "\n",
    "    # 손익계산서\n",
    "    p2 = parser.make2d(table[3]) \n",
    "    IS = pd.DataFrame(p2[2:])\n",
    "    IS.columns=columns_b[a]\n",
    "    data5=pd.concat([data5,IS],axis=1)"
   ]
  },
  {
   "cell_type": "code",
   "execution_count": 22,
   "metadata": {
    "scrolled": true
   },
   "outputs": [],
   "source": [
    "data6=pd.DataFrame()\n",
    "\n",
    "for a in [5,6]:\n",
    "    report=urlopen(url_list[a])\n",
    "    r=report.read()\n",
    "    xmlsoup=BeautifulSoup(r,'html.parser')\n",
    "    body=xmlsoup.find(\"body\")\n",
    "    table=body.find_all(\"table\")\n",
    "\n",
    "\n",
    "    # 손익계산서\n",
    "    p2 = parser.make2d(table[4]) \n",
    "    IS = pd.DataFrame(p2[2:])\n",
    "    IS.columns=columns_b[a]\n",
    "    data6=pd.concat([data6,IS],axis=1)"
   ]
  },
  {
   "cell_type": "code",
   "execution_count": 23,
   "metadata": {},
   "outputs": [],
   "source": [
    "report=urlopen(url_list[3])\n",
    "r=report.read()\n",
    "xmlsoup=BeautifulSoup(r,'html.parser')\n",
    "body=xmlsoup.find(\"body\")\n",
    "table=body.find_all(\"table\")\n",
    "\n",
    "\n",
    "# 손익계산서\n",
    "p2_3 = parser.make2d(table[3]) \n",
    "IS_3 = pd.DataFrame(p2_3[1:])\n",
    "IS_3.columns=columns_b[3]"
   ]
  },
  {
   "cell_type": "code",
   "execution_count": 24,
   "metadata": {},
   "outputs": [],
   "source": [
    "report=urlopen(url_list[7])\n",
    "r=report.read()\n",
    "xmlsoup=BeautifulSoup(r,'html.parser')\n",
    "body=xmlsoup.find(\"body\")\n",
    "table=body.find_all(\"table\")\n",
    "\n",
    "\n",
    "# 손익계산서\n",
    "p2_7 = parser.make2d(table[4]) \n",
    "IS_7 = pd.DataFrame(p2_7[1:])\n",
    "IS_7.columns=columns_b[7]"
   ]
  },
  {
   "cell_type": "code",
   "execution_count": 25,
   "metadata": {},
   "outputs": [],
   "source": [
    "IS_final=pd.concat([data5,data6,IS_3,IS_7],axis=1)\n",
    "\n",
    "IS_final = IS_final.loc[:,~IS_final.columns.duplicated()]"
   ]
  },
  {
   "cell_type": "code",
   "execution_count": 26,
   "metadata": {},
   "outputs": [],
   "source": [
    "IS_final_1=IS_final[['구분','제 49 기 1분기3개월','제 49 기 반기3개월','제 49 기 3분기3개월','제 49 기',\n",
    "                     '제 50 기 1분기3개월','제 50 기 반기3개월','제 50 기 3분기3개월',\n",
    "                     '제 51 기 1분기3개월','제 51 기 반기3개월','제 51 기 3분기3개월']]\n",
    "IS_final_2=IS_final[['구분','제 49 기 1분기누적','제 49 기 반기누적','제 49 기 3분기누적', '제 49 기',\n",
    "                     '제 50 기 1분기누적','제 50 기 반기누적','제 50 기 3분기누적','제 50 기',\n",
    "                     '제 51 기 1분기누적','제 51 기 반기누적','제 51 기 3분기누적']]"
   ]
  },
  {
   "cell_type": "code",
   "execution_count": 27,
   "metadata": {},
   "outputs": [],
   "source": [
    "IS_final_1=IS_final_1.loc[[0,2,4,9,12,14,15],:]"
   ]
  },
  {
   "cell_type": "code",
   "execution_count": 28,
   "metadata": {},
   "outputs": [],
   "source": [
    "IS_final_2=IS_final_2.loc[[0,2,4,9,12,14,15],:]"
   ]
  },
  {
   "cell_type": "markdown",
   "metadata": {},
   "source": [
    "------------------"
   ]
  },
  {
   "cell_type": "markdown",
   "metadata": {},
   "source": [
    "#### 현금흐름표"
   ]
  },
  {
   "cell_type": "code",
   "execution_count": 29,
   "metadata": {},
   "outputs": [],
   "source": [
    "report=urlopen(url_list[0])\n",
    "r=report.read()\n",
    "xmlsoup=BeautifulSoup(r,'html.parser')\n",
    "body=xmlsoup.find(\"body\")\n",
    "table=body.find_all(\"table\")\n",
    "\n",
    "\n",
    "# 현금흐름표\n",
    "p3 = parser.make2d(table[-3])\n",
    "CF0 = pd.DataFrame(p3[1:])\n",
    "CF0.columns=columns_c[0]\n",
    "CF0=CF0.loc[[0,9,24],:]\n",
    "CF0=CF0.reset_index()"
   ]
  },
  {
   "cell_type": "code",
   "execution_count": 30,
   "metadata": {},
   "outputs": [],
   "source": [
    "report=urlopen(url_list[1])\n",
    "r=report.read()\n",
    "xmlsoup=BeautifulSoup(r,'html.parser')\n",
    "body=xmlsoup.find(\"body\")\n",
    "table=body.find_all(\"table\")\n",
    "\n",
    "\n",
    "# 현금흐름표\n",
    "p3 = parser.make2d(table[-3])\n",
    "CF1 = pd.DataFrame(p3[1:])\n",
    "CF1.columns=columns_c[1]\n",
    "CF1=CF1.loc[[0,9,23],:]\n",
    "CF1=CF1.reset_index()"
   ]
  },
  {
   "cell_type": "code",
   "execution_count": 31,
   "metadata": {},
   "outputs": [],
   "source": [
    "report=urlopen(url_list[2])\n",
    "r=report.read()\n",
    "xmlsoup=BeautifulSoup(r,'html.parser')\n",
    "body=xmlsoup.find(\"body\")\n",
    "table=body.find_all(\"table\")\n",
    "\n",
    "\n",
    "# 현금흐름표\n",
    "p3 = parser.make2d(table[-3])\n",
    "CF2 = pd.DataFrame(p3[1:])\n",
    "CF2.columns=columns_c[2]\n",
    "CF2=CF2.loc[[0,9,23],:]\n",
    "CF2=CF2.reset_index()"
   ]
  },
  {
   "cell_type": "code",
   "execution_count": 32,
   "metadata": {},
   "outputs": [],
   "source": [
    "report=urlopen(url_list[3])\n",
    "r=report.read()\n",
    "xmlsoup=BeautifulSoup(r,'html.parser')\n",
    "body=xmlsoup.find(\"body\")\n",
    "table=body.find_all(\"table\")\n",
    "\n",
    "\n",
    "# 현금흐름표\n",
    "p3 = parser.make2d(table[-3])\n",
    "CF3 = pd.DataFrame(p3[1:])\n",
    "CF3.columns=columns_c[3]\n",
    "CF3=CF3.loc[[0,9,23],:]\n",
    "CF3=CF3.reset_index()"
   ]
  },
  {
   "cell_type": "code",
   "execution_count": 33,
   "metadata": {},
   "outputs": [],
   "source": [
    "report=urlopen(url_list[4])\n",
    "r=report.read()\n",
    "xmlsoup=BeautifulSoup(r,'html.parser')\n",
    "body=xmlsoup.find(\"body\")\n",
    "table=body.find_all(\"table\")\n",
    "\n",
    "\n",
    "# 현금흐름표\n",
    "p3 = parser.make2d(table[-3])\n",
    "CF4 = pd.DataFrame(p3[1:])\n",
    "CF4.columns=columns_c[4]\n",
    "CF4=CF4.loc[[0,9,23],:]\n",
    "CF4=CF4.reset_index()"
   ]
  },
  {
   "cell_type": "code",
   "execution_count": 34,
   "metadata": {},
   "outputs": [],
   "source": [
    "report=urlopen(url_list[5])\n",
    "r=report.read()\n",
    "xmlsoup=BeautifulSoup(r,'html.parser')\n",
    "body=xmlsoup.find(\"body\")\n",
    "table=body.find_all(\"table\")\n",
    "\n",
    "\n",
    "# 현금흐름표\n",
    "p3 = parser.make2d(table[-4])\n",
    "CF5 = pd.DataFrame(p3[1:])\n",
    "CF5.columns=columns_c[5]\n",
    "CF5=CF5.loc[[0,9,25],:]\n",
    "CF5=CF5.reset_index()"
   ]
  },
  {
   "cell_type": "code",
   "execution_count": 35,
   "metadata": {},
   "outputs": [],
   "source": [
    "report=urlopen(url_list[6])\n",
    "r=report.read()\n",
    "xmlsoup=BeautifulSoup(r,'html.parser')\n",
    "body=xmlsoup.find(\"body\")\n",
    "table=body.find_all(\"table\")\n",
    "\n",
    "\n",
    "# 현금흐름표\n",
    "p3 = parser.make2d(table[-4])\n",
    "CF6 = pd.DataFrame(p3[1:])\n",
    "CF6.columns=columns_c[6]\n",
    "CF6=CF6.loc[[0,9,25],:]\n",
    "CF6=CF6.reset_index()"
   ]
  },
  {
   "cell_type": "code",
   "execution_count": 36,
   "metadata": {},
   "outputs": [],
   "source": [
    "report=urlopen(url_list[7])\n",
    "r=report.read()\n",
    "xmlsoup=BeautifulSoup(r,'html.parser')\n",
    "body=xmlsoup.find(\"body\")\n",
    "table=body.find_all(\"table\")\n",
    "\n",
    "\n",
    "# 현금흐름표\n",
    "p3_7 = parser.make2d(table[-5])\n",
    "CF7 = pd.DataFrame(p3_7[1:])\n",
    "CF7.columns=columns_c[7]\n",
    "CF7=CF7.loc[[0,9,26],:]\n",
    "CF7=CF7.reset_index()"
   ]
  },
  {
   "cell_type": "code",
   "execution_count": 37,
   "metadata": {},
   "outputs": [],
   "source": [
    "report=urlopen(url_list[8])\n",
    "r=report.read()\n",
    "xmlsoup=BeautifulSoup(r,'html.parser')\n",
    "body=xmlsoup.find(\"body\")\n",
    "table=body.find_all(\"table\")\n",
    "\n",
    "\n",
    "# 현금흐름표\n",
    "p3 = parser.make2d(table[-4])\n",
    "CF8 = pd.DataFrame(p3[1:])\n",
    "CF8.columns=columns_c[8]\n",
    "CF8=CF8.loc[[0,9,22],:]\n",
    "CF8=CF8.reset_index()"
   ]
  },
  {
   "cell_type": "code",
   "execution_count": 38,
   "metadata": {},
   "outputs": [],
   "source": [
    "report=urlopen(url_list[9])\n",
    "r=report.read()\n",
    "xmlsoup=BeautifulSoup(r,'html.parser')\n",
    "body=xmlsoup.find(\"body\")\n",
    "table=body.find_all(\"table\")\n",
    "\n",
    "\n",
    "# 현금흐름표\n",
    "p3 = parser.make2d(table[-4])\n",
    "CF9 = pd.DataFrame(p3[1:])\n",
    "CF9.columns=columns_c[9]\n",
    "CF9=CF9.loc[[0,9,23],:]\n",
    "CF9=CF9.reset_index()"
   ]
  },
  {
   "cell_type": "code",
   "execution_count": 39,
   "metadata": {},
   "outputs": [],
   "source": [
    "report=urlopen(url_list[10])\n",
    "r=report.read()\n",
    "xmlsoup=BeautifulSoup(r,'html.parser')\n",
    "body=xmlsoup.find(\"body\")\n",
    "table=body.find_all(\"table\")\n",
    "\n",
    "\n",
    "# 현금흐름표\n",
    "p3 = parser.make2d(table[-4])\n",
    "CF10 = pd.DataFrame(p3[1:])\n",
    "CF10.columns=columns_c[10]\n",
    "CF10=CF10.loc[[0,9,25],:]\n",
    "CF10=CF10.reset_index()"
   ]
  },
  {
   "cell_type": "code",
   "execution_count": 41,
   "metadata": {},
   "outputs": [],
   "source": [
    "CF_final=pd.concat([CF0,CF1,CF2,CF3,CF4,CF5,CF6,CF7,CF8,CF9,CF10],axis=1)\n",
    "\n",
    "CF_final=CF_final[['구분','제 49 기 1분기',  '제 49 기 반기', '제 49 기 3분기','제 49 기','제 50 기 1분기', \n",
    "                   '제 50 기 반기', '제 50 기 3분기', '제 50 기','제 51 기 1분기',  '제 51 기 반기',  '제 51 기 3분기']]\n",
    "\n",
    "CF_final = CF_final.loc[:,~CF_final.columns.duplicated()]"
   ]
  },
  {
   "cell_type": "code",
   "execution_count": 42,
   "metadata": {},
   "outputs": [
    {
     "data": {
      "text/html": [
       "<div>\n",
       "<style scoped>\n",
       "    .dataframe tbody tr th:only-of-type {\n",
       "        vertical-align: middle;\n",
       "    }\n",
       "\n",
       "    .dataframe tbody tr th {\n",
       "        vertical-align: top;\n",
       "    }\n",
       "\n",
       "    .dataframe thead th {\n",
       "        text-align: right;\n",
       "    }\n",
       "</style>\n",
       "<table border=\"1\" class=\"dataframe\">\n",
       "  <thead>\n",
       "    <tr style=\"text-align: right;\">\n",
       "      <th></th>\n",
       "      <th>구분</th>\n",
       "      <th>제 49 기 1분기말</th>\n",
       "      <th>제 49 기 반기말</th>\n",
       "      <th>제 49 기 3분기말</th>\n",
       "      <th>제 49 기말</th>\n",
       "      <th>제 50 기 1분기말</th>\n",
       "      <th>제 50 기 반기말</th>\n",
       "      <th>제 50 기 3분기말</th>\n",
       "      <th>제 50 기말</th>\n",
       "      <th>제 51 기 1분기말</th>\n",
       "      <th>제 51 기 반기말</th>\n",
       "      <th>제 51 기 3분기말</th>\n",
       "    </tr>\n",
       "  </thead>\n",
       "  <tbody>\n",
       "    <tr>\n",
       "      <td>0</td>\n",
       "      <td>유동자산</td>\n",
       "      <td>60,869,192</td>\n",
       "      <td>59,385,664</td>\n",
       "      <td>65,782,329</td>\n",
       "      <td>70,155,189</td>\n",
       "      <td>72,370,085</td>\n",
       "      <td>68,070,224</td>\n",
       "      <td>81,904,347</td>\n",
       "      <td>80,039,455</td>\n",
       "      <td>82,311,689</td>\n",
       "      <td>72,045,329</td>\n",
       "      <td>76,848,738</td>\n",
       "    </tr>\n",
       "    <tr>\n",
       "      <td>1</td>\n",
       "      <td>비유동자산</td>\n",
       "      <td>112,184,637</td>\n",
       "      <td>119,014,453</td>\n",
       "      <td>123,027,161</td>\n",
       "      <td>128,086,171</td>\n",
       "      <td>132,836,079</td>\n",
       "      <td>135,899,888</td>\n",
       "      <td>135,895,097</td>\n",
       "      <td>138,981,902</td>\n",
       "      <td>138,335,268</td>\n",
       "      <td>140,705,389</td>\n",
       "      <td>140,398,633</td>\n",
       "    </tr>\n",
       "    <tr>\n",
       "      <td>2</td>\n",
       "      <td>자산총계</td>\n",
       "      <td>173,053,829</td>\n",
       "      <td>178,400,117</td>\n",
       "      <td>188,809,490</td>\n",
       "      <td>198,241,360</td>\n",
       "      <td>205,206,164</td>\n",
       "      <td>203,970,112</td>\n",
       "      <td>217,799,444</td>\n",
       "      <td></td>\n",
       "      <td></td>\n",
       "      <td></td>\n",
       "      <td></td>\n",
       "    </tr>\n",
       "    <tr>\n",
       "      <td>3</td>\n",
       "      <td>유동부채</td>\n",
       "      <td>33,947,859</td>\n",
       "      <td>36,363,120</td>\n",
       "      <td>42,071,538</td>\n",
       "      <td>44,495,084</td>\n",
       "      <td>47,168,741</td>\n",
       "      <td>40,203,756</td>\n",
       "      <td>46,368,714</td>\n",
       "      <td>43,145,053</td>\n",
       "      <td>44,319,180</td>\n",
       "      <td>34,868,869</td>\n",
       "      <td>37,245,240</td>\n",
       "    </tr>\n",
       "    <tr>\n",
       "      <td>4</td>\n",
       "      <td>비유동부채</td>\n",
       "      <td>2,527,689</td>\n",
       "      <td>2,384,321</td>\n",
       "      <td>2,454,577</td>\n",
       "      <td>2,176,501</td>\n",
       "      <td>1,842,051</td>\n",
       "      <td>1,926,719</td>\n",
       "      <td>1,771,916</td>\n",
       "      <td>43,516</td>\n",
       "      <td>44,339</td>\n",
       "      <td>45,139</td>\n",
       "      <td>46,939</td>\n",
       "    </tr>\n",
       "  </tbody>\n",
       "</table>\n",
       "</div>"
      ],
      "text/plain": [
       "      구분  제 49 기 1분기말   제 49 기 반기말  제 49 기 3분기말      제 49 기말  제 50 기 1분기말  \\\n",
       "0   유동자산   60,869,192   59,385,664   65,782,329   70,155,189   72,370,085   \n",
       "1  비유동자산  112,184,637  119,014,453  123,027,161  128,086,171  132,836,079   \n",
       "2   자산총계  173,053,829  178,400,117  188,809,490  198,241,360  205,206,164   \n",
       "3   유동부채   33,947,859   36,363,120   42,071,538   44,495,084   47,168,741   \n",
       "4  비유동부채    2,527,689    2,384,321    2,454,577    2,176,501    1,842,051   \n",
       "\n",
       "    제 50 기 반기말  제 50 기 3분기말      제 50 기말  제 51 기 1분기말   제 51 기 반기말  \\\n",
       "0   68,070,224   81,904,347   80,039,455   82,311,689   72,045,329   \n",
       "1  135,899,888  135,895,097  138,981,902  138,335,268  140,705,389   \n",
       "2  203,970,112  217,799,444                                          \n",
       "3   40,203,756   46,368,714   43,145,053   44,319,180   34,868,869   \n",
       "4    1,926,719    1,771,916       43,516       44,339       45,139   \n",
       "\n",
       "   제 51 기 3분기말  \n",
       "0   76,848,738  \n",
       "1  140,398,633  \n",
       "2               \n",
       "3   37,245,240  \n",
       "4       46,939  "
      ]
     },
     "execution_count": 42,
     "metadata": {},
     "output_type": "execute_result"
    }
   ],
   "source": [
    "BS_final.head()"
   ]
  },
  {
   "cell_type": "code",
   "execution_count": 43,
   "metadata": {
    "scrolled": true
   },
   "outputs": [
    {
     "data": {
      "text/html": [
       "<div>\n",
       "<style scoped>\n",
       "    .dataframe tbody tr th:only-of-type {\n",
       "        vertical-align: middle;\n",
       "    }\n",
       "\n",
       "    .dataframe tbody tr th {\n",
       "        vertical-align: top;\n",
       "    }\n",
       "\n",
       "    .dataframe thead th {\n",
       "        text-align: right;\n",
       "    }\n",
       "</style>\n",
       "<table border=\"1\" class=\"dataframe\">\n",
       "  <thead>\n",
       "    <tr style=\"text-align: right;\">\n",
       "      <th></th>\n",
       "      <th>구분</th>\n",
       "      <th>제 49 기 1분기3개월</th>\n",
       "      <th>제 49 기 반기3개월</th>\n",
       "      <th>제 49 기 3분기3개월</th>\n",
       "      <th>제 49 기</th>\n",
       "      <th>제 50 기 1분기3개월</th>\n",
       "      <th>제 50 기 반기3개월</th>\n",
       "      <th>제 50 기 3분기3개월</th>\n",
       "      <th>제 51 기 1분기3개월</th>\n",
       "      <th>제 51 기 반기3개월</th>\n",
       "      <th>제 51 기 3분기3개월</th>\n",
       "    </tr>\n",
       "  </thead>\n",
       "  <tbody>\n",
       "    <tr>\n",
       "      <td>0</td>\n",
       "      <td>수익(매출액)</td>\n",
       "      <td>34,578,524</td>\n",
       "      <td>42,130,809</td>\n",
       "      <td>43,074,291</td>\n",
       "      <td>161,915,007</td>\n",
       "      <td>42,606,978</td>\n",
       "      <td>41,314,723</td>\n",
       "      <td>47,645,339</td>\n",
       "      <td>37,038,395</td>\n",
       "      <td>38,149,674</td>\n",
       "      <td>42,204,911</td>\n",
       "    </tr>\n",
       "    <tr>\n",
       "      <td>2</td>\n",
       "      <td>매출총이익</td>\n",
       "      <td>11,636,988</td>\n",
       "      <td>14,389,773</td>\n",
       "      <td>16,395,814</td>\n",
       "      <td>60,515,350</td>\n",
       "      <td>17,410,718</td>\n",
       "      <td>16,708,550</td>\n",
       "      <td>20,067,142</td>\n",
       "      <td>10,586,172</td>\n",
       "      <td>9,458,953</td>\n",
       "      <td>9,468,922</td>\n",
       "    </tr>\n",
       "    <tr>\n",
       "      <td>4</td>\n",
       "      <td>영업이익(손실)</td>\n",
       "      <td>5,675,571</td>\n",
       "      <td>7,927,556</td>\n",
       "      <td>9,994,481</td>\n",
       "      <td>34,857,091</td>\n",
       "      <td>11,200,897</td>\n",
       "      <td>11,049,605</td>\n",
       "      <td>13,912,717</td>\n",
       "      <td>3,896,923</td>\n",
       "      <td>2,797,158</td>\n",
       "      <td>2,665,967</td>\n",
       "    </tr>\n",
       "    <tr>\n",
       "      <td>9</td>\n",
       "      <td>법인세비용차감전순이익(손실)</td>\n",
       "      <td>6,309,744</td>\n",
       "      <td>7,927,705</td>\n",
       "      <td>10,035,363</td>\n",
       "      <td>36,533,552</td>\n",
       "      <td>11,568,977</td>\n",
       "      <td>11,094,590</td>\n",
       "      <td>13,887,163</td>\n",
       "      <td>4,154,401</td>\n",
       "      <td>4,304,753</td>\n",
       "      <td>5,786,457</td>\n",
       "    </tr>\n",
       "    <tr>\n",
       "      <td>12</td>\n",
       "      <td>당기순이익(손실)</td>\n",
       "      <td>4,873,767</td>\n",
       "      <td>6,143,724</td>\n",
       "      <td>7,777,375</td>\n",
       "      <td>28,800,837</td>\n",
       "      <td>8,452,458</td>\n",
       "      <td>8,077,985</td>\n",
       "      <td>10,211,548</td>\n",
       "      <td>3,088,628</td>\n",
       "      <td>4,063,169</td>\n",
       "      <td>4,585,890</td>\n",
       "    </tr>\n",
       "  </tbody>\n",
       "</table>\n",
       "</div>"
      ],
      "text/plain": [
       "                 구분 제 49 기 1분기3개월 제 49 기 반기3개월 제 49 기 3분기3개월       제 49 기  \\\n",
       "0           수익(매출액)    34,578,524   42,130,809    43,074,291  161,915,007   \n",
       "2             매출총이익    11,636,988   14,389,773    16,395,814   60,515,350   \n",
       "4          영업이익(손실)     5,675,571    7,927,556     9,994,481   34,857,091   \n",
       "9   법인세비용차감전순이익(손실)     6,309,744    7,927,705    10,035,363   36,533,552   \n",
       "12        당기순이익(손실)     4,873,767    6,143,724     7,777,375   28,800,837   \n",
       "\n",
       "   제 50 기 1분기3개월 제 50 기 반기3개월 제 50 기 3분기3개월 제 51 기 1분기3개월 제 51 기 반기3개월  \\\n",
       "0     42,606,978   41,314,723    47,645,339    37,038,395   38,149,674   \n",
       "2     17,410,718   16,708,550    20,067,142    10,586,172    9,458,953   \n",
       "4     11,200,897   11,049,605    13,912,717     3,896,923    2,797,158   \n",
       "9     11,568,977   11,094,590    13,887,163     4,154,401    4,304,753   \n",
       "12     8,452,458    8,077,985    10,211,548     3,088,628    4,063,169   \n",
       "\n",
       "   제 51 기 3분기3개월  \n",
       "0     42,204,911  \n",
       "2      9,468,922  \n",
       "4      2,665,967  \n",
       "9      5,786,457  \n",
       "12     4,585,890  "
      ]
     },
     "execution_count": 43,
     "metadata": {},
     "output_type": "execute_result"
    }
   ],
   "source": [
    "IS_final_1.head()"
   ]
  },
  {
   "cell_type": "code",
   "execution_count": 44,
   "metadata": {},
   "outputs": [
    {
     "data": {
      "text/html": [
       "<div>\n",
       "<style scoped>\n",
       "    .dataframe tbody tr th:only-of-type {\n",
       "        vertical-align: middle;\n",
       "    }\n",
       "\n",
       "    .dataframe tbody tr th {\n",
       "        vertical-align: top;\n",
       "    }\n",
       "\n",
       "    .dataframe thead th {\n",
       "        text-align: right;\n",
       "    }\n",
       "</style>\n",
       "<table border=\"1\" class=\"dataframe\">\n",
       "  <thead>\n",
       "    <tr style=\"text-align: right;\">\n",
       "      <th></th>\n",
       "      <th>구분</th>\n",
       "      <th>제 49 기 1분기누적</th>\n",
       "      <th>제 49 기 반기누적</th>\n",
       "      <th>제 49 기 3분기누적</th>\n",
       "      <th>제 49 기</th>\n",
       "      <th>제 50 기 1분기누적</th>\n",
       "      <th>제 50 기 반기누적</th>\n",
       "      <th>제 50 기 3분기누적</th>\n",
       "      <th>제 50 기</th>\n",
       "      <th>제 51 기 1분기누적</th>\n",
       "      <th>제 51 기 반기누적</th>\n",
       "      <th>제 51 기 3분기누적</th>\n",
       "    </tr>\n",
       "  </thead>\n",
       "  <tbody>\n",
       "    <tr>\n",
       "      <td>0</td>\n",
       "      <td>수익(매출액)</td>\n",
       "      <td>34,578,524</td>\n",
       "      <td>76,709,333</td>\n",
       "      <td>119,783,624</td>\n",
       "      <td>161,915,007</td>\n",
       "      <td>42,606,978</td>\n",
       "      <td>83,921,701</td>\n",
       "      <td>131,567,040</td>\n",
       "      <td>170,381,870</td>\n",
       "      <td>37,038,395</td>\n",
       "      <td>75,188,069</td>\n",
       "      <td>117,392,980</td>\n",
       "    </tr>\n",
       "    <tr>\n",
       "      <td>2</td>\n",
       "      <td>매출총이익</td>\n",
       "      <td>11,636,988</td>\n",
       "      <td>26,026,761</td>\n",
       "      <td>42,422,575</td>\n",
       "      <td>60,515,350</td>\n",
       "      <td>17,410,718</td>\n",
       "      <td>34,119,268</td>\n",
       "      <td>54,186,410</td>\n",
       "      <td>68,715,364</td>\n",
       "      <td>10,586,172</td>\n",
       "      <td>20,045,125</td>\n",
       "      <td>29,514,047</td>\n",
       "    </tr>\n",
       "    <tr>\n",
       "      <td>4</td>\n",
       "      <td>영업이익(손실)</td>\n",
       "      <td>5,675,571</td>\n",
       "      <td>13,603,127</td>\n",
       "      <td>23,597,608</td>\n",
       "      <td>34,857,091</td>\n",
       "      <td>11,200,897</td>\n",
       "      <td>22,250,502</td>\n",
       "      <td>36,163,219</td>\n",
       "      <td>43,699,451</td>\n",
       "      <td>3,896,923</td>\n",
       "      <td>6,694,081</td>\n",
       "      <td>9,360,048</td>\n",
       "    </tr>\n",
       "    <tr>\n",
       "      <td>9</td>\n",
       "      <td>법인세비용차감전순이익(손실)</td>\n",
       "      <td>6,309,744</td>\n",
       "      <td>14,237,449</td>\n",
       "      <td>24,272,812</td>\n",
       "      <td>36,533,552</td>\n",
       "      <td>11,568,977</td>\n",
       "      <td>22,663,567</td>\n",
       "      <td>36,550,730</td>\n",
       "      <td>44,398,855</td>\n",
       "      <td>4,154,401</td>\n",
       "      <td>8,459,154</td>\n",
       "      <td>14,245,611</td>\n",
       "    </tr>\n",
       "    <tr>\n",
       "      <td>12</td>\n",
       "      <td>당기순이익(손실)</td>\n",
       "      <td>4,873,767</td>\n",
       "      <td>11,017,491</td>\n",
       "      <td>18,794,866</td>\n",
       "      <td>28,800,837</td>\n",
       "      <td>8,452,458</td>\n",
       "      <td>16,530,443</td>\n",
       "      <td>26,741,991</td>\n",
       "      <td>32,815,127</td>\n",
       "      <td>3,088,628</td>\n",
       "      <td>7,151,797</td>\n",
       "      <td>11,737,687</td>\n",
       "    </tr>\n",
       "  </tbody>\n",
       "</table>\n",
       "</div>"
      ],
      "text/plain": [
       "                 구분 제 49 기 1분기누적 제 49 기 반기누적 제 49 기 3분기누적       제 49 기  \\\n",
       "0           수익(매출액)   34,578,524  76,709,333  119,783,624  161,915,007   \n",
       "2             매출총이익   11,636,988  26,026,761   42,422,575   60,515,350   \n",
       "4          영업이익(손실)    5,675,571  13,603,127   23,597,608   34,857,091   \n",
       "9   법인세비용차감전순이익(손실)    6,309,744  14,237,449   24,272,812   36,533,552   \n",
       "12        당기순이익(손실)    4,873,767  11,017,491   18,794,866   28,800,837   \n",
       "\n",
       "   제 50 기 1분기누적 제 50 기 반기누적 제 50 기 3분기누적       제 50 기 제 51 기 1분기누적  \\\n",
       "0    42,606,978  83,921,701  131,567,040  170,381,870   37,038,395   \n",
       "2    17,410,718  34,119,268   54,186,410   68,715,364   10,586,172   \n",
       "4    11,200,897  22,250,502   36,163,219   43,699,451    3,896,923   \n",
       "9    11,568,977  22,663,567   36,550,730   44,398,855    4,154,401   \n",
       "12    8,452,458  16,530,443   26,741,991   32,815,127    3,088,628   \n",
       "\n",
       "   제 51 기 반기누적 제 51 기 3분기누적  \n",
       "0   75,188,069  117,392,980  \n",
       "2   20,045,125   29,514,047  \n",
       "4    6,694,081    9,360,048  \n",
       "9    8,459,154   14,245,611  \n",
       "12   7,151,797   11,737,687  "
      ]
     },
     "execution_count": 44,
     "metadata": {},
     "output_type": "execute_result"
    }
   ],
   "source": [
    "IS_final_2.head()"
   ]
  },
  {
   "cell_type": "code",
   "execution_count": 45,
   "metadata": {
    "scrolled": true
   },
   "outputs": [
    {
     "data": {
      "text/html": [
       "<div>\n",
       "<style scoped>\n",
       "    .dataframe tbody tr th:only-of-type {\n",
       "        vertical-align: middle;\n",
       "    }\n",
       "\n",
       "    .dataframe tbody tr th {\n",
       "        vertical-align: top;\n",
       "    }\n",
       "\n",
       "    .dataframe thead th {\n",
       "        text-align: right;\n",
       "    }\n",
       "</style>\n",
       "<table border=\"1\" class=\"dataframe\">\n",
       "  <thead>\n",
       "    <tr style=\"text-align: right;\">\n",
       "      <th></th>\n",
       "      <th>구분</th>\n",
       "      <th>제 49 기 1분기</th>\n",
       "      <th>제 49 기 반기</th>\n",
       "      <th>제 49 기 3분기</th>\n",
       "      <th>제 49 기</th>\n",
       "      <th>제 50 기 1분기</th>\n",
       "      <th>제 50 기 반기</th>\n",
       "      <th>제 50 기 3분기</th>\n",
       "      <th>제 50 기</th>\n",
       "      <th>제 51 기 1분기</th>\n",
       "      <th>제 51 기 반기</th>\n",
       "      <th>제 51 기 3분기</th>\n",
       "    </tr>\n",
       "  </thead>\n",
       "  <tbody>\n",
       "    <tr>\n",
       "      <td>0</td>\n",
       "      <td>영업활동 현금흐름</td>\n",
       "      <td>7,087,039</td>\n",
       "      <td>11,002,113</td>\n",
       "      <td>23,660,843</td>\n",
       "      <td>38,906,190</td>\n",
       "      <td>13,056,587</td>\n",
       "      <td>18,073,882</td>\n",
       "      <td>29,342,891</td>\n",
       "      <td>44,341,217</td>\n",
       "      <td>3,106,972</td>\n",
       "      <td>2,228,736</td>\n",
       "      <td>12,895,344</td>\n",
       "    </tr>\n",
       "    <tr>\n",
       "      <td>1</td>\n",
       "      <td>투자활동 현금흐름</td>\n",
       "      <td>(1,651,453)</td>\n",
       "      <td>(4,865,616)</td>\n",
       "      <td>(15,824,391)</td>\n",
       "      <td>(28,118,806)</td>\n",
       "      <td>(2,629,346)</td>\n",
       "      <td>(8,870,920)</td>\n",
       "      <td>(22,250,426)</td>\n",
       "      <td>(31,678,548)</td>\n",
       "      <td>2,866,813</td>\n",
       "      <td>4,677,057</td>\n",
       "      <td>(4,537,058)</td>\n",
       "    </tr>\n",
       "    <tr>\n",
       "      <td>2</td>\n",
       "      <td>재무활동 현금흐름</td>\n",
       "      <td>(4,331,326)</td>\n",
       "      <td>(7,297,590)</td>\n",
       "      <td>(8,658,869)</td>\n",
       "      <td>(11,801,987)</td>\n",
       "      <td>(5,421,419)</td>\n",
       "      <td>(7,984,782)</td>\n",
       "      <td>(5,936,201)</td>\n",
       "      <td>(2,716)</td>\n",
       "      <td>(3,008,810)</td>\n",
       "      <td>(5,904,161)</td>\n",
       "      <td>(8,830,958)</td>\n",
       "    </tr>\n",
       "  </tbody>\n",
       "</table>\n",
       "</div>"
      ],
      "text/plain": [
       "          구분   제 49 기 1분기    제 49 기 반기    제 49 기 3분기        제 49 기  \\\n",
       "0  영업활동 현금흐름    7,087,039   11,002,113    23,660,843    38,906,190   \n",
       "1  투자활동 현금흐름  (1,651,453)  (4,865,616)  (15,824,391)  (28,118,806)   \n",
       "2  재무활동 현금흐름  (4,331,326)  (7,297,590)   (8,658,869)  (11,801,987)   \n",
       "\n",
       "    제 50 기 1분기    제 50 기 반기    제 50 기 3분기        제 50 기   제 51 기 1분기  \\\n",
       "0   13,056,587   18,073,882    29,342,891    44,341,217    3,106,972   \n",
       "1  (2,629,346)  (8,870,920)  (22,250,426)  (31,678,548)    2,866,813   \n",
       "2  (5,421,419)  (7,984,782)   (5,936,201)       (2,716)  (3,008,810)   \n",
       "\n",
       "     제 51 기 반기   제 51 기 3분기  \n",
       "0    2,228,736   12,895,344  \n",
       "1    4,677,057  (4,537,058)  \n",
       "2  (5,904,161)  (8,830,958)  "
      ]
     },
     "execution_count": 45,
     "metadata": {},
     "output_type": "execute_result"
    }
   ],
   "source": [
    "CF_final.head()"
   ]
  },
  {
   "cell_type": "code",
   "execution_count": 46,
   "metadata": {},
   "outputs": [],
   "source": [
    "BS_final.to_csv('data/BS.csv')\n",
    "IS_final_1.to_csv('data/IS_1.csv')\n",
    "IS_final_2.to_csv('data/IS_2.csv')\n",
    "CF_final.to_csv('data/CF.csv')"
   ]
  },
  {
   "cell_type": "code",
   "execution_count": null,
   "metadata": {},
   "outputs": [],
   "source": []
  }
 ],
 "metadata": {
  "kernelspec": {
   "display_name": "Python 3",
   "language": "python",
   "name": "python3"
  },
  "language_info": {
   "codemirror_mode": {
    "name": "ipython",
    "version": 3
   },
   "file_extension": ".py",
   "mimetype": "text/x-python",
   "name": "python",
   "nbconvert_exporter": "python",
   "pygments_lexer": "ipython3",
   "version": "3.7.4"
  }
 },
 "nbformat": 4,
 "nbformat_minor": 2
}
