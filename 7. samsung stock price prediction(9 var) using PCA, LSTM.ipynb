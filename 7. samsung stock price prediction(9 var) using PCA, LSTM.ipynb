{
 "cells": [
  {
   "cell_type": "code",
   "execution_count": 1,
   "metadata": {},
   "outputs": [
    {
     "name": "stderr",
     "output_type": "stream",
     "text": [
      "Using TensorFlow backend.\n"
     ]
    }
   ],
   "source": [
    "import pandas as pd\n",
    "import numpy as np\n",
    "import matplotlib.pyplot as plt \n",
    "\n",
    "from keras.models import Sequential\n",
    "from keras.layers import Dense, LSTM ,Dropout\n",
    "from keras.callbacks import EarlyStopping\n",
    "\n",
    "from sklearn.preprocessing import StandardScaler\n",
    "from sklearn.decomposition import PCA\n",
    "from sklearn.preprocessing import MinMaxScaler\n",
    "from sklearn.metrics import mean_squared_error"
   ]
  },
  {
   "cell_type": "markdown",
   "metadata": {},
   "source": [
    "#### import data"
   ]
  },
  {
   "cell_type": "code",
   "execution_count": 2,
   "metadata": {},
   "outputs": [
    {
     "name": "stdout",
     "output_type": "stream",
     "text": [
      "(721, 8)\n"
     ]
    },
    {
     "data": {
      "text/html": [
       "<div>\n",
       "<style scoped>\n",
       "    .dataframe tbody tr th:only-of-type {\n",
       "        vertical-align: middle;\n",
       "    }\n",
       "\n",
       "    .dataframe tbody tr th {\n",
       "        vertical-align: top;\n",
       "    }\n",
       "\n",
       "    .dataframe thead th {\n",
       "        text-align: right;\n",
       "    }\n",
       "</style>\n",
       "<table border=\"1\" class=\"dataframe\">\n",
       "  <thead>\n",
       "    <tr style=\"text-align: right;\">\n",
       "      <th></th>\n",
       "      <th>index</th>\n",
       "      <th>Date</th>\n",
       "      <th>Open</th>\n",
       "      <th>High</th>\n",
       "      <th>Low</th>\n",
       "      <th>Close</th>\n",
       "      <th>Adj Close</th>\n",
       "      <th>Volume</th>\n",
       "    </tr>\n",
       "  </thead>\n",
       "  <tbody>\n",
       "    <tr>\n",
       "      <td>0</td>\n",
       "      <td>0</td>\n",
       "      <td>2017-01-17</td>\n",
       "      <td>36580.0</td>\n",
       "      <td>37460.0</td>\n",
       "      <td>36580.0</td>\n",
       "      <td>36960.0</td>\n",
       "      <td>7811.878418</td>\n",
       "      <td>8150700.0</td>\n",
       "    </tr>\n",
       "    <tr>\n",
       "      <td>1</td>\n",
       "      <td>1</td>\n",
       "      <td>2017-01-18</td>\n",
       "      <td>37040.0</td>\n",
       "      <td>37500.0</td>\n",
       "      <td>36620.0</td>\n",
       "      <td>36940.0</td>\n",
       "      <td>7807.651367</td>\n",
       "      <td>8875400.0</td>\n",
       "    </tr>\n",
       "    <tr>\n",
       "      <td>2</td>\n",
       "      <td>2</td>\n",
       "      <td>2017-01-19</td>\n",
       "      <td>37720.0</td>\n",
       "      <td>37920.0</td>\n",
       "      <td>37020.0</td>\n",
       "      <td>37480.0</td>\n",
       "      <td>7921.786133</td>\n",
       "      <td>9418900.0</td>\n",
       "    </tr>\n",
       "    <tr>\n",
       "      <td>3</td>\n",
       "      <td>3</td>\n",
       "      <td>2017-01-20</td>\n",
       "      <td>37120.0</td>\n",
       "      <td>37420.0</td>\n",
       "      <td>36880.0</td>\n",
       "      <td>37200.0</td>\n",
       "      <td>7862.604004</td>\n",
       "      <td>9185000.0</td>\n",
       "    </tr>\n",
       "    <tr>\n",
       "      <td>4</td>\n",
       "      <td>4</td>\n",
       "      <td>2017-01-23</td>\n",
       "      <td>37200.0</td>\n",
       "      <td>38060.0</td>\n",
       "      <td>37000.0</td>\n",
       "      <td>38060.0</td>\n",
       "      <td>8044.374512</td>\n",
       "      <td>8810400.0</td>\n",
       "    </tr>\n",
       "  </tbody>\n",
       "</table>\n",
       "</div>"
      ],
      "text/plain": [
       "   index        Date     Open     High      Low    Close    Adj Close  \\\n",
       "0      0  2017-01-17  36580.0  37460.0  36580.0  36960.0  7811.878418   \n",
       "1      1  2017-01-18  37040.0  37500.0  36620.0  36940.0  7807.651367   \n",
       "2      2  2017-01-19  37720.0  37920.0  37020.0  37480.0  7921.786133   \n",
       "3      3  2017-01-20  37120.0  37420.0  36880.0  37200.0  7862.604004   \n",
       "4      4  2017-01-23  37200.0  38060.0  37000.0  38060.0  8044.374512   \n",
       "\n",
       "      Volume  \n",
       "0  8150700.0  \n",
       "1  8875400.0  \n",
       "2  9418900.0  \n",
       "3  9185000.0  \n",
       "4  8810400.0  "
      ]
     },
     "execution_count": 2,
     "metadata": {},
     "output_type": "execute_result"
    }
   ],
   "source": [
    "data=pd.read_csv('./data/samsung.csv')\n",
    "data=data.dropna().reset_index()\n",
    "print(data.shape)\n",
    "data.head()"
   ]
  },
  {
   "cell_type": "markdown",
   "metadata": {},
   "source": [
    "#### data frame 만들기"
   ]
  },
  {
   "cell_type": "code",
   "execution_count": 3,
   "metadata": {},
   "outputs": [],
   "source": [
    "class sumin():\n",
    "    \n",
    "    def __init__(self):\n",
    "        self.data = data\n",
    "\n",
    "    @staticmethod\n",
    "    def bollinger_band(data, w=20, k=2):\n",
    "\n",
    "        data=data['Close']\n",
    "        mbb = data.rolling(w).mean()\n",
    "        ubb = mbb + k * data.rolling(w).std()\n",
    "        lbb = mbb - k * data.rolling(w).std()\n",
    "        result = np.array([data,mbb,ubb,lbb])\n",
    "\n",
    "        df = pd.DataFrame(result).T\n",
    "        df.columns = [\"close\", \"mbb\", \"ubb\", \"lbb\"]\n",
    "\n",
    "        return df\n",
    "    \n",
    "    \n",
    "    @staticmethod\n",
    "    def moving_average(data, w=5):\n",
    "        \n",
    "        data=data['Close']\n",
    "        ma_w=data.ewm(span=w).mean()\n",
    "        ma_5=data.ewm(span=5).mean()\n",
    "        ma_10=data.ewm(span=10).mean()\n",
    "        ma_15=data.ewm(span=15).mean()\n",
    "        ma_20=data.ewm(span=20).mean()\n",
    "        ma_30=data.ewm(span=30).mean()\n",
    "        ma_60=data.ewm(span=60).mean()\n",
    "\n",
    "        result = np.array([data,ma_w,ma_5,ma_10,ma_15,ma_20,ma_30,ma_60])\n",
    "\n",
    "        df = pd.DataFrame(result).T\n",
    "        df.columns = [\"close\", \"user_ma_{}\".format(w), \"ma_5\", \"ma_10\",\"ma_15\",\"ma_20\",\"ma_30\",\"ma_60\" ]\n",
    "\n",
    "        if w == 5:\n",
    "            del df['user_ma_5']\n",
    "\n",
    "        return df\n",
    "    \n",
    "    \n",
    "    @staticmethod\n",
    "    def macd(data, fast=12, slow=26, signal=9) :\n",
    "\n",
    "        data=data['Close']\n",
    "        fast = data.ewm(span=fast).mean() \n",
    "        slow = data.ewm(span=slow).mean() \n",
    "        macd = fast - slow \n",
    "        signal = macd.ewm(span=signal).mean() \n",
    "        osc = macd - signal \n",
    "\n",
    "        result = np.array([data,macd,fast,slow, signal,osc])\n",
    "        df = pd.DataFrame(result).T\n",
    "        df.columns = [\"close\", \"macd\", \"fast\", \"slow\",\"signal\",\"osc\"]\n",
    "\n",
    "        return df\n",
    "    \n",
    "    @staticmethod\n",
    "    def rsi(data, length=14):\n",
    "\n",
    "        data=data['Close']\n",
    "        delta = data.diff()\n",
    "        delta = delta[1:]\n",
    "        up, down = delta.copy(), delta.copy()\n",
    "        up[up < 0.0] = 0.0\n",
    "        down[down > 0.0] = 0.0\n",
    "\n",
    "        roll_up1 = up.ewm(com=(length-1), min_periods=length).mean()\n",
    "        roll_down1 = down.abs().ewm(com=(length-1), min_periods=length).mean()\n",
    "\n",
    "        RSI_1 = roll_up1 / roll_down1\n",
    "        RSI = 100.0 - (100.0 / (1.0 + RSI_1))\n",
    "\n",
    "        df = pd.DataFrame([data,RSI]).T\n",
    "        df.columns = [\"close\", \"rsi\"]\n",
    "\n",
    "        return df\n",
    "    \n",
    "    \n",
    "    @staticmethod\n",
    "    def stochastic(data, n=15, m=5, t=3):\n",
    "\n",
    "        high = data.High.rolling(window=n, min_periods=1).max()\n",
    "        low = data.Low.rolling(window=n, min_periods=1).min()\n",
    "\n",
    "        fast_K = ((data.Close - low) / (high - low))*100\n",
    "        fast_D = fast_K.ewm(span=m).mean()\n",
    "        Slow_D = fast_D.ewm(span=t).mean()\n",
    "\n",
    "        df = pd.DataFrame([data['Close'],data['Open'],data['High'],data['Low'],fast_K,fast_D,Slow_D]).T\n",
    "        df.columns = [\"close\",'open','high','low', \"fast_K\",'fast_D','slow_D']\n",
    "\n",
    "        return df\n",
    "\n",
    "    @staticmethod\n",
    "    def roc(data,n=5):\n",
    "        \n",
    "        N = data['Close'].diff(n)\n",
    "        D = data['Close'].shift(n)\n",
    "        ROC = pd.Series(N/D,name='ROC')\n",
    "\n",
    "        df = pd.DataFrame([data['Close'],ROC]).T\n",
    "        df.columns = [\"close\", \"roc\"]\n",
    "        \n",
    "        return df"
   ]
  },
  {
   "cell_type": "code",
   "execution_count": 4,
   "metadata": {},
   "outputs": [],
   "source": [
    "sumin=sumin()\n",
    "bb=sumin.bollinger_band(data)\n",
    "ma=sumin.moving_average(data)\n",
    "macd=sumin.macd(data)\n",
    "rsi=sumin.rsi(data)\n",
    "sto=sumin.stochastic(data)\n",
    "roc=sumin.roc(data)"
   ]
  },
  {
   "cell_type": "code",
   "execution_count": 5,
   "metadata": {},
   "outputs": [
    {
     "data": {
      "text/plain": [
       "((721, 4), (721, 7), (721, 6), (721, 2), (721, 7), (721, 2))"
      ]
     },
     "execution_count": 5,
     "metadata": {},
     "output_type": "execute_result"
    }
   ],
   "source": [
    "bb.shape, ma.shape, macd.shape, rsi.shape, sto.shape, roc.shape"
   ]
  },
  {
   "cell_type": "code",
   "execution_count": null,
   "metadata": {},
   "outputs": [],
   "source": []
  },
  {
   "cell_type": "code",
   "execution_count": 6,
   "metadata": {},
   "outputs": [],
   "source": [
    "data_1=pd.merge(bb,ma, how='outer', left_index=True, right_index=True)\n",
    "data_1=pd.merge(data_1,macd, how='outer', left_index=True, right_index=True)\n",
    "data_1=pd.merge(data_1,rsi, how='outer', left_index=True, right_index=True)\n",
    "data_1=pd.merge(data_1,sto, how='outer', left_index=True, right_index=True)\n",
    "data_1=pd.merge(data_1,roc, how='outer', left_index=True, right_index=True)\n",
    "data_1=pd.merge(data_1, data[\"Close\"], how='outer', left_index=True, right_index=True)\n",
    "\n",
    "#include date\n",
    "df=pd.merge(data_1, data['Date'],left_on=None, right_on=None, left_index=True, right_index=True)"
   ]
  },
  {
   "cell_type": "code",
   "execution_count": 7,
   "metadata": {},
   "outputs": [],
   "source": [
    "df = df[['Date','Close','mbb','ubb','lbb','ma_5','ma_10','ma_15','ma_20','ma_30','ma_60','macd','fast','slow','signal',\n",
    "                   'osc','rsi','open','high','low','fast_K','fast_D','slow_D','roc']]"
   ]
  },
  {
   "cell_type": "code",
   "execution_count": 8,
   "metadata": {},
   "outputs": [],
   "source": [
    "df=df.dropna()"
   ]
  },
  {
   "cell_type": "code",
   "execution_count": 9,
   "metadata": {
    "scrolled": true
   },
   "outputs": [
    {
     "name": "stdout",
     "output_type": "stream",
     "text": [
      "(702, 24)\n"
     ]
    },
    {
     "data": {
      "text/html": [
       "<div>\n",
       "<style scoped>\n",
       "    .dataframe tbody tr th:only-of-type {\n",
       "        vertical-align: middle;\n",
       "    }\n",
       "\n",
       "    .dataframe tbody tr th {\n",
       "        vertical-align: top;\n",
       "    }\n",
       "\n",
       "    .dataframe thead th {\n",
       "        text-align: right;\n",
       "    }\n",
       "</style>\n",
       "<table border=\"1\" class=\"dataframe\">\n",
       "  <thead>\n",
       "    <tr style=\"text-align: right;\">\n",
       "      <th></th>\n",
       "      <th>Date</th>\n",
       "      <th>Close</th>\n",
       "      <th>mbb</th>\n",
       "      <th>ubb</th>\n",
       "      <th>lbb</th>\n",
       "      <th>ma_5</th>\n",
       "      <th>ma_10</th>\n",
       "      <th>ma_15</th>\n",
       "      <th>ma_20</th>\n",
       "      <th>ma_30</th>\n",
       "      <th>...</th>\n",
       "      <th>signal</th>\n",
       "      <th>osc</th>\n",
       "      <th>rsi</th>\n",
       "      <th>open</th>\n",
       "      <th>high</th>\n",
       "      <th>low</th>\n",
       "      <th>fast_K</th>\n",
       "      <th>fast_D</th>\n",
       "      <th>slow_D</th>\n",
       "      <th>roc</th>\n",
       "    </tr>\n",
       "  </thead>\n",
       "  <tbody>\n",
       "    <tr>\n",
       "      <td>19</td>\n",
       "      <td>2017-02-15</td>\n",
       "      <td>37720.0</td>\n",
       "      <td>38415.0</td>\n",
       "      <td>40275.927895</td>\n",
       "      <td>36554.072105</td>\n",
       "      <td>37990.698549</td>\n",
       "      <td>38280.522555</td>\n",
       "      <td>38384.153558</td>\n",
       "      <td>38422.070516</td>\n",
       "      <td>38443.055695</td>\n",
       "      <td>...</td>\n",
       "      <td>43.756182</td>\n",
       "      <td>-147.316867</td>\n",
       "      <td>44.042066</td>\n",
       "      <td>37080.0</td>\n",
       "      <td>37960.0</td>\n",
       "      <td>37080.0</td>\n",
       "      <td>21.917808</td>\n",
       "      <td>34.048228</td>\n",
       "      <td>41.371132</td>\n",
       "      <td>-0.017708</td>\n",
       "    </tr>\n",
       "    <tr>\n",
       "      <td>20</td>\n",
       "      <td>2017-02-16</td>\n",
       "      <td>38020.0</td>\n",
       "      <td>38468.0</td>\n",
       "      <td>40211.095854</td>\n",
       "      <td>36724.904146</td>\n",
       "      <td>38000.467658</td>\n",
       "      <td>38232.443934</td>\n",
       "      <td>38335.700138</td>\n",
       "      <td>38378.445246</td>\n",
       "      <td>38406.834335</td>\n",
       "      <td>...</td>\n",
       "      <td>11.741611</td>\n",
       "      <td>-126.581872</td>\n",
       "      <td>48.808410</td>\n",
       "      <td>37800.0</td>\n",
       "      <td>38360.0</td>\n",
       "      <td>37780.0</td>\n",
       "      <td>32.191781</td>\n",
       "      <td>33.429288</td>\n",
       "      <td>37.400208</td>\n",
       "      <td>-0.009896</td>\n",
       "    </tr>\n",
       "    <tr>\n",
       "      <td>21</td>\n",
       "      <td>2017-02-17</td>\n",
       "      <td>37860.0</td>\n",
       "      <td>38514.0</td>\n",
       "      <td>40131.332437</td>\n",
       "      <td>36896.667563</td>\n",
       "      <td>37953.638846</td>\n",
       "      <td>38163.897615</td>\n",
       "      <td>38272.910527</td>\n",
       "      <td>38322.929469</td>\n",
       "      <td>38360.982816</td>\n",
       "      <td>...</td>\n",
       "      <td>-17.409180</td>\n",
       "      <td>-115.527689</td>\n",
       "      <td>46.531958</td>\n",
       "      <td>37560.0</td>\n",
       "      <td>38040.0</td>\n",
       "      <td>37280.0</td>\n",
       "      <td>26.712329</td>\n",
       "      <td>31.190003</td>\n",
       "      <td>34.295105</td>\n",
       "      <td>-0.013034</td>\n",
       "    </tr>\n",
       "    <tr>\n",
       "      <td>22</td>\n",
       "      <td>2017-02-20</td>\n",
       "      <td>38660.0</td>\n",
       "      <td>38573.0</td>\n",
       "      <td>40115.889975</td>\n",
       "      <td>37030.110025</td>\n",
       "      <td>38189.113546</td>\n",
       "      <td>38254.999775</td>\n",
       "      <td>38323.649182</td>\n",
       "      <td>38358.600947</td>\n",
       "      <td>38385.579585</td>\n",
       "      <td>...</td>\n",
       "      <td>-32.223851</td>\n",
       "      <td>-58.821431</td>\n",
       "      <td>57.264594</td>\n",
       "      <td>38220.0</td>\n",
       "      <td>38780.0</td>\n",
       "      <td>38160.0</td>\n",
       "      <td>56.028369</td>\n",
       "      <td>39.470196</td>\n",
       "      <td>36.882650</td>\n",
       "      <td>0.018440</td>\n",
       "    </tr>\n",
       "    <tr>\n",
       "      <td>23</td>\n",
       "      <td>2017-02-21</td>\n",
       "      <td>38940.0</td>\n",
       "      <td>38660.0</td>\n",
       "      <td>40067.169612</td>\n",
       "      <td>37252.830388</td>\n",
       "      <td>38439.423900</td>\n",
       "      <td>38380.562116</td>\n",
       "      <td>38403.950782</td>\n",
       "      <td>38419.484461</td>\n",
       "      <td>38430.390436</td>\n",
       "      <td>...</td>\n",
       "      <td>-33.421788</td>\n",
       "      <td>-4.763464</td>\n",
       "      <td>60.270516</td>\n",
       "      <td>38540.0</td>\n",
       "      <td>39560.0</td>\n",
       "      <td>38420.0</td>\n",
       "      <td>72.093023</td>\n",
       "      <td>50.345118</td>\n",
       "      <td>43.613884</td>\n",
       "      <td>0.036189</td>\n",
       "    </tr>\n",
       "  </tbody>\n",
       "</table>\n",
       "<p>5 rows × 24 columns</p>\n",
       "</div>"
      ],
      "text/plain": [
       "          Date    Close      mbb           ubb           lbb          ma_5  \\\n",
       "19  2017-02-15  37720.0  38415.0  40275.927895  36554.072105  37990.698549   \n",
       "20  2017-02-16  38020.0  38468.0  40211.095854  36724.904146  38000.467658   \n",
       "21  2017-02-17  37860.0  38514.0  40131.332437  36896.667563  37953.638846   \n",
       "22  2017-02-20  38660.0  38573.0  40115.889975  37030.110025  38189.113546   \n",
       "23  2017-02-21  38940.0  38660.0  40067.169612  37252.830388  38439.423900   \n",
       "\n",
       "           ma_10         ma_15         ma_20         ma_30  ...     signal  \\\n",
       "19  38280.522555  38384.153558  38422.070516  38443.055695  ...  43.756182   \n",
       "20  38232.443934  38335.700138  38378.445246  38406.834335  ...  11.741611   \n",
       "21  38163.897615  38272.910527  38322.929469  38360.982816  ... -17.409180   \n",
       "22  38254.999775  38323.649182  38358.600947  38385.579585  ... -32.223851   \n",
       "23  38380.562116  38403.950782  38419.484461  38430.390436  ... -33.421788   \n",
       "\n",
       "           osc        rsi     open     high      low     fast_K     fast_D  \\\n",
       "19 -147.316867  44.042066  37080.0  37960.0  37080.0  21.917808  34.048228   \n",
       "20 -126.581872  48.808410  37800.0  38360.0  37780.0  32.191781  33.429288   \n",
       "21 -115.527689  46.531958  37560.0  38040.0  37280.0  26.712329  31.190003   \n",
       "22  -58.821431  57.264594  38220.0  38780.0  38160.0  56.028369  39.470196   \n",
       "23   -4.763464  60.270516  38540.0  39560.0  38420.0  72.093023  50.345118   \n",
       "\n",
       "       slow_D       roc  \n",
       "19  41.371132 -0.017708  \n",
       "20  37.400208 -0.009896  \n",
       "21  34.295105 -0.013034  \n",
       "22  36.882650  0.018440  \n",
       "23  43.613884  0.036189  \n",
       "\n",
       "[5 rows x 24 columns]"
      ]
     },
     "execution_count": 9,
     "metadata": {},
     "output_type": "execute_result"
    }
   ],
   "source": [
    "print(df.shape)\n",
    "df.head()"
   ]
  },
  {
   "cell_type": "markdown",
   "metadata": {},
   "source": [
    "#### 상관관계 확인후 변수 줄이기"
   ]
  },
  {
   "cell_type": "code",
   "execution_count": 10,
   "metadata": {},
   "outputs": [],
   "source": [
    "df[['Close','mbb','ma_5','ma_60','macd','fast','osc','rsi','fast_K','slow_D','roc']].corr()\n",
    "df=df[['Close','ma_60','macd','fast','osc','rsi','fast_K','slow_D','roc']]"
   ]
  },
  {
   "cell_type": "markdown",
   "metadata": {},
   "source": [
    "#### dataframe 정규화 시키기"
   ]
  },
  {
   "cell_type": "code",
   "execution_count": 11,
   "metadata": {},
   "outputs": [],
   "source": [
    "df_without_date = df[df.columns]\n",
    "sc = MinMaxScaler()\n",
    "df_scale_without_date = sc.fit_transform(df_without_date)"
   ]
  },
  {
   "cell_type": "code",
   "execution_count": 12,
   "metadata": {},
   "outputs": [],
   "source": [
    "# 날짜 제거한 데이터 프레임 생성\n",
    "df_scale_without_date = pd.DataFrame(df_scale_without_date, columns=df.columns)\n",
    "df_scale_without_date.columns=[i for i in df.columns]"
   ]
  },
  {
   "cell_type": "code",
   "execution_count": 13,
   "metadata": {},
   "outputs": [
    {
     "name": "stdout",
     "output_type": "stream",
     "text": [
      "(702, 9)\n"
     ]
    },
    {
     "data": {
      "text/html": [
       "<div>\n",
       "<style scoped>\n",
       "    .dataframe tbody tr th:only-of-type {\n",
       "        vertical-align: middle;\n",
       "    }\n",
       "\n",
       "    .dataframe tbody tr th {\n",
       "        vertical-align: top;\n",
       "    }\n",
       "\n",
       "    .dataframe thead th {\n",
       "        text-align: right;\n",
       "    }\n",
       "</style>\n",
       "<table border=\"1\" class=\"dataframe\">\n",
       "  <thead>\n",
       "    <tr style=\"text-align: right;\">\n",
       "      <th></th>\n",
       "      <th>Close</th>\n",
       "      <th>ma_60</th>\n",
       "      <th>macd</th>\n",
       "      <th>fast</th>\n",
       "      <th>osc</th>\n",
       "      <th>rsi</th>\n",
       "      <th>fast_K</th>\n",
       "      <th>slow_D</th>\n",
       "      <th>roc</th>\n",
       "    </tr>\n",
       "  </thead>\n",
       "  <tbody>\n",
       "    <tr>\n",
       "      <td>0</td>\n",
       "      <td>0.011368</td>\n",
       "      <td>0.003998</td>\n",
       "      <td>0.358005</td>\n",
       "      <td>0.005728</td>\n",
       "      <td>0.418849</td>\n",
       "      <td>0.338202</td>\n",
       "      <td>0.219178</td>\n",
       "      <td>0.380315</td>\n",
       "      <td>0.378231</td>\n",
       "    </tr>\n",
       "    <tr>\n",
       "      <td>1</td>\n",
       "      <td>0.024000</td>\n",
       "      <td>0.002239</td>\n",
       "      <td>0.354439</td>\n",
       "      <td>0.003283</td>\n",
       "      <td>0.434135</td>\n",
       "      <td>0.426595</td>\n",
       "      <td>0.321918</td>\n",
       "      <td>0.335974</td>\n",
       "      <td>0.417894</td>\n",
       "    </tr>\n",
       "    <tr>\n",
       "      <td>2</td>\n",
       "      <td>0.017263</td>\n",
       "      <td>0.000000</td>\n",
       "      <td>0.348717</td>\n",
       "      <td>0.000000</td>\n",
       "      <td>0.442284</td>\n",
       "      <td>0.384378</td>\n",
       "      <td>0.267123</td>\n",
       "      <td>0.301301</td>\n",
       "      <td>0.401960</td>\n",
       "    </tr>\n",
       "    <tr>\n",
       "      <td>3</td>\n",
       "      <td>0.050947</td>\n",
       "      <td>0.001100</td>\n",
       "      <td>0.361962</td>\n",
       "      <td>0.003398</td>\n",
       "      <td>0.484089</td>\n",
       "      <td>0.583417</td>\n",
       "      <td>0.560284</td>\n",
       "      <td>0.330194</td>\n",
       "      <td>0.561755</td>\n",
       "    </tr>\n",
       "    <tr>\n",
       "      <td>4</td>\n",
       "      <td>0.062737</td>\n",
       "      <td>0.003172</td>\n",
       "      <td>0.378676</td>\n",
       "      <td>0.008398</td>\n",
       "      <td>0.523942</td>\n",
       "      <td>0.639163</td>\n",
       "      <td>0.720930</td>\n",
       "      <td>0.405358</td>\n",
       "      <td>0.651865</td>\n",
       "    </tr>\n",
       "  </tbody>\n",
       "</table>\n",
       "</div>"
      ],
      "text/plain": [
       "      Close     ma_60      macd      fast       osc       rsi    fast_K  \\\n",
       "0  0.011368  0.003998  0.358005  0.005728  0.418849  0.338202  0.219178   \n",
       "1  0.024000  0.002239  0.354439  0.003283  0.434135  0.426595  0.321918   \n",
       "2  0.017263  0.000000  0.348717  0.000000  0.442284  0.384378  0.267123   \n",
       "3  0.050947  0.001100  0.361962  0.003398  0.484089  0.583417  0.560284   \n",
       "4  0.062737  0.003172  0.378676  0.008398  0.523942  0.639163  0.720930   \n",
       "\n",
       "     slow_D       roc  \n",
       "0  0.380315  0.378231  \n",
       "1  0.335974  0.417894  \n",
       "2  0.301301  0.401960  \n",
       "3  0.330194  0.561755  \n",
       "4  0.405358  0.651865  "
      ]
     },
     "execution_count": 13,
     "metadata": {},
     "output_type": "execute_result"
    }
   ],
   "source": [
    "print(df_scale_without_date.shape)\n",
    "df_scale_without_date.head()"
   ]
  },
  {
   "cell_type": "markdown",
   "metadata": {},
   "source": [
    "#### y값 추가하여 정규화 시킨 이후 상관계수 확인"
   ]
  },
  {
   "cell_type": "code",
   "execution_count": 14,
   "metadata": {},
   "outputs": [],
   "source": [
    "y = data[[\"Close\"]]\n",
    "y = y[29:]\n",
    "\n",
    "# data start 2017-02-15 original index 19\n",
    "# so y have to start after 10day. index is 29\n",
    "\n",
    "sc_y=MinMaxScaler()\n",
    "y_scale = sc.fit_transform(y)\n",
    "y_scale =pd.DataFrame(y_scale)"
   ]
  },
  {
   "cell_type": "code",
   "execution_count": 15,
   "metadata": {},
   "outputs": [],
   "source": [
    "df_inclue_y=pd.concat([df_scale_without_date, y_scale], axis=1).dropna()"
   ]
  },
  {
   "cell_type": "code",
   "execution_count": 16,
   "metadata": {},
   "outputs": [
    {
     "data": {
      "text/html": [
       "<div>\n",
       "<style scoped>\n",
       "    .dataframe tbody tr th:only-of-type {\n",
       "        vertical-align: middle;\n",
       "    }\n",
       "\n",
       "    .dataframe tbody tr th {\n",
       "        vertical-align: top;\n",
       "    }\n",
       "\n",
       "    .dataframe thead th {\n",
       "        text-align: right;\n",
       "    }\n",
       "</style>\n",
       "<table border=\"1\" class=\"dataframe\">\n",
       "  <thead>\n",
       "    <tr style=\"text-align: right;\">\n",
       "      <th></th>\n",
       "      <th>Close</th>\n",
       "      <th>ma_60</th>\n",
       "      <th>macd</th>\n",
       "      <th>fast</th>\n",
       "      <th>osc</th>\n",
       "      <th>rsi</th>\n",
       "      <th>fast_K</th>\n",
       "      <th>slow_D</th>\n",
       "      <th>roc</th>\n",
       "      <th>0</th>\n",
       "    </tr>\n",
       "  </thead>\n",
       "  <tbody>\n",
       "    <tr>\n",
       "      <td>0</td>\n",
       "      <td>0.011368</td>\n",
       "      <td>0.003998</td>\n",
       "      <td>0.358005</td>\n",
       "      <td>0.005728</td>\n",
       "      <td>0.418849</td>\n",
       "      <td>0.338202</td>\n",
       "      <td>0.219178</td>\n",
       "      <td>0.380315</td>\n",
       "      <td>0.378231</td>\n",
       "      <td>0.095579</td>\n",
       "    </tr>\n",
       "    <tr>\n",
       "      <td>1</td>\n",
       "      <td>0.024000</td>\n",
       "      <td>0.002239</td>\n",
       "      <td>0.354439</td>\n",
       "      <td>0.003283</td>\n",
       "      <td>0.434135</td>\n",
       "      <td>0.426595</td>\n",
       "      <td>0.321918</td>\n",
       "      <td>0.335974</td>\n",
       "      <td>0.417894</td>\n",
       "      <td>0.091368</td>\n",
       "    </tr>\n",
       "    <tr>\n",
       "      <td>2</td>\n",
       "      <td>0.017263</td>\n",
       "      <td>0.000000</td>\n",
       "      <td>0.348717</td>\n",
       "      <td>0.000000</td>\n",
       "      <td>0.442284</td>\n",
       "      <td>0.384378</td>\n",
       "      <td>0.267123</td>\n",
       "      <td>0.301301</td>\n",
       "      <td>0.401960</td>\n",
       "      <td>0.110737</td>\n",
       "    </tr>\n",
       "    <tr>\n",
       "      <td>3</td>\n",
       "      <td>0.050947</td>\n",
       "      <td>0.001100</td>\n",
       "      <td>0.361962</td>\n",
       "      <td>0.003398</td>\n",
       "      <td>0.484089</td>\n",
       "      <td>0.583417</td>\n",
       "      <td>0.560284</td>\n",
       "      <td>0.330194</td>\n",
       "      <td>0.561755</td>\n",
       "      <td>0.115789</td>\n",
       "    </tr>\n",
       "    <tr>\n",
       "      <td>4</td>\n",
       "      <td>0.062737</td>\n",
       "      <td>0.003172</td>\n",
       "      <td>0.378676</td>\n",
       "      <td>0.008398</td>\n",
       "      <td>0.523942</td>\n",
       "      <td>0.639163</td>\n",
       "      <td>0.720930</td>\n",
       "      <td>0.405358</td>\n",
       "      <td>0.651865</td>\n",
       "      <td>0.115789</td>\n",
       "    </tr>\n",
       "  </tbody>\n",
       "</table>\n",
       "</div>"
      ],
      "text/plain": [
       "      Close     ma_60      macd      fast       osc       rsi    fast_K  \\\n",
       "0  0.011368  0.003998  0.358005  0.005728  0.418849  0.338202  0.219178   \n",
       "1  0.024000  0.002239  0.354439  0.003283  0.434135  0.426595  0.321918   \n",
       "2  0.017263  0.000000  0.348717  0.000000  0.442284  0.384378  0.267123   \n",
       "3  0.050947  0.001100  0.361962  0.003398  0.484089  0.583417  0.560284   \n",
       "4  0.062737  0.003172  0.378676  0.008398  0.523942  0.639163  0.720930   \n",
       "\n",
       "     slow_D       roc         0  \n",
       "0  0.380315  0.378231  0.095579  \n",
       "1  0.335974  0.417894  0.091368  \n",
       "2  0.301301  0.401960  0.110737  \n",
       "3  0.330194  0.561755  0.115789  \n",
       "4  0.405358  0.651865  0.115789  "
      ]
     },
     "execution_count": 16,
     "metadata": {},
     "output_type": "execute_result"
    }
   ],
   "source": [
    "df_inclue_y.head()"
   ]
  },
  {
   "cell_type": "code",
   "execution_count": 17,
   "metadata": {},
   "outputs": [
    {
     "data": {
      "text/html": [
       "<div>\n",
       "<style scoped>\n",
       "    .dataframe tbody tr th:only-of-type {\n",
       "        vertical-align: middle;\n",
       "    }\n",
       "\n",
       "    .dataframe tbody tr th {\n",
       "        vertical-align: top;\n",
       "    }\n",
       "\n",
       "    .dataframe thead th {\n",
       "        text-align: right;\n",
       "    }\n",
       "</style>\n",
       "<table border=\"1\" class=\"dataframe\">\n",
       "  <thead>\n",
       "    <tr style=\"text-align: right;\">\n",
       "      <th></th>\n",
       "      <th>Close</th>\n",
       "      <th>ma_60</th>\n",
       "      <th>macd</th>\n",
       "      <th>fast</th>\n",
       "      <th>osc</th>\n",
       "      <th>rsi</th>\n",
       "      <th>fast_K</th>\n",
       "      <th>slow_D</th>\n",
       "      <th>roc</th>\n",
       "      <th>0</th>\n",
       "    </tr>\n",
       "  </thead>\n",
       "  <tbody>\n",
       "    <tr>\n",
       "      <td>Close</td>\n",
       "      <td>1.000000</td>\n",
       "      <td>0.822392</td>\n",
       "      <td>0.455316</td>\n",
       "      <td>0.960371</td>\n",
       "      <td>0.142409</td>\n",
       "      <td>0.370267</td>\n",
       "      <td>0.282000</td>\n",
       "      <td>0.324941</td>\n",
       "      <td>0.194795</td>\n",
       "      <td>0.843904</td>\n",
       "    </tr>\n",
       "    <tr>\n",
       "      <td>ma_60</td>\n",
       "      <td>0.822392</td>\n",
       "      <td>1.000000</td>\n",
       "      <td>-0.082903</td>\n",
       "      <td>0.908517</td>\n",
       "      <td>-0.157693</td>\n",
       "      <td>-0.180613</td>\n",
       "      <td>-0.165783</td>\n",
       "      <td>-0.149578</td>\n",
       "      <td>-0.137554</td>\n",
       "      <td>0.691208</td>\n",
       "    </tr>\n",
       "    <tr>\n",
       "      <td>macd</td>\n",
       "      <td>0.455316</td>\n",
       "      <td>-0.082903</td>\n",
       "      <td>1.000000</td>\n",
       "      <td>0.313415</td>\n",
       "      <td>0.401214</td>\n",
       "      <td>0.822563</td>\n",
       "      <td>0.589881</td>\n",
       "      <td>0.825218</td>\n",
       "      <td>0.296624</td>\n",
       "      <td>0.383884</td>\n",
       "    </tr>\n",
       "    <tr>\n",
       "      <td>fast</td>\n",
       "      <td>0.960371</td>\n",
       "      <td>0.908517</td>\n",
       "      <td>0.313415</td>\n",
       "      <td>1.000000</td>\n",
       "      <td>-0.087129</td>\n",
       "      <td>0.126018</td>\n",
       "      <td>0.029927</td>\n",
       "      <td>0.136490</td>\n",
       "      <td>-0.050669</td>\n",
       "      <td>0.814407</td>\n",
       "    </tr>\n",
       "    <tr>\n",
       "      <td>osc</td>\n",
       "      <td>0.142409</td>\n",
       "      <td>-0.157693</td>\n",
       "      <td>0.401214</td>\n",
       "      <td>-0.087129</td>\n",
       "      <td>1.000000</td>\n",
       "      <td>0.704609</td>\n",
       "      <td>0.792074</td>\n",
       "      <td>0.740474</td>\n",
       "      <td>0.696044</td>\n",
       "      <td>0.123178</td>\n",
       "    </tr>\n",
       "    <tr>\n",
       "      <td>rsi</td>\n",
       "      <td>0.370267</td>\n",
       "      <td>-0.180613</td>\n",
       "      <td>0.822563</td>\n",
       "      <td>0.126018</td>\n",
       "      <td>0.704609</td>\n",
       "      <td>1.000000</td>\n",
       "      <td>0.884532</td>\n",
       "      <td>0.859089</td>\n",
       "      <td>0.696898</td>\n",
       "      <td>0.298426</td>\n",
       "    </tr>\n",
       "    <tr>\n",
       "      <td>fast_K</td>\n",
       "      <td>0.282000</td>\n",
       "      <td>-0.165783</td>\n",
       "      <td>0.589881</td>\n",
       "      <td>0.029927</td>\n",
       "      <td>0.792074</td>\n",
       "      <td>0.884532</td>\n",
       "      <td>1.000000</td>\n",
       "      <td>0.813673</td>\n",
       "      <td>0.755110</td>\n",
       "      <td>0.232928</td>\n",
       "    </tr>\n",
       "    <tr>\n",
       "      <td>slow_D</td>\n",
       "      <td>0.324941</td>\n",
       "      <td>-0.149578</td>\n",
       "      <td>0.825218</td>\n",
       "      <td>0.136490</td>\n",
       "      <td>0.740474</td>\n",
       "      <td>0.859089</td>\n",
       "      <td>0.813673</td>\n",
       "      <td>1.000000</td>\n",
       "      <td>0.465686</td>\n",
       "      <td>0.267960</td>\n",
       "    </tr>\n",
       "    <tr>\n",
       "      <td>roc</td>\n",
       "      <td>0.194795</td>\n",
       "      <td>-0.137554</td>\n",
       "      <td>0.296624</td>\n",
       "      <td>-0.050669</td>\n",
       "      <td>0.696044</td>\n",
       "      <td>0.696898</td>\n",
       "      <td>0.755110</td>\n",
       "      <td>0.465686</td>\n",
       "      <td>1.000000</td>\n",
       "      <td>0.138689</td>\n",
       "    </tr>\n",
       "    <tr>\n",
       "      <td>0</td>\n",
       "      <td>0.843904</td>\n",
       "      <td>0.691208</td>\n",
       "      <td>0.383884</td>\n",
       "      <td>0.814407</td>\n",
       "      <td>0.123178</td>\n",
       "      <td>0.298426</td>\n",
       "      <td>0.232928</td>\n",
       "      <td>0.267960</td>\n",
       "      <td>0.138689</td>\n",
       "      <td>1.000000</td>\n",
       "    </tr>\n",
       "  </tbody>\n",
       "</table>\n",
       "</div>"
      ],
      "text/plain": [
       "           Close     ma_60      macd      fast       osc       rsi    fast_K  \\\n",
       "Close   1.000000  0.822392  0.455316  0.960371  0.142409  0.370267  0.282000   \n",
       "ma_60   0.822392  1.000000 -0.082903  0.908517 -0.157693 -0.180613 -0.165783   \n",
       "macd    0.455316 -0.082903  1.000000  0.313415  0.401214  0.822563  0.589881   \n",
       "fast    0.960371  0.908517  0.313415  1.000000 -0.087129  0.126018  0.029927   \n",
       "osc     0.142409 -0.157693  0.401214 -0.087129  1.000000  0.704609  0.792074   \n",
       "rsi     0.370267 -0.180613  0.822563  0.126018  0.704609  1.000000  0.884532   \n",
       "fast_K  0.282000 -0.165783  0.589881  0.029927  0.792074  0.884532  1.000000   \n",
       "slow_D  0.324941 -0.149578  0.825218  0.136490  0.740474  0.859089  0.813673   \n",
       "roc     0.194795 -0.137554  0.296624 -0.050669  0.696044  0.696898  0.755110   \n",
       "0       0.843904  0.691208  0.383884  0.814407  0.123178  0.298426  0.232928   \n",
       "\n",
       "          slow_D       roc         0  \n",
       "Close   0.324941  0.194795  0.843904  \n",
       "ma_60  -0.149578 -0.137554  0.691208  \n",
       "macd    0.825218  0.296624  0.383884  \n",
       "fast    0.136490 -0.050669  0.814407  \n",
       "osc     0.740474  0.696044  0.123178  \n",
       "rsi     0.859089  0.696898  0.298426  \n",
       "fast_K  0.813673  0.755110  0.232928  \n",
       "slow_D  1.000000  0.465686  0.267960  \n",
       "roc     0.465686  1.000000  0.138689  \n",
       "0       0.267960  0.138689  1.000000  "
      ]
     },
     "execution_count": 17,
     "metadata": {},
     "output_type": "execute_result"
    }
   ],
   "source": [
    "df_inclue_y.corr()"
   ]
  },
  {
   "cell_type": "markdown",
   "metadata": {},
   "source": [
    "#### PCA분석"
   ]
  },
  {
   "cell_type": "code",
   "execution_count": 18,
   "metadata": {},
   "outputs": [
    {
     "name": "stdout",
     "output_type": "stream",
     "text": [
      "\n",
      "Eigenvalues \n",
      "[2.82380291e-01 1.16184301e-01 4.16155315e-02 1.63819400e-02\n",
      " 9.25667086e-03 3.20857833e-03 4.57654311e-05 2.57504029e-04\n",
      " 1.52743983e-03]\n"
     ]
    }
   ],
   "source": [
    "cov_mat = np.cov(df_scale_without_date.T)\n",
    "eigen_vals, eigen_vecs = np.linalg.eig(cov_mat)\n",
    "\n",
    "print('\\nEigenvalues \\n%s' % eigen_vals)"
   ]
  },
  {
   "cell_type": "code",
   "execution_count": 19,
   "metadata": {},
   "outputs": [],
   "source": [
    "tot = sum(eigen_vals)\n",
    "var_exp = [(i / tot) for i in sorted(eigen_vals, reverse=True)]"
   ]
  },
  {
   "cell_type": "code",
   "execution_count": 20,
   "metadata": {},
   "outputs": [
    {
     "data": {
      "text/plain": [
       "array([0.59971431, 0.84646448, 0.93484682, 0.96963849, 0.98929765,\n",
       "       0.99611197, 0.99935592, 0.9999028 , 1.        ])"
      ]
     },
     "execution_count": 20,
     "metadata": {},
     "output_type": "execute_result"
    }
   ],
   "source": [
    "cum_var_exp = np.cumsum(var_exp)\n",
    "cum_var_exp"
   ]
  },
  {
   "cell_type": "code",
   "execution_count": 21,
   "metadata": {},
   "outputs": [
    {
     "data": {
      "image/png": "[encoded data removed]",
      "text/plain": [
       "<Figure size 432x288 with 1 Axes>"
      ]
     },
     "metadata": {
      "needs_background": "light"
     },
     "output_type": "display_data"
    }
   ],
   "source": [
    "%matplotlib inline\n",
    "\n",
    "plt.bar(range(0,9), var_exp, alpha=0.5, align='center',label='individual explained variance')\n",
    "plt.step(range(0,9), cum_var_exp, where='mid',label='cumulative explained variance')\n",
    "plt.ylabel('Explained variance ratio')\n",
    "plt.xlabel('Principal components')\n",
    "plt.legend(loc='best')\n",
    "plt.tight_layout()\n",
    "plt.show()"
   ]
  },
  {
   "cell_type": "markdown",
   "metadata": {},
   "source": [
    "##### 에이겐 쌍을 이용하여 투영행렬 생성 "
   ]
  },
  {
   "cell_type": "code",
   "execution_count": 22,
   "metadata": {},
   "outputs": [
    {
     "name": "stdout",
     "output_type": "stream",
     "text": [
      "Matrix W:\n",
      " [[ 0.14828223  0.47396878]\n",
      " [-0.02853746  0.63608203]\n",
      " [ 0.35254312  0.12021985]\n",
      " [ 0.07746627  0.56700599]\n",
      " [ 0.27321945 -0.10808268]\n",
      " [ 0.39649068 -0.02055701]\n",
      " [ 0.5524713  -0.12332566]\n",
      " [ 0.50303537 -0.02569497]\n",
      " [ 0.23830124 -0.08264826]]\n"
     ]
    }
   ],
   "source": [
    "eigen_pairs = [(np.abs(eigen_vals[i]), eigen_vecs[:,i]) for i in range(len(eigen_vals))]\n",
    "eigen_pairs.sort(reverse=True) \n",
    "w = np.hstack((eigen_pairs[0][1][:, np.newaxis],eigen_pairs[1][1][:, np.newaxis]))\n",
    "print('Matrix W:\\n', w)"
   ]
  },
  {
   "cell_type": "markdown",
   "metadata": {},
   "source": [
    "##### 투영행렬로 피처 압축"
   ]
  },
  {
   "cell_type": "code",
   "execution_count": 23,
   "metadata": {},
   "outputs": [],
   "source": [
    "df_scale_without_date_std = StandardScaler().fit_transform(df_scale_without_date)"
   ]
  },
  {
   "cell_type": "code",
   "execution_count": 24,
   "metadata": {
    "scrolled": true
   },
   "outputs": [],
   "source": [
    "df_scale_without_date_std[0].dot(w) \n",
    "df_pca = df_scale_without_date_std.dot(w) "
   ]
  },
  {
   "cell_type": "code",
   "execution_count": 25,
   "metadata": {},
   "outputs": [
    {
     "data": {
      "text/html": [
       "<div>\n",
       "<style scoped>\n",
       "    .dataframe tbody tr th:only-of-type {\n",
       "        vertical-align: middle;\n",
       "    }\n",
       "\n",
       "    .dataframe tbody tr th {\n",
       "        vertical-align: top;\n",
       "    }\n",
       "\n",
       "    .dataframe thead th {\n",
       "        text-align: right;\n",
       "    }\n",
       "</style>\n",
       "<table border=\"1\" class=\"dataframe\">\n",
       "  <thead>\n",
       "    <tr style=\"text-align: right;\">\n",
       "      <th></th>\n",
       "      <th>pca1</th>\n",
       "      <th>pca2</th>\n",
       "    </tr>\n",
       "  </thead>\n",
       "  <tbody>\n",
       "    <tr>\n",
       "      <td>0</td>\n",
       "      <td>-2.017478</td>\n",
       "      <td>-3.466404</td>\n",
       "    </tr>\n",
       "    <tr>\n",
       "      <td>1</td>\n",
       "      <td>-1.674871</td>\n",
       "      <td>-3.519042</td>\n",
       "    </tr>\n",
       "    <tr>\n",
       "      <td>2</td>\n",
       "      <td>-1.933046</td>\n",
       "      <td>-3.524290</td>\n",
       "    </tr>\n",
       "    <tr>\n",
       "      <td>3</td>\n",
       "      <td>-0.682654</td>\n",
       "      <td>-3.650695</td>\n",
       "    </tr>\n",
       "    <tr>\n",
       "      <td>4</td>\n",
       "      <td>0.049125</td>\n",
       "      <td>-3.730955</td>\n",
       "    </tr>\n",
       "  </tbody>\n",
       "</table>\n",
       "</div>"
      ],
      "text/plain": [
       "       pca1      pca2\n",
       "0 -2.017478 -3.466404\n",
       "1 -1.674871 -3.519042\n",
       "2 -1.933046 -3.524290\n",
       "3 -0.682654 -3.650695\n",
       "4  0.049125 -3.730955"
      ]
     },
     "execution_count": 25,
     "metadata": {},
     "output_type": "execute_result"
    }
   ],
   "source": [
    "df_pca=pd.DataFrame(df_pca)\n",
    "df_pca.columns=['pca1','pca2']\n",
    "df_pca.head()"
   ]
  },
  {
   "cell_type": "code",
   "execution_count": 26,
   "metadata": {},
   "outputs": [
    {
     "data": {
      "text/plain": [
       "(702, pandas.core.frame.DataFrame)"
      ]
     },
     "execution_count": 26,
     "metadata": {},
     "output_type": "execute_result"
    }
   ],
   "source": [
    "len(df_pca), type(df_pca)"
   ]
  },
  {
   "cell_type": "code",
   "execution_count": 27,
   "metadata": {
    "scrolled": true
   },
   "outputs": [
    {
     "data": {
      "text/html": [
       "<div>\n",
       "<style scoped>\n",
       "    .dataframe tbody tr th:only-of-type {\n",
       "        vertical-align: middle;\n",
       "    }\n",
       "\n",
       "    .dataframe tbody tr th {\n",
       "        vertical-align: top;\n",
       "    }\n",
       "\n",
       "    .dataframe thead th {\n",
       "        text-align: right;\n",
       "    }\n",
       "</style>\n",
       "<table border=\"1\" class=\"dataframe\">\n",
       "  <thead>\n",
       "    <tr style=\"text-align: right;\">\n",
       "      <th></th>\n",
       "      <th>pca1</th>\n",
       "      <th>pca2</th>\n",
       "    </tr>\n",
       "  </thead>\n",
       "  <tbody>\n",
       "    <tr>\n",
       "      <td>count</td>\n",
       "      <td>7.020000e+02</td>\n",
       "      <td>7.020000e+02</td>\n",
       "    </tr>\n",
       "    <tr>\n",
       "      <td>mean</td>\n",
       "      <td>1.322146e-16</td>\n",
       "      <td>6.730925e-16</td>\n",
       "    </tr>\n",
       "    <tr>\n",
       "      <td>std</td>\n",
       "      <td>2.124132e+00</td>\n",
       "      <td>1.664236e+00</td>\n",
       "    </tr>\n",
       "    <tr>\n",
       "      <td>min</td>\n",
       "      <td>-4.183782e+00</td>\n",
       "      <td>-3.758633e+00</td>\n",
       "    </tr>\n",
       "    <tr>\n",
       "      <td>25%</td>\n",
       "      <td>-1.850664e+00</td>\n",
       "      <td>-1.061527e+00</td>\n",
       "    </tr>\n",
       "    <tr>\n",
       "      <td>50%</td>\n",
       "      <td>8.930527e-02</td>\n",
       "      <td>-1.507623e-01</td>\n",
       "    </tr>\n",
       "    <tr>\n",
       "      <td>75%</td>\n",
       "      <td>1.832960e+00</td>\n",
       "      <td>1.321228e+00</td>\n",
       "    </tr>\n",
       "    <tr>\n",
       "      <td>max</td>\n",
       "      <td>4.365691e+00</td>\n",
       "      <td>4.431995e+00</td>\n",
       "    </tr>\n",
       "  </tbody>\n",
       "</table>\n",
       "</div>"
      ],
      "text/plain": [
       "               pca1          pca2\n",
       "count  7.020000e+02  7.020000e+02\n",
       "mean   1.322146e-16  6.730925e-16\n",
       "std    2.124132e+00  1.664236e+00\n",
       "min   -4.183782e+00 -3.758633e+00\n",
       "25%   -1.850664e+00 -1.061527e+00\n",
       "50%    8.930527e-02 -1.507623e-01\n",
       "75%    1.832960e+00  1.321228e+00\n",
       "max    4.365691e+00  4.431995e+00"
      ]
     },
     "execution_count": 27,
     "metadata": {},
     "output_type": "execute_result"
    }
   ],
   "source": [
    "df_pca.describe()"
   ]
  },
  {
   "cell_type": "code",
   "execution_count": 28,
   "metadata": {},
   "outputs": [
    {
     "data": {
      "text/html": [
       "<div>\n",
       "<style scoped>\n",
       "    .dataframe tbody tr th:only-of-type {\n",
       "        vertical-align: middle;\n",
       "    }\n",
       "\n",
       "    .dataframe tbody tr th {\n",
       "        vertical-align: top;\n",
       "    }\n",
       "\n",
       "    .dataframe thead th {\n",
       "        text-align: right;\n",
       "    }\n",
       "</style>\n",
       "<table border=\"1\" class=\"dataframe\">\n",
       "  <thead>\n",
       "    <tr style=\"text-align: right;\">\n",
       "      <th></th>\n",
       "      <th>pca1</th>\n",
       "      <th>pca2</th>\n",
       "    </tr>\n",
       "  </thead>\n",
       "  <tbody>\n",
       "    <tr>\n",
       "      <td>0</td>\n",
       "      <td>-2.017478</td>\n",
       "      <td>-3.466404</td>\n",
       "    </tr>\n",
       "    <tr>\n",
       "      <td>1</td>\n",
       "      <td>-1.674871</td>\n",
       "      <td>-3.519042</td>\n",
       "    </tr>\n",
       "    <tr>\n",
       "      <td>2</td>\n",
       "      <td>-1.933046</td>\n",
       "      <td>-3.524290</td>\n",
       "    </tr>\n",
       "    <tr>\n",
       "      <td>3</td>\n",
       "      <td>-0.682654</td>\n",
       "      <td>-3.650695</td>\n",
       "    </tr>\n",
       "    <tr>\n",
       "      <td>4</td>\n",
       "      <td>0.049125</td>\n",
       "      <td>-3.730955</td>\n",
       "    </tr>\n",
       "    <tr>\n",
       "      <td>...</td>\n",
       "      <td>...</td>\n",
       "      <td>...</td>\n",
       "    </tr>\n",
       "    <tr>\n",
       "      <td>697</td>\n",
       "      <td>4.352076</td>\n",
       "      <td>3.697701</td>\n",
       "    </tr>\n",
       "    <tr>\n",
       "      <td>698</td>\n",
       "      <td>4.167334</td>\n",
       "      <td>3.880966</td>\n",
       "    </tr>\n",
       "    <tr>\n",
       "      <td>699</td>\n",
       "      <td>3.198174</td>\n",
       "      <td>4.030648</td>\n",
       "    </tr>\n",
       "    <tr>\n",
       "      <td>700</td>\n",
       "      <td>3.985917</td>\n",
       "      <td>4.223382</td>\n",
       "    </tr>\n",
       "    <tr>\n",
       "      <td>701</td>\n",
       "      <td>3.994140</td>\n",
       "      <td>4.431995</td>\n",
       "    </tr>\n",
       "  </tbody>\n",
       "</table>\n",
       "<p>702 rows × 2 columns</p>\n",
       "</div>"
      ],
      "text/plain": [
       "         pca1      pca2\n",
       "0   -2.017478 -3.466404\n",
       "1   -1.674871 -3.519042\n",
       "2   -1.933046 -3.524290\n",
       "3   -0.682654 -3.650695\n",
       "4    0.049125 -3.730955\n",
       "..        ...       ...\n",
       "697  4.352076  3.697701\n",
       "698  4.167334  3.880966\n",
       "699  3.198174  4.030648\n",
       "700  3.985917  4.223382\n",
       "701  3.994140  4.431995\n",
       "\n",
       "[702 rows x 2 columns]"
      ]
     },
     "execution_count": 28,
     "metadata": {},
     "output_type": "execute_result"
    }
   ],
   "source": [
    "df_pca"
   ]
  },
  {
   "cell_type": "markdown",
   "metadata": {},
   "source": [
    "#### pca로 만든 데이터 프레임을 5일씩 묶어주기"
   ]
  },
  {
   "cell_type": "code",
   "execution_count": 29,
   "metadata": {},
   "outputs": [
    {
     "name": "stderr",
     "output_type": "stream",
     "text": [
      "C:\\Users\\wsm26\\Anaconda3\\lib\\site-packages\\ipykernel_launcher.py:1: FutureWarning: Method .as_matrix will be removed in a future version. Use .values instead.\n",
      "  \"\"\"Entry point for launching an IPython kernel.\n"
     ]
    }
   ],
   "source": [
    "d_matrix=df_pca[['pca1','pca2']].as_matrix()\n",
    "\n",
    "p_result =[]\n",
    "for i in range(len(df_pca)-10):\n",
    "    for j in range(5):\n",
    "        p_result.append(d_matrix[i+j])"
   ]
  },
  {
   "cell_type": "code",
   "execution_count": 30,
   "metadata": {},
   "outputs": [],
   "source": [
    "p_result=np.array(p_result)\n",
    "p_result=p_result.reshape((len(d_matrix)-10,5,-1))"
   ]
  },
  {
   "cell_type": "code",
   "execution_count": 31,
   "metadata": {},
   "outputs": [
    {
     "data": {
      "text/plain": [
       "array([[-2.01747843, -3.46640414],\n",
       "       [-1.67487052, -3.51904234],\n",
       "       [-1.93304638, -3.52429011],\n",
       "       [-0.68265354, -3.6506953 ],\n",
       "       [ 0.04912526, -3.73095493]])"
      ]
     },
     "execution_count": 31,
     "metadata": {},
     "output_type": "execute_result"
    }
   ],
   "source": [
    "p_result[0]"
   ]
  },
  {
   "cell_type": "code",
   "execution_count": 32,
   "metadata": {},
   "outputs": [
    {
     "data": {
      "text/plain": [
       "((692, 5, 2), (692, 1))"
      ]
     },
     "execution_count": 32,
     "metadata": {},
     "output_type": "execute_result"
    }
   ],
   "source": [
    "p_result.shape, y_scale.shape"
   ]
  },
  {
   "cell_type": "markdown",
   "metadata": {},
   "source": [
    "#### trian, text set 나눠주기"
   ]
  },
  {
   "cell_type": "code",
   "execution_count": 33,
   "metadata": {},
   "outputs": [],
   "source": [
    "X_train,X_test = p_result[:int(len(p_result)*0.9)],p_result[int(len(p_result)*0.9):]\n",
    "y_train,y_test = y_scale[:int(len(p_result)*0.9)], y_scale[int(len(p_result)*0.9):]"
   ]
  },
  {
   "cell_type": "code",
   "execution_count": 34,
   "metadata": {},
   "outputs": [
    {
     "data": {
      "text/plain": [
       "((622, 5, 2), (70, 5, 2), (622, 1), (70, 1))"
      ]
     },
     "execution_count": 34,
     "metadata": {},
     "output_type": "execute_result"
    }
   ],
   "source": [
    "X_train.shape, X_test.shape, y_train.shape, y_test.shape"
   ]
  },
  {
   "cell_type": "markdown",
   "metadata": {},
   "source": [
    "#### 모델 만들기"
   ]
  },
  {
   "cell_type": "code",
   "execution_count": 35,
   "metadata": {
    "scrolled": true
   },
   "outputs": [
    {
     "name": "stdout",
     "output_type": "stream",
     "text": [
      "Train on 435 samples, validate on 187 samples\n",
      "Epoch 1/300\n",
      "435/435 [==============================] - 1s 1ms/step - loss: 0.0945 - val_loss: 0.0367\n",
      "Epoch 2/300\n",
      "435/435 [==============================] - 0s 186us/step - loss: 0.0435 - val_loss: 0.0277\n",
      "Epoch 3/300\n",
      "435/435 [==============================] - 0s 292us/step - loss: 0.0456 - val_loss: 0.0169\n",
      "Epoch 4/300\n",
      "435/435 [==============================] - 0s 395us/step - loss: 0.0362 - val_loss: 0.0124\n",
      "Epoch 5/300\n",
      "435/435 [==============================] - 0s 232us/step - loss: 0.0327 - val_loss: 0.0076\n",
      "Epoch 6/300\n",
      "435/435 [==============================] - 0s 209us/step - loss: 0.0314 - val_loss: 0.0092\n",
      "Epoch 7/300\n",
      "435/435 [==============================] - 0s 246us/step - loss: 0.0341 - val_loss: 0.0052\n",
      "Epoch 8/300\n",
      "435/435 [==============================] - 0s 441us/step - loss: 0.0306 - val_loss: 0.0074\n",
      "Epoch 9/300\n",
      "435/435 [==============================] - 0s 324us/step - loss: 0.0248 - val_loss: 0.0047\n",
      "Epoch 10/300\n",
      "435/435 [==============================] - 0s 294us/step - loss: 0.0270 - val_loss: 0.0041\n",
      "Epoch 11/300\n",
      "435/435 [==============================] - 0s 262us/step - loss: 0.0331 - val_loss: 0.0076\n",
      "Epoch 12/300\n",
      "435/435 [==============================] - 0s 308us/step - loss: 0.0295 - val_loss: 0.0077\n",
      "Epoch 13/300\n",
      "435/435 [==============================] - 0s 241us/step - loss: 0.0284 - val_loss: 0.0046\n",
      "Epoch 14/300\n",
      "435/435 [==============================] - 0s 225us/step - loss: 0.0283 - val_loss: 0.0047\n",
      "Epoch 15/300\n",
      "435/435 [==============================] - 0s 227us/step - loss: 0.0251 - val_loss: 0.0090\n",
      "Epoch 16/300\n",
      "435/435 [==============================] - 0s 225us/step - loss: 0.0344 - val_loss: 0.0082\n",
      "Epoch 17/300\n",
      "435/435 [==============================] - 0s 241us/step - loss: 0.0284 - val_loss: 0.0056\n",
      "Epoch 18/300\n",
      "435/435 [==============================] - 0s 202us/step - loss: 0.0369 - val_loss: 0.0095\n",
      "Epoch 19/300\n",
      "435/435 [==============================] - 0s 241us/step - loss: 0.0192 - val_loss: 0.0063\n",
      "Epoch 20/300\n",
      "435/435 [==============================] - 0s 306us/step - loss: 0.0258 - val_loss: 0.0044\n",
      "Epoch 21/300\n",
      "435/435 [==============================] - 0s 280us/step - loss: 0.0264 - val_loss: 0.0051\n",
      "Epoch 22/300\n",
      "435/435 [==============================] - 0s 273us/step - loss: 0.0271 - val_loss: 0.0050\n",
      "Epoch 23/300\n",
      "435/435 [==============================] - 0s 278us/step - loss: 0.0265 - val_loss: 0.0091\n",
      "Epoch 24/300\n",
      "435/435 [==============================] - 0s 227us/step - loss: 0.0274 - val_loss: 0.0081\n",
      "Epoch 25/300\n",
      "435/435 [==============================] - 0s 255us/step - loss: 0.0241 - val_loss: 0.0099\n",
      "Epoch 26/300\n",
      "435/435 [==============================] - 0s 289us/step - loss: 0.0212 - val_loss: 0.0041\n",
      "Epoch 27/300\n",
      "435/435 [==============================] - 0s 225us/step - loss: 0.0259 - val_loss: 0.0060\n",
      "Epoch 28/300\n",
      "435/435 [==============================] - 0s 276us/step - loss: 0.0274 - val_loss: 0.0078\n",
      "Epoch 29/300\n",
      "435/435 [==============================] - 0s 250us/step - loss: 0.0264 - val_loss: 0.0050\n",
      "Epoch 30/300\n",
      "435/435 [==============================] - 0s 257us/step - loss: 0.0253 - val_loss: 0.0054\n",
      "Epoch 31/300\n",
      "435/435 [==============================] - 0s 285us/step - loss: 0.0287 - val_loss: 0.0078\n",
      "Epoch 32/300\n",
      "435/435 [==============================] - 0s 260us/step - loss: 0.0245 - val_loss: 0.0051\n",
      "Epoch 33/300\n",
      "435/435 [==============================] - 0s 248us/step - loss: 0.0263 - val_loss: 0.0120\n",
      "Epoch 34/300\n",
      "435/435 [==============================] - 0s 241us/step - loss: 0.0268 - val_loss: 0.0070\n",
      "Epoch 35/300\n",
      "435/435 [==============================] - 0s 264us/step - loss: 0.0220 - val_loss: 0.0058\n",
      "Epoch 36/300\n",
      "435/435 [==============================] - 0s 287us/step - loss: 0.0323 - val_loss: 0.0096\n",
      "Epoch 37/300\n",
      "435/435 [==============================] - 0s 264us/step - loss: 0.0203 - val_loss: 0.0064\n",
      "Epoch 38/300\n",
      "435/435 [==============================] - 0s 221us/step - loss: 0.0289 - val_loss: 0.0065\n",
      "Epoch 39/300\n",
      "435/435 [==============================] - 0s 225us/step - loss: 0.0213 - val_loss: 0.0067\n",
      "Epoch 40/300\n",
      "435/435 [==============================] - 0s 225us/step - loss: 0.0238 - val_loss: 0.0123\n",
      "Epoch 41/300\n",
      "435/435 [==============================] - 0s 204us/step - loss: 0.0244 - val_loss: 0.0048\n",
      "Epoch 42/300\n",
      "435/435 [==============================] - 0s 221us/step - loss: 0.0296 - val_loss: 0.0074\n",
      "Epoch 43/300\n",
      "435/435 [==============================] - 0s 211us/step - loss: 0.0316 - val_loss: 0.0042\n",
      "Epoch 44/300\n",
      "435/435 [==============================] - 0s 195us/step - loss: 0.0268 - val_loss: 0.0055\n",
      "Epoch 45/300\n",
      "435/435 [==============================] - 0s 207us/step - loss: 0.0292 - val_loss: 0.0072\n",
      "Epoch 46/300\n",
      "435/435 [==============================] - 0s 202us/step - loss: 0.0260 - val_loss: 0.0043\n",
      "Epoch 47/300\n",
      "435/435 [==============================] - 0s 214us/step - loss: 0.0316 - val_loss: 0.0101\n",
      "Epoch 48/300\n",
      "435/435 [==============================] - 0s 191us/step - loss: 0.0259 - val_loss: 0.0048\n",
      "Epoch 49/300\n",
      "435/435 [==============================] - 0s 204us/step - loss: 0.0257 - val_loss: 0.0061\n",
      "Epoch 50/300\n",
      "435/435 [==============================] - 0s 211us/step - loss: 0.0252 - val_loss: 0.0062\n",
      "Epoch 51/300\n",
      "435/435 [==============================] - 0s 200us/step - loss: 0.0250 - val_loss: 0.0070\n",
      "Epoch 52/300\n",
      "435/435 [==============================] - 0s 234us/step - loss: 0.0345 - val_loss: 0.0074\n",
      "Epoch 53/300\n",
      "435/435 [==============================] - 0s 179us/step - loss: 0.0330 - val_loss: 0.0066\n",
      "Epoch 54/300\n",
      "435/435 [==============================] - 0s 172us/step - loss: 0.0255 - val_loss: 0.0041\n",
      "Epoch 55/300\n",
      "435/435 [==============================] - 0s 211us/step - loss: 0.0289 - val_loss: 0.0067\n",
      "Epoch 56/300\n",
      "435/435 [==============================] - 0s 216us/step - loss: 0.0228 - val_loss: 0.0047\n"
     ]
    },
    {
     "data": {
      "text/plain": [
       "<keras.callbacks.callbacks.History at 0x25cc2a84e08>"
      ]
     },
     "execution_count": 35,
     "metadata": {},
     "output_type": "execute_result"
    }
   ],
   "source": [
    "model = Sequential()\n",
    "\n",
    "model.add(LSTM(units=100, input_shape=(5,2)))\n",
    "model.add(Dense(units=1))\n",
    "\n",
    "model.add(Dropout(0.1))\n",
    "\n",
    "early_stopping = EarlyStopping(patience=30)\n",
    "\n",
    "model.compile(optimizer='rmsprop', loss='mean_squared_error')\n",
    "model.fit(X_train, y_train, epochs=300, batch_size=64, validation_split=0.3, callbacks=[early_stopping])"
   ]
  },
  {
   "cell_type": "markdown",
   "metadata": {},
   "source": [
    "#### prediction"
   ]
  },
  {
   "cell_type": "code",
   "execution_count": 36,
   "metadata": {},
   "outputs": [],
   "source": [
    "predicted = model.predict(X_test)"
   ]
  },
  {
   "cell_type": "code",
   "execution_count": 37,
   "metadata": {
    "scrolled": true
   },
   "outputs": [
    {
     "data": {
      "text/plain": [
       "(70, pandas.core.frame.DataFrame, 70, numpy.ndarray)"
      ]
     },
     "execution_count": 37,
     "metadata": {},
     "output_type": "execute_result"
    }
   ],
   "source": [
    "len(y_test), type(y_test) , len(predicted), type(predicted)"
   ]
  },
  {
   "cell_type": "code",
   "execution_count": 38,
   "metadata": {},
   "outputs": [],
   "source": [
    "y_test=np.array(y_test)"
   ]
  },
  {
   "cell_type": "markdown",
   "metadata": {},
   "source": [
    "#### accuracy"
   ]
  },
  {
   "cell_type": "code",
   "execution_count": 39,
   "metadata": {},
   "outputs": [
    {
     "name": "stdout",
     "output_type": "stream",
     "text": [
      "RMSE = 0.1691978670334448\n",
      "STD =  0.09965132259537643\n"
     ]
    }
   ],
   "source": [
    "RMSE = mean_squared_error(y_test, predicted)**0.5    \n",
    "print(\"RMSE =\",RMSE)\n",
    "error = y_test-predicted\n",
    "print(\"STD = \", np.std(error))"
   ]
  },
  {
   "cell_type": "code",
   "execution_count": 40,
   "metadata": {},
   "outputs": [
    {
     "data": {
      "image/png": "[encoded data removed]",
      "text/plain": [
       "<Figure size 432x288 with 1 Axes>"
      ]
     },
     "metadata": {
      "needs_background": "light"
     },
     "output_type": "display_data"
    }
   ],
   "source": [
    "plt.plot(y_test, color=\"red\", label=\"real price\")\n",
    "plt.plot(predicted, color=\"blue\", label=\"predicted price\")\n",
    "plt.title(\"price prediction\")\n",
    "plt.xlabel(\"time\")\n",
    "plt.ylabel(\"price\")\n",
    "plt.legend()\n",
    "plt.show()"
   ]
  }
 ],
 "metadata": {
  "kernelspec": {
   "display_name": "Python 3",
   "language": "python",
   "name": "python3"
  },
  "language_info": {
   "codemirror_mode": {
    "name": "ipython",
    "version": 3
   },
   "file_extension": ".py",
   "mimetype": "text/x-python",
   "name": "python",
   "nbconvert_exporter": "python",
   "pygments_lexer": "ipython3",
   "version": "3.7.4"
  }
 },
 "nbformat": 4,
 "nbformat_minor": 2
}
