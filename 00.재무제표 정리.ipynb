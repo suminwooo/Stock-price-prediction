{
 "cells": [
  {
   "cell_type": "code",
   "execution_count": 1,
   "metadata": {},
   "outputs": [],
   "source": [
    "import pandas as pd\n",
    "import numpy as np"
   ]
  },
  {
   "cell_type": "code",
   "execution_count": 2,
   "metadata": {},
   "outputs": [],
   "source": [
    "BS=pd.read_csv('data/BS.csv')\n",
    "BS=BS.set_index('구분')\n",
    "BS=BS.drop(['Unnamed: 0'], axis=1)\n",
    "\n",
    "IS_1=pd.read_csv('data/IS_1.csv')\n",
    "IS_1=IS_1.set_index('구분')\n",
    "IS_1=IS_1.drop(['Unnamed: 0'], axis=1)\n",
    "\n",
    "IS_2=pd.read_csv('data/IS_2.csv')\n",
    "IS_2=IS_2.set_index('구분')\n",
    "IS_2=IS_2.drop(['Unnamed: 0'], axis=1)\n",
    "\n",
    "CF=pd.read_csv('data/CF.csv')\n",
    "CF=CF.set_index('구분')\n",
    "CF=CF.drop(['Unnamed: 0'], axis=1)"
   ]
  },
  {
   "cell_type": "code",
   "execution_count": 3,
   "metadata": {},
   "outputs": [
    {
     "data": {
      "text/plain": [
       "((8, 11), (7, 11), (7, 11), (3, 11))"
      ]
     },
     "execution_count": 3,
     "metadata": {},
     "output_type": "execute_result"
    }
   ],
   "source": [
    "BS.shape, IS_1.shape,  IS_2.shape,  CF.shape, "
   ]
  },
  {
   "cell_type": "code",
   "execution_count": 4,
   "metadata": {},
   "outputs": [
    {
     "data": {
      "text/html": [
       "<div>\n",
       "<style scoped>\n",
       "    .dataframe tbody tr th:only-of-type {\n",
       "        vertical-align: middle;\n",
       "    }\n",
       "\n",
       "    .dataframe tbody tr th {\n",
       "        vertical-align: top;\n",
       "    }\n",
       "\n",
       "    .dataframe thead th {\n",
       "        text-align: right;\n",
       "    }\n",
       "</style>\n",
       "<table border=\"1\" class=\"dataframe\">\n",
       "  <thead>\n",
       "    <tr style=\"text-align: right;\">\n",
       "      <th></th>\n",
       "      <th>제 49 기 1분기말</th>\n",
       "      <th>제 49 기 반기말</th>\n",
       "      <th>제 49 기 3분기말</th>\n",
       "      <th>제 49 기말</th>\n",
       "      <th>제 50 기 1분기말</th>\n",
       "      <th>제 50 기 반기말</th>\n",
       "      <th>제 50 기 3분기말</th>\n",
       "      <th>제 50 기말</th>\n",
       "      <th>제 51 기 1분기말</th>\n",
       "      <th>제 51 기 반기말</th>\n",
       "      <th>제 51 기 3분기말</th>\n",
       "    </tr>\n",
       "    <tr>\n",
       "      <th>구분</th>\n",
       "      <th></th>\n",
       "      <th></th>\n",
       "      <th></th>\n",
       "      <th></th>\n",
       "      <th></th>\n",
       "      <th></th>\n",
       "      <th></th>\n",
       "      <th></th>\n",
       "      <th></th>\n",
       "      <th></th>\n",
       "      <th></th>\n",
       "    </tr>\n",
       "  </thead>\n",
       "  <tbody>\n",
       "    <tr>\n",
       "      <td>유동자산</td>\n",
       "      <td>60,869,192</td>\n",
       "      <td>59,385,664</td>\n",
       "      <td>65,782,329</td>\n",
       "      <td>70,155,189</td>\n",
       "      <td>72,370,085</td>\n",
       "      <td>68,070,224</td>\n",
       "      <td>81,904,347</td>\n",
       "      <td>80,039,455</td>\n",
       "      <td>82,311,689</td>\n",
       "      <td>72,045,329</td>\n",
       "      <td>76,848,738</td>\n",
       "    </tr>\n",
       "    <tr>\n",
       "      <td>비유동자산</td>\n",
       "      <td>112,184,637</td>\n",
       "      <td>119,014,453</td>\n",
       "      <td>123,027,161</td>\n",
       "      <td>128,086,171</td>\n",
       "      <td>132,836,079</td>\n",
       "      <td>135,899,888</td>\n",
       "      <td>135,895,097</td>\n",
       "      <td>138,981,902</td>\n",
       "      <td>138,335,268</td>\n",
       "      <td>140,705,389</td>\n",
       "      <td>140,398,633</td>\n",
       "    </tr>\n",
       "    <tr>\n",
       "      <td>자산총계</td>\n",
       "      <td>173,053,829</td>\n",
       "      <td>178,400,117</td>\n",
       "      <td>188,809,490</td>\n",
       "      <td>198,241,360</td>\n",
       "      <td>205,206,164</td>\n",
       "      <td>203,970,112</td>\n",
       "      <td>217,799,444</td>\n",
       "      <td>219,021,357</td>\n",
       "      <td>220,646,957</td>\n",
       "      <td>212,750,718</td>\n",
       "      <td>217,247,371</td>\n",
       "    </tr>\n",
       "    <tr>\n",
       "      <td>유동부채</td>\n",
       "      <td>33,947,859</td>\n",
       "      <td>36,363,120</td>\n",
       "      <td>42,071,538</td>\n",
       "      <td>44,495,084</td>\n",
       "      <td>47,168,741</td>\n",
       "      <td>40,203,756</td>\n",
       "      <td>46,368,714</td>\n",
       "      <td>43,145,053</td>\n",
       "      <td>44,319,180</td>\n",
       "      <td>34,868,869</td>\n",
       "      <td>37,245,240</td>\n",
       "    </tr>\n",
       "    <tr>\n",
       "      <td>비유동부채</td>\n",
       "      <td>2,527,689</td>\n",
       "      <td>2,384,321</td>\n",
       "      <td>2,454,577</td>\n",
       "      <td>2,176,501</td>\n",
       "      <td>1,842,051</td>\n",
       "      <td>1,926,719</td>\n",
       "      <td>1,771,916</td>\n",
       "      <td>2,888,179</td>\n",
       "      <td>2,578,260</td>\n",
       "      <td>2,493,071</td>\n",
       "      <td>2,451,483</td>\n",
       "    </tr>\n",
       "    <tr>\n",
       "      <td>부채총계</td>\n",
       "      <td>36,475,548</td>\n",
       "      <td>38,747,441</td>\n",
       "      <td>44,526,115</td>\n",
       "      <td>46,671,585</td>\n",
       "      <td>49,010,792</td>\n",
       "      <td>42,130,475</td>\n",
       "      <td>48,140,630</td>\n",
       "      <td>46,033,232</td>\n",
       "      <td>46,897,440</td>\n",
       "      <td>37,361,940</td>\n",
       "      <td>39,696,723</td>\n",
       "    </tr>\n",
       "    <tr>\n",
       "      <td>자본총계</td>\n",
       "      <td>136,578,281</td>\n",
       "      <td>139,652,676</td>\n",
       "      <td>144,283,375</td>\n",
       "      <td>151,569,775</td>\n",
       "      <td>156,195,372</td>\n",
       "      <td>161,839,637</td>\n",
       "      <td>169,658,814</td>\n",
       "      <td>172,988,125</td>\n",
       "      <td>173,749,517</td>\n",
       "      <td>175,388,778</td>\n",
       "      <td>177,550,648</td>\n",
       "    </tr>\n",
       "    <tr>\n",
       "      <td>자본과부채총계</td>\n",
       "      <td>173,053,829</td>\n",
       "      <td>178,400,117</td>\n",
       "      <td>188,809,490</td>\n",
       "      <td>198,241,360</td>\n",
       "      <td>205,206,164</td>\n",
       "      <td>203,970,112</td>\n",
       "      <td>217,799,444</td>\n",
       "      <td>219,021,357</td>\n",
       "      <td>220,646,957</td>\n",
       "      <td>212,750,718</td>\n",
       "      <td>217,247,371</td>\n",
       "    </tr>\n",
       "  </tbody>\n",
       "</table>\n",
       "</div>"
      ],
      "text/plain": [
       "         제 49 기 1분기말   제 49 기 반기말  제 49 기 3분기말      제 49 기말  제 50 기 1분기말  \\\n",
       "구분                                                                         \n",
       "유동자산      60,869,192   59,385,664   65,782,329   70,155,189   72,370,085   \n",
       "비유동자산    112,184,637  119,014,453  123,027,161  128,086,171  132,836,079   \n",
       "자산총계     173,053,829  178,400,117  188,809,490  198,241,360  205,206,164   \n",
       "유동부채      33,947,859   36,363,120   42,071,538   44,495,084   47,168,741   \n",
       "비유동부채      2,527,689    2,384,321    2,454,577    2,176,501    1,842,051   \n",
       "부채총계      36,475,548   38,747,441   44,526,115   46,671,585   49,010,792   \n",
       "자본총계     136,578,281  139,652,676  144,283,375  151,569,775  156,195,372   \n",
       "자본과부채총계  173,053,829  178,400,117  188,809,490  198,241,360  205,206,164   \n",
       "\n",
       "          제 50 기 반기말  제 50 기 3분기말      제 50 기말  제 51 기 1분기말   제 51 기 반기말  \\\n",
       "구분                                                                         \n",
       "유동자산      68,070,224   81,904,347   80,039,455   82,311,689   72,045,329   \n",
       "비유동자산    135,899,888  135,895,097  138,981,902  138,335,268  140,705,389   \n",
       "자산총계     203,970,112  217,799,444  219,021,357  220,646,957  212,750,718   \n",
       "유동부채      40,203,756   46,368,714   43,145,053   44,319,180   34,868,869   \n",
       "비유동부채      1,926,719    1,771,916    2,888,179    2,578,260    2,493,071   \n",
       "부채총계      42,130,475   48,140,630   46,033,232   46,897,440   37,361,940   \n",
       "자본총계     161,839,637  169,658,814  172,988,125  173,749,517  175,388,778   \n",
       "자본과부채총계  203,970,112  217,799,444  219,021,357  220,646,957  212,750,718   \n",
       "\n",
       "         제 51 기 3분기말  \n",
       "구분                    \n",
       "유동자산      76,848,738  \n",
       "비유동자산    140,398,633  \n",
       "자산총계     217,247,371  \n",
       "유동부채      37,245,240  \n",
       "비유동부채      2,451,483  \n",
       "부채총계      39,696,723  \n",
       "자본총계     177,550,648  \n",
       "자본과부채총계  217,247,371  "
      ]
     },
     "execution_count": 4,
     "metadata": {},
     "output_type": "execute_result"
    }
   ],
   "source": [
    "BS"
   ]
  },
  {
   "cell_type": "code",
   "execution_count": 5,
   "metadata": {
    "scrolled": true
   },
   "outputs": [
    {
     "data": {
      "text/html": [
       "<div>\n",
       "<style scoped>\n",
       "    .dataframe tbody tr th:only-of-type {\n",
       "        vertical-align: middle;\n",
       "    }\n",
       "\n",
       "    .dataframe tbody tr th {\n",
       "        vertical-align: top;\n",
       "    }\n",
       "\n",
       "    .dataframe thead th {\n",
       "        text-align: right;\n",
       "    }\n",
       "</style>\n",
       "<table border=\"1\" class=\"dataframe\">\n",
       "  <thead>\n",
       "    <tr style=\"text-align: right;\">\n",
       "      <th></th>\n",
       "      <th>제 49 기 1분기누적</th>\n",
       "      <th>제 49 기 반기누적</th>\n",
       "      <th>제 49 기 3분기누적</th>\n",
       "      <th>제 49 기</th>\n",
       "      <th>제 50 기 1분기누적</th>\n",
       "      <th>제 50 기 반기누적</th>\n",
       "      <th>제 50 기 3분기누적</th>\n",
       "      <th>제 50 기</th>\n",
       "      <th>제 51 기 1분기누적</th>\n",
       "      <th>제 51 기 반기누적</th>\n",
       "      <th>제 51 기 3분기누적</th>\n",
       "    </tr>\n",
       "    <tr>\n",
       "      <th>구분</th>\n",
       "      <th></th>\n",
       "      <th></th>\n",
       "      <th></th>\n",
       "      <th></th>\n",
       "      <th></th>\n",
       "      <th></th>\n",
       "      <th></th>\n",
       "      <th></th>\n",
       "      <th></th>\n",
       "      <th></th>\n",
       "      <th></th>\n",
       "    </tr>\n",
       "  </thead>\n",
       "  <tbody>\n",
       "    <tr>\n",
       "      <td>수익(매출액)</td>\n",
       "      <td>34,578,524</td>\n",
       "      <td>76,709,333</td>\n",
       "      <td>119,783,624</td>\n",
       "      <td>161,915,007</td>\n",
       "      <td>42,606,978</td>\n",
       "      <td>83,921,701</td>\n",
       "      <td>131,567,040</td>\n",
       "      <td>170,381,870</td>\n",
       "      <td>37,038,395</td>\n",
       "      <td>75,188,069</td>\n",
       "      <td>117,392,980</td>\n",
       "    </tr>\n",
       "    <tr>\n",
       "      <td>매출총이익</td>\n",
       "      <td>11,636,988</td>\n",
       "      <td>26,026,761</td>\n",
       "      <td>42,422,575</td>\n",
       "      <td>60,515,350</td>\n",
       "      <td>17,410,718</td>\n",
       "      <td>34,119,268</td>\n",
       "      <td>54,186,410</td>\n",
       "      <td>68,715,364</td>\n",
       "      <td>10,586,172</td>\n",
       "      <td>20,045,125</td>\n",
       "      <td>29,514,047</td>\n",
       "    </tr>\n",
       "    <tr>\n",
       "      <td>영업이익(손실)</td>\n",
       "      <td>5,675,571</td>\n",
       "      <td>13,603,127</td>\n",
       "      <td>23,597,608</td>\n",
       "      <td>34,857,091</td>\n",
       "      <td>11,200,897</td>\n",
       "      <td>22,250,502</td>\n",
       "      <td>36,163,219</td>\n",
       "      <td>43,699,451</td>\n",
       "      <td>3,896,923</td>\n",
       "      <td>6,694,081</td>\n",
       "      <td>9,360,048</td>\n",
       "    </tr>\n",
       "    <tr>\n",
       "      <td>법인세비용차감전순이익(손실)</td>\n",
       "      <td>6,309,744</td>\n",
       "      <td>14,237,449</td>\n",
       "      <td>24,272,812</td>\n",
       "      <td>36,533,552</td>\n",
       "      <td>11,568,977</td>\n",
       "      <td>22,663,567</td>\n",
       "      <td>36,550,730</td>\n",
       "      <td>44,398,855</td>\n",
       "      <td>4,154,401</td>\n",
       "      <td>8,459,154</td>\n",
       "      <td>14,245,611</td>\n",
       "    </tr>\n",
       "    <tr>\n",
       "      <td>당기순이익(손실)</td>\n",
       "      <td>4,873,767</td>\n",
       "      <td>11,017,491</td>\n",
       "      <td>18,794,866</td>\n",
       "      <td>28,800,837</td>\n",
       "      <td>8,452,458</td>\n",
       "      <td>16,530,443</td>\n",
       "      <td>26,741,991</td>\n",
       "      <td>32,815,127</td>\n",
       "      <td>3,088,628</td>\n",
       "      <td>7,151,797</td>\n",
       "      <td>11,737,687</td>\n",
       "    </tr>\n",
       "    <tr>\n",
       "      <td>기본주당이익(손실) (단위:원)</td>\n",
       "      <td>34,920</td>\n",
       "      <td>79,285</td>\n",
       "      <td>135,812</td>\n",
       "      <td>208,881</td>\n",
       "      <td>62,189</td>\n",
       "      <td>2,433</td>\n",
       "      <td>3,936</td>\n",
       "      <td>4,830</td>\n",
       "      <td>455</td>\n",
       "      <td>1,053</td>\n",
       "      <td>1,728</td>\n",
       "    </tr>\n",
       "    <tr>\n",
       "      <td>희석주당이익(손실) (단위:원)</td>\n",
       "      <td>34,920</td>\n",
       "      <td>79,285</td>\n",
       "      <td>135,812</td>\n",
       "      <td>208,881</td>\n",
       "      <td>62,189</td>\n",
       "      <td>2,433</td>\n",
       "      <td>3,936</td>\n",
       "      <td>4,830</td>\n",
       "      <td>455</td>\n",
       "      <td>1,053</td>\n",
       "      <td>1,728</td>\n",
       "    </tr>\n",
       "  </tbody>\n",
       "</table>\n",
       "</div>"
      ],
      "text/plain": [
       "                  제 49 기 1분기누적 제 49 기 반기누적 제 49 기 3분기누적       제 49 기  \\\n",
       "구분                                                                     \n",
       "수익(매출액)             34,578,524  76,709,333  119,783,624  161,915,007   \n",
       "매출총이익               11,636,988  26,026,761   42,422,575   60,515,350   \n",
       "영업이익(손실)             5,675,571  13,603,127   23,597,608   34,857,091   \n",
       "법인세비용차감전순이익(손실)      6,309,744  14,237,449   24,272,812   36,533,552   \n",
       "당기순이익(손실)            4,873,767  11,017,491   18,794,866   28,800,837   \n",
       "기본주당이익(손실) (단위:원)       34,920      79,285      135,812      208,881   \n",
       "희석주당이익(손실) (단위:원)       34,920      79,285      135,812      208,881   \n",
       "\n",
       "                  제 50 기 1분기누적 제 50 기 반기누적 제 50 기 3분기누적       제 50 기  \\\n",
       "구분                                                                     \n",
       "수익(매출액)             42,606,978  83,921,701  131,567,040  170,381,870   \n",
       "매출총이익               17,410,718  34,119,268   54,186,410   68,715,364   \n",
       "영업이익(손실)            11,200,897  22,250,502   36,163,219   43,699,451   \n",
       "법인세비용차감전순이익(손실)     11,568,977  22,663,567   36,550,730   44,398,855   \n",
       "당기순이익(손실)            8,452,458  16,530,443   26,741,991   32,815,127   \n",
       "기본주당이익(손실) (단위:원)       62,189       2,433        3,936        4,830   \n",
       "희석주당이익(손실) (단위:원)       62,189       2,433        3,936        4,830   \n",
       "\n",
       "                  제 51 기 1분기누적 제 51 기 반기누적 제 51 기 3분기누적  \n",
       "구분                                                       \n",
       "수익(매출액)             37,038,395  75,188,069  117,392,980  \n",
       "매출총이익               10,586,172  20,045,125   29,514,047  \n",
       "영업이익(손실)             3,896,923   6,694,081    9,360,048  \n",
       "법인세비용차감전순이익(손실)      4,154,401   8,459,154   14,245,611  \n",
       "당기순이익(손실)            3,088,628   7,151,797   11,737,687  \n",
       "기본주당이익(손실) (단위:원)          455       1,053        1,728  \n",
       "희석주당이익(손실) (단위:원)          455       1,053        1,728  "
      ]
     },
     "execution_count": 5,
     "metadata": {},
     "output_type": "execute_result"
    }
   ],
   "source": [
    "IS_2"
   ]
  },
  {
   "cell_type": "code",
   "execution_count": 6,
   "metadata": {},
   "outputs": [
    {
     "data": {
      "text/html": [
       "<div>\n",
       "<style scoped>\n",
       "    .dataframe tbody tr th:only-of-type {\n",
       "        vertical-align: middle;\n",
       "    }\n",
       "\n",
       "    .dataframe tbody tr th {\n",
       "        vertical-align: top;\n",
       "    }\n",
       "\n",
       "    .dataframe thead th {\n",
       "        text-align: right;\n",
       "    }\n",
       "</style>\n",
       "<table border=\"1\" class=\"dataframe\">\n",
       "  <thead>\n",
       "    <tr style=\"text-align: right;\">\n",
       "      <th></th>\n",
       "      <th>제 49 기 1분기</th>\n",
       "      <th>제 49 기 반기</th>\n",
       "      <th>제 49 기 3분기</th>\n",
       "      <th>제 49 기</th>\n",
       "      <th>제 50 기 1분기</th>\n",
       "      <th>제 50 기 반기</th>\n",
       "      <th>제 50 기 3분기</th>\n",
       "      <th>제 50 기</th>\n",
       "      <th>제 51 기 1분기</th>\n",
       "      <th>제 51 기 반기</th>\n",
       "      <th>제 51 기 3분기</th>\n",
       "    </tr>\n",
       "    <tr>\n",
       "      <th>구분</th>\n",
       "      <th></th>\n",
       "      <th></th>\n",
       "      <th></th>\n",
       "      <th></th>\n",
       "      <th></th>\n",
       "      <th></th>\n",
       "      <th></th>\n",
       "      <th></th>\n",
       "      <th></th>\n",
       "      <th></th>\n",
       "      <th></th>\n",
       "    </tr>\n",
       "  </thead>\n",
       "  <tbody>\n",
       "    <tr>\n",
       "      <td>영업활동 현금흐름</td>\n",
       "      <td>7,087,039</td>\n",
       "      <td>11,002,113</td>\n",
       "      <td>23,660,843</td>\n",
       "      <td>38,906,190</td>\n",
       "      <td>13,056,587</td>\n",
       "      <td>18,073,882</td>\n",
       "      <td>29,342,891</td>\n",
       "      <td>44,341,217</td>\n",
       "      <td>3,106,972</td>\n",
       "      <td>2,228,736</td>\n",
       "      <td>12,895,344</td>\n",
       "    </tr>\n",
       "    <tr>\n",
       "      <td>투자활동 현금흐름</td>\n",
       "      <td>(1,651,453)</td>\n",
       "      <td>(4,865,616)</td>\n",
       "      <td>(15,824,391)</td>\n",
       "      <td>(28,118,806)</td>\n",
       "      <td>(2,629,346)</td>\n",
       "      <td>(8,870,920)</td>\n",
       "      <td>(22,250,426)</td>\n",
       "      <td>(31,678,548)</td>\n",
       "      <td>2,866,813</td>\n",
       "      <td>4,677,057</td>\n",
       "      <td>(4,537,058)</td>\n",
       "    </tr>\n",
       "    <tr>\n",
       "      <td>재무활동 현금흐름</td>\n",
       "      <td>(4,331,326)</td>\n",
       "      <td>(7,297,590)</td>\n",
       "      <td>(8,658,869)</td>\n",
       "      <td>(11,801,987)</td>\n",
       "      <td>(5,421,419)</td>\n",
       "      <td>(7,984,782)</td>\n",
       "      <td>(5,936,201)</td>\n",
       "      <td>(2,716)</td>\n",
       "      <td>(3,008,810)</td>\n",
       "      <td>(5,904,161)</td>\n",
       "      <td>(8,830,958)</td>\n",
       "    </tr>\n",
       "  </tbody>\n",
       "</table>\n",
       "</div>"
      ],
      "text/plain": [
       "            제 49 기 1분기    제 49 기 반기    제 49 기 3분기        제 49 기   제 50 기 1분기  \\\n",
       "구분                                                                             \n",
       "영업활동 현금흐름    7,087,039   11,002,113    23,660,843    38,906,190   13,056,587   \n",
       "투자활동 현금흐름  (1,651,453)  (4,865,616)  (15,824,391)  (28,118,806)  (2,629,346)   \n",
       "재무활동 현금흐름  (4,331,326)  (7,297,590)   (8,658,869)  (11,801,987)  (5,421,419)   \n",
       "\n",
       "             제 50 기 반기    제 50 기 3분기        제 50 기   제 51 기 1분기    제 51 기 반기  \\\n",
       "구분                                                                             \n",
       "영업활동 현금흐름   18,073,882    29,342,891    44,341,217    3,106,972    2,228,736   \n",
       "투자활동 현금흐름  (8,870,920)  (22,250,426)  (31,678,548)    2,866,813    4,677,057   \n",
       "재무활동 현금흐름  (7,984,782)   (5,936,201)       (2,716)  (3,008,810)  (5,904,161)   \n",
       "\n",
       "            제 51 기 3분기  \n",
       "구분                      \n",
       "영업활동 현금흐름   12,895,344  \n",
       "투자활동 현금흐름  (4,537,058)  \n",
       "재무활동 현금흐름  (8,830,958)  "
      ]
     },
     "execution_count": 6,
     "metadata": {},
     "output_type": "execute_result"
    }
   ],
   "source": [
    "CF"
   ]
  },
  {
   "cell_type": "markdown",
   "metadata": {},
   "source": [
    "-----------------"
   ]
  },
  {
   "cell_type": "markdown",
   "metadata": {},
   "source": [
    "### 지표 만들기"
   ]
  },
  {
   "cell_type": "markdown",
   "metadata": {},
   "source": [
    "#### 1. ROE"
   ]
  },
  {
   "cell_type": "markdown",
   "metadata": {},
   "source": [
    "당기 순이익 / 자본총액"
   ]
  },
  {
   "cell_type": "code",
   "execution_count": 7,
   "metadata": {
    "scrolled": true
   },
   "outputs": [],
   "source": [
    "ROE=[]\n",
    "for i in range(len(IS_2.columns)):\n",
    "    ROE.append(round(float(IS_2.iloc[4,i].replace(',','')) / float(BS.iloc[-2,i].replace(',','')),3))"
   ]
  },
  {
   "cell_type": "markdown",
   "metadata": {},
   "source": [
    "#### 2.유동비율"
   ]
  },
  {
   "cell_type": "markdown",
   "metadata": {},
   "source": [
    "( 유동자산 / 유동부채 ) × 100"
   ]
  },
  {
   "cell_type": "code",
   "execution_count": 8,
   "metadata": {},
   "outputs": [],
   "source": [
    "Current_ratio=[]\n",
    "for i in range(len(IS_2.columns)):\n",
    "    Current_ratio.append(round(float(BS.iloc[0,i].replace(',','')) / float(BS.iloc[3,i].replace(',','')) , 3))"
   ]
  },
  {
   "cell_type": "markdown",
   "metadata": {},
   "source": [
    "#### 3. 부채 비율"
   ]
  },
  {
   "cell_type": "markdown",
   "metadata": {},
   "source": [
    "( 총부채 / 자기자본 ) × 100\n"
   ]
  },
  {
   "cell_type": "code",
   "execution_count": 9,
   "metadata": {},
   "outputs": [],
   "source": [
    "Debt_ratio=[]\n",
    "for i in range(len(IS_2.columns)):\n",
    "    Debt_ratio.append(round(float(BS.iloc[-3,i].replace(',','')) / float(BS.iloc[-2,i].replace(',','')) , 3))"
   ]
  },
  {
   "cell_type": "markdown",
   "metadata": {},
   "source": [
    "#### 4. 매출액순이익율  "
   ]
  },
  {
   "cell_type": "markdown",
   "metadata": {},
   "source": [
    "(당기순이익/매출액) × 100"
   ]
  },
  {
   "cell_type": "code",
   "execution_count": 10,
   "metadata": {},
   "outputs": [],
   "source": [
    "Net_profit_margin=[]\n",
    "for i in range(len(IS_2.columns)):\n",
    "    Net_profit_margin.append(round(float(IS_2.iloc[-3,i].replace(',','')) / float(IS_2.iloc[0,i].replace(',','')) , 3))"
   ]
  },
  {
   "cell_type": "markdown",
   "metadata": {},
   "source": [
    "#### 5. 총자산순이익율"
   ]
  },
  {
   "cell_type": "markdown",
   "metadata": {},
   "source": [
    "(당기순이익/평균총자산) × 100"
   ]
  },
  {
   "cell_type": "code",
   "execution_count": 11,
   "metadata": {},
   "outputs": [],
   "source": [
    "ROA=[]\n",
    "for i in range(len(IS_2.columns)):\n",
    "    ROA.append(round(float(IS_2.iloc[-3,i].replace(',','')) / float(BS.iloc[2,i].replace(',','')) , 3))"
   ]
  },
  {
   "cell_type": "markdown",
   "metadata": {},
   "source": [
    "#### 6.  book value"
   ]
  },
  {
   "cell_type": "markdown",
   "metadata": {},
   "source": [
    "총자산 - 부채"
   ]
  },
  {
   "cell_type": "code",
   "execution_count": 12,
   "metadata": {},
   "outputs": [],
   "source": [
    "Book_value=[]\n",
    "for i in range(len(IS_2.columns)):\n",
    "    Book_value.append(round(float(BS.iloc[2,i].replace(',','')) / float(BS.iloc[-3,i].replace(',','')) , 3))"
   ]
  },
  {
   "cell_type": "markdown",
   "metadata": {},
   "source": [
    "-----------------"
   ]
  },
  {
   "cell_type": "markdown",
   "metadata": {},
   "source": [
    "#### dataframe 만들어주기"
   ]
  },
  {
   "cell_type": "code",
   "execution_count": 13,
   "metadata": {},
   "outputs": [
    {
     "data": {
      "text/plain": [
       "[0.036, 0.079, 0.13, 0.19, 0.054, 0.102, 0.158, 0.19, 0.018, 0.041, 0.066]"
      ]
     },
     "execution_count": 13,
     "metadata": {},
     "output_type": "execute_result"
    }
   ],
   "source": [
    "ROE"
   ]
  },
  {
   "cell_type": "code",
   "execution_count": 14,
   "metadata": {},
   "outputs": [
    {
     "data": {
      "text/plain": [
       "[1.793, 1.633, 1.564, 1.577, 1.534, 1.693, 1.766, 1.855, 1.857, 2.066, 2.063]"
      ]
     },
     "execution_count": 14,
     "metadata": {},
     "output_type": "execute_result"
    }
   ],
   "source": [
    "Current_ratio"
   ]
  },
  {
   "cell_type": "code",
   "execution_count": 15,
   "metadata": {},
   "outputs": [
    {
     "data": {
      "text/plain": [
       "[0.267, 0.277, 0.309, 0.308, 0.314, 0.26, 0.284, 0.266, 0.27, 0.213, 0.224]"
      ]
     },
     "execution_count": 15,
     "metadata": {},
     "output_type": "execute_result"
    }
   ],
   "source": [
    "Debt_ratio"
   ]
  },
  {
   "cell_type": "code",
   "execution_count": 16,
   "metadata": {},
   "outputs": [
    {
     "data": {
      "text/plain": [
       "[0.141, 0.144, 0.157, 0.178, 0.198, 0.197, 0.203, 0.193, 0.083, 0.095, 0.1]"
      ]
     },
     "execution_count": 16,
     "metadata": {},
     "output_type": "execute_result"
    }
   ],
   "source": [
    "Net_profit_margin"
   ]
  },
  {
   "cell_type": "code",
   "execution_count": 17,
   "metadata": {},
   "outputs": [
    {
     "data": {
      "text/plain": [
       "[0.028, 0.062, 0.1, 0.145, 0.041, 0.081, 0.123, 0.15, 0.014, 0.034, 0.054]"
      ]
     },
     "execution_count": 17,
     "metadata": {},
     "output_type": "execute_result"
    }
   ],
   "source": [
    "ROA"
   ]
  },
  {
   "cell_type": "code",
   "execution_count": 18,
   "metadata": {},
   "outputs": [
    {
     "data": {
      "text/plain": [
       "[4.744, 4.604, 4.24, 4.248, 4.187, 4.841, 4.524, 4.758, 4.705, 5.694, 5.473]"
      ]
     },
     "execution_count": 18,
     "metadata": {},
     "output_type": "execute_result"
    }
   ],
   "source": [
    "Book_value"
   ]
  },
  {
   "cell_type": "code",
   "execution_count": 19,
   "metadata": {},
   "outputs": [
    {
     "data": {
      "text/plain": [
       "Index(['제 49 기 1분기말', '제 49 기 반기말', '제 49 기 3분기말', '제 49 기말', '제 50 기 1분기말',\n",
       "       '제 50 기 반기말', '제 50 기 3분기말', '제 50 기말', '제 51 기 1분기말', '제 51 기 반기말',\n",
       "       '제 51 기 3분기말'],\n",
       "      dtype='object')"
      ]
     },
     "execution_count": 19,
     "metadata": {},
     "output_type": "execute_result"
    }
   ],
   "source": [
    "BS.columns"
   ]
  },
  {
   "cell_type": "code",
   "execution_count": 20,
   "metadata": {},
   "outputs": [],
   "source": [
    "df=pd.DataFrame()\n",
    "df['ROE']=ROE\n",
    "df['Current_ratio']=Current_ratio\n",
    "df['Debt_ratio']=Debt_ratio\n",
    "df['Net_profit_margin']=Net_profit_margin\n",
    "df['ROA']=ROA\n",
    "df['Book_value']=Book_value\n",
    "df.index=[BS.columns]"
   ]
  },
  {
   "cell_type": "code",
   "execution_count": 21,
   "metadata": {},
   "outputs": [
    {
     "data": {
      "text/html": [
       "<div>\n",
       "<style scoped>\n",
       "    .dataframe tbody tr th:only-of-type {\n",
       "        vertical-align: middle;\n",
       "    }\n",
       "\n",
       "    .dataframe tbody tr th {\n",
       "        vertical-align: top;\n",
       "    }\n",
       "\n",
       "    .dataframe thead th {\n",
       "        text-align: right;\n",
       "    }\n",
       "</style>\n",
       "<table border=\"1\" class=\"dataframe\">\n",
       "  <thead>\n",
       "    <tr style=\"text-align: right;\">\n",
       "      <th></th>\n",
       "      <th>ROE</th>\n",
       "      <th>Current_ratio</th>\n",
       "      <th>Debt_ratio</th>\n",
       "      <th>Net_profit_margin</th>\n",
       "      <th>ROA</th>\n",
       "      <th>Book_value</th>\n",
       "    </tr>\n",
       "  </thead>\n",
       "  <tbody>\n",
       "    <tr>\n",
       "      <td>제 49 기 1분기말</td>\n",
       "      <td>0.036</td>\n",
       "      <td>1.793</td>\n",
       "      <td>0.267</td>\n",
       "      <td>0.141</td>\n",
       "      <td>0.028</td>\n",
       "      <td>4.744</td>\n",
       "    </tr>\n",
       "    <tr>\n",
       "      <td>제 49 기 반기말</td>\n",
       "      <td>0.079</td>\n",
       "      <td>1.633</td>\n",
       "      <td>0.277</td>\n",
       "      <td>0.144</td>\n",
       "      <td>0.062</td>\n",
       "      <td>4.604</td>\n",
       "    </tr>\n",
       "    <tr>\n",
       "      <td>제 49 기 3분기말</td>\n",
       "      <td>0.130</td>\n",
       "      <td>1.564</td>\n",
       "      <td>0.309</td>\n",
       "      <td>0.157</td>\n",
       "      <td>0.100</td>\n",
       "      <td>4.240</td>\n",
       "    </tr>\n",
       "    <tr>\n",
       "      <td>제 49 기말</td>\n",
       "      <td>0.190</td>\n",
       "      <td>1.577</td>\n",
       "      <td>0.308</td>\n",
       "      <td>0.178</td>\n",
       "      <td>0.145</td>\n",
       "      <td>4.248</td>\n",
       "    </tr>\n",
       "    <tr>\n",
       "      <td>제 50 기 1분기말</td>\n",
       "      <td>0.054</td>\n",
       "      <td>1.534</td>\n",
       "      <td>0.314</td>\n",
       "      <td>0.198</td>\n",
       "      <td>0.041</td>\n",
       "      <td>4.187</td>\n",
       "    </tr>\n",
       "  </tbody>\n",
       "</table>\n",
       "</div>"
      ],
      "text/plain": [
       "               ROE  Current_ratio  Debt_ratio  Net_profit_margin    ROA  \\\n",
       "제 49 기 1분기말  0.036          1.793       0.267              0.141  0.028   \n",
       "제 49 기 반기말   0.079          1.633       0.277              0.144  0.062   \n",
       "제 49 기 3분기말  0.130          1.564       0.309              0.157  0.100   \n",
       "제 49 기말      0.190          1.577       0.308              0.178  0.145   \n",
       "제 50 기 1분기말  0.054          1.534       0.314              0.198  0.041   \n",
       "\n",
       "             Book_value  \n",
       "제 49 기 1분기말       4.744  \n",
       "제 49 기 반기말        4.604  \n",
       "제 49 기 3분기말       4.240  \n",
       "제 49 기말           4.248  \n",
       "제 50 기 1분기말       4.187  "
      ]
     },
     "execution_count": 21,
     "metadata": {},
     "output_type": "execute_result"
    }
   ],
   "source": [
    "df.head()"
   ]
  },
  {
   "cell_type": "code",
   "execution_count": 22,
   "metadata": {},
   "outputs": [],
   "source": [
    "df.to_csv('data/fundamental.csv')"
   ]
  },
  {
   "cell_type": "code",
   "execution_count": null,
   "metadata": {},
   "outputs": [],
   "source": []
  }
 ],
 "metadata": {
  "kernelspec": {
   "display_name": "Python 3",
   "language": "python",
   "name": "python3"
  },
  "language_info": {
   "codemirror_mode": {
    "name": "ipython",
    "version": 3
   },
   "file_extension": ".py",
   "mimetype": "text/x-python",
   "name": "python",
   "nbconvert_exporter": "python",
   "pygments_lexer": "ipython3",
   "version": "3.7.4"
  }
 },
 "nbformat": 4,
 "nbformat_minor": 2
}
