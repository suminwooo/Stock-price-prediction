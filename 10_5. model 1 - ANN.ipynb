{
 "cells": [
  {
   "cell_type": "markdown",
   "metadata": {},
   "source": [
    "# 1번. 다음날 가격예측"
   ]
  },
  {
   "cell_type": "code",
   "execution_count": 1,
   "metadata": {
    "scrolled": false
   },
   "outputs": [
    {
     "name": "stderr",
     "output_type": "stream",
     "text": [
      "Using TensorFlow backend.\n"
     ]
    }
   ],
   "source": [
    "import pandas as pd\n",
    "import numpy as np\n",
    "import matplotlib.pyplot as plt\n",
    "import keras\n",
    "from keras.models import Sequential\n",
    "from keras.layers import Dense,Dropout\n",
    "from keras.callbacks import EarlyStopping\n",
    "from keras import layers\n",
    "from sklearn.preprocessing import MinMaxScaler\n",
    "\n",
    "from sklearn.metrics import mean_squared_error"
   ]
  },
  {
   "cell_type": "code",
   "execution_count": 2,
   "metadata": {},
   "outputs": [],
   "source": [
    "data=pd.read_csv('data/samsung.csv')\n",
    "data=data.set_index('Date')\n",
    "data=data.loc['2017-01-01':'2020-01-01']\n",
    "data=data.reset_index()"
   ]
  },
  {
   "cell_type": "code",
   "execution_count": 3,
   "metadata": {},
   "outputs": [],
   "source": [
    "df=pd.read_csv('data/df.csv')"
   ]
  },
  {
   "cell_type": "code",
   "execution_count": 4,
   "metadata": {},
   "outputs": [],
   "source": [
    "# 시가,전날 종가 비율/ 고가,종가 비율/저가,종가 비율/ 종가,전날 종가 비율/ 거래량,전날 거래랑 비율/ 종가,종가 20일 이동평균선 비율/\n",
    "# 볼린저 밴드 너비 전달 대비 비율 :A,B,C,D,E,F,G\n",
    "#ROE','Current_ratio','Debt_ratio','Net_profit_margin','ROA','Book_value', 'ROE_1q','Current_ratio_1q','Debt_ratio_1q',\n",
    "#Net_profit_margin_1q','ROA_1q','Book_value_1q' : AA,AB,AC,AD,AE,AF / BA,BB,BC,BD,BE,BF"
   ]
  },
  {
   "cell_type": "markdown",
   "metadata": {},
   "source": [
    "#### y값 붙여주기 -> 다음날 가격으로"
   ]
  },
  {
   "cell_type": "code",
   "execution_count": 5,
   "metadata": {},
   "outputs": [],
   "source": [
    "y=data['Close'].shift(-1)\n",
    "y[730]='55200'\n",
    "df['y']=y\n",
    "df=df.set_index('date')\n",
    "df=df.apply(pd.to_numeric)"
   ]
  },
  {
   "cell_type": "code",
   "execution_count": 6,
   "metadata": {
    "scrolled": true
   },
   "outputs": [],
   "source": [
    "df=df[['A','B','C','D','E','F','G','y']]"
   ]
  },
  {
   "cell_type": "code",
   "execution_count": 7,
   "metadata": {},
   "outputs": [
    {
     "data": {
      "text/html": [
       "<div>\n",
       "<style scoped>\n",
       "    .dataframe tbody tr th:only-of-type {\n",
       "        vertical-align: middle;\n",
       "    }\n",
       "\n",
       "    .dataframe tbody tr th {\n",
       "        vertical-align: top;\n",
       "    }\n",
       "\n",
       "    .dataframe thead th {\n",
       "        text-align: right;\n",
       "    }\n",
       "</style>\n",
       "<table border=\"1\" class=\"dataframe\">\n",
       "  <thead>\n",
       "    <tr style=\"text-align: right;\">\n",
       "      <th></th>\n",
       "      <th>A</th>\n",
       "      <th>B</th>\n",
       "      <th>C</th>\n",
       "      <th>D</th>\n",
       "      <th>E</th>\n",
       "      <th>F</th>\n",
       "      <th>G</th>\n",
       "      <th>y</th>\n",
       "    </tr>\n",
       "    <tr>\n",
       "      <th>date</th>\n",
       "      <th></th>\n",
       "      <th></th>\n",
       "      <th></th>\n",
       "      <th></th>\n",
       "      <th></th>\n",
       "      <th></th>\n",
       "      <th></th>\n",
       "      <th></th>\n",
       "    </tr>\n",
       "  </thead>\n",
       "  <tbody>\n",
       "    <tr>\n",
       "      <th>2017-01-02</th>\n",
       "      <td>-0.002</td>\n",
       "      <td>0.004</td>\n",
       "      <td>-0.006</td>\n",
       "      <td>0.002</td>\n",
       "      <td>-0.381</td>\n",
       "      <td>0.045</td>\n",
       "      <td>-0.697</td>\n",
       "      <td>36480.0</td>\n",
       "    </tr>\n",
       "    <tr>\n",
       "      <th>2017-01-03</th>\n",
       "      <td>0.005</td>\n",
       "      <td>0.004</td>\n",
       "      <td>-0.013</td>\n",
       "      <td>0.010</td>\n",
       "      <td>0.582</td>\n",
       "      <td>0.059</td>\n",
       "      <td>-0.374</td>\n",
       "      <td>36160.0</td>\n",
       "    </tr>\n",
       "    <tr>\n",
       "      <th>2017-01-04</th>\n",
       "      <td>0.001</td>\n",
       "      <td>0.010</td>\n",
       "      <td>-0.002</td>\n",
       "      <td>-0.009</td>\n",
       "      <td>0.083</td>\n",
       "      <td>0.044</td>\n",
       "      <td>-0.366</td>\n",
       "      <td>35560.0</td>\n",
       "    </tr>\n",
       "    <tr>\n",
       "      <th>2017-01-05</th>\n",
       "      <td>-0.003</td>\n",
       "      <td>0.014</td>\n",
       "      <td>-0.001</td>\n",
       "      <td>-0.017</td>\n",
       "      <td>0.376</td>\n",
       "      <td>0.020</td>\n",
       "      <td>-0.064</td>\n",
       "      <td>36200.0</td>\n",
       "    </tr>\n",
       "    <tr>\n",
       "      <th>2017-01-06</th>\n",
       "      <td>0.017</td>\n",
       "      <td>0.007</td>\n",
       "      <td>-0.004</td>\n",
       "      <td>0.018</td>\n",
       "      <td>-0.190</td>\n",
       "      <td>0.032</td>\n",
       "      <td>-0.310</td>\n",
       "      <td>37220.0</td>\n",
       "    </tr>\n",
       "  </tbody>\n",
       "</table>\n",
       "</div>"
      ],
      "text/plain": [
       "                A      B      C      D      E      F      G        y\n",
       "date                                                                \n",
       "2017-01-02 -0.002  0.004 -0.006  0.002 -0.381  0.045 -0.697  36480.0\n",
       "2017-01-03  0.005  0.004 -0.013  0.010  0.582  0.059 -0.374  36160.0\n",
       "2017-01-04  0.001  0.010 -0.002 -0.009  0.083  0.044 -0.366  35560.0\n",
       "2017-01-05 -0.003  0.014 -0.001 -0.017  0.376  0.020 -0.064  36200.0\n",
       "2017-01-06  0.017  0.007 -0.004  0.018 -0.190  0.032 -0.310  37220.0"
      ]
     },
     "execution_count": 7,
     "metadata": {},
     "output_type": "execute_result"
    }
   ],
   "source": [
    "df.head()"
   ]
  },
  {
   "cell_type": "code",
   "execution_count": 8,
   "metadata": {},
   "outputs": [
    {
     "data": {
      "text/html": [
       "<div>\n",
       "<style scoped>\n",
       "    .dataframe tbody tr th:only-of-type {\n",
       "        vertical-align: middle;\n",
       "    }\n",
       "\n",
       "    .dataframe tbody tr th {\n",
       "        vertical-align: top;\n",
       "    }\n",
       "\n",
       "    .dataframe thead th {\n",
       "        text-align: right;\n",
       "    }\n",
       "</style>\n",
       "<table border=\"1\" class=\"dataframe\">\n",
       "  <thead>\n",
       "    <tr style=\"text-align: right;\">\n",
       "      <th></th>\n",
       "      <th>A</th>\n",
       "      <th>B</th>\n",
       "      <th>C</th>\n",
       "      <th>D</th>\n",
       "      <th>E</th>\n",
       "      <th>F</th>\n",
       "      <th>G</th>\n",
       "      <th>y</th>\n",
       "    </tr>\n",
       "    <tr>\n",
       "      <th>date</th>\n",
       "      <th></th>\n",
       "      <th></th>\n",
       "      <th></th>\n",
       "      <th></th>\n",
       "      <th></th>\n",
       "      <th></th>\n",
       "      <th></th>\n",
       "      <th></th>\n",
       "    </tr>\n",
       "  </thead>\n",
       "  <tbody>\n",
       "    <tr>\n",
       "      <th>2019-12-23</th>\n",
       "      <td>0.002</td>\n",
       "      <td>0.016</td>\n",
       "      <td>-0.007</td>\n",
       "      <td>-0.009</td>\n",
       "      <td>-0.187</td>\n",
       "      <td>0.069</td>\n",
       "      <td>-0.009</td>\n",
       "      <td>55000.0</td>\n",
       "    </tr>\n",
       "    <tr>\n",
       "      <th>2019-12-24</th>\n",
       "      <td>0.002</td>\n",
       "      <td>0.013</td>\n",
       "      <td>-0.004</td>\n",
       "      <td>-0.009</td>\n",
       "      <td>0.206</td>\n",
       "      <td>0.060</td>\n",
       "      <td>0.024</td>\n",
       "      <td>55400.0</td>\n",
       "    </tr>\n",
       "    <tr>\n",
       "      <th>2019-12-26</th>\n",
       "      <td>-0.005</td>\n",
       "      <td>0.000</td>\n",
       "      <td>-0.018</td>\n",
       "      <td>0.007</td>\n",
       "      <td>-0.187</td>\n",
       "      <td>0.067</td>\n",
       "      <td>-0.139</td>\n",
       "      <td>56500.0</td>\n",
       "    </tr>\n",
       "    <tr>\n",
       "      <th>2019-12-27</th>\n",
       "      <td>0.005</td>\n",
       "      <td>0.007</td>\n",
       "      <td>-0.018</td>\n",
       "      <td>0.019</td>\n",
       "      <td>0.277</td>\n",
       "      <td>0.089</td>\n",
       "      <td>0.141</td>\n",
       "      <td>55800.0</td>\n",
       "    </tr>\n",
       "    <tr>\n",
       "      <th>2019-12-30</th>\n",
       "      <td>-0.005</td>\n",
       "      <td>0.014</td>\n",
       "      <td>-0.002</td>\n",
       "      <td>-0.013</td>\n",
       "      <td>-0.321</td>\n",
       "      <td>0.079</td>\n",
       "      <td>-0.228</td>\n",
       "      <td>55200.0</td>\n",
       "    </tr>\n",
       "  </tbody>\n",
       "</table>\n",
       "</div>"
      ],
      "text/plain": [
       "                A      B      C      D      E      F      G        y\n",
       "date                                                                \n",
       "2019-12-23  0.002  0.016 -0.007 -0.009 -0.187  0.069 -0.009  55000.0\n",
       "2019-12-24  0.002  0.013 -0.004 -0.009  0.206  0.060  0.024  55400.0\n",
       "2019-12-26 -0.005  0.000 -0.018  0.007 -0.187  0.067 -0.139  56500.0\n",
       "2019-12-27  0.005  0.007 -0.018  0.019  0.277  0.089  0.141  55800.0\n",
       "2019-12-30 -0.005  0.014 -0.002 -0.013 -0.321  0.079 -0.228  55200.0"
      ]
     },
     "execution_count": 8,
     "metadata": {},
     "output_type": "execute_result"
    }
   ],
   "source": [
    "df.tail()"
   ]
  },
  {
   "cell_type": "markdown",
   "metadata": {},
   "source": [
    "#### minmaxscaler, train,test split"
   ]
  },
  {
   "cell_type": "code",
   "execution_count": 9,
   "metadata": {},
   "outputs": [],
   "source": [
    "sc_df = MinMaxScaler()\n",
    "train_input= sc_df.fit_transform(df[['A', 'B', 'C', 'D', 'E', 'F', 'G']].loc['2017-01-01': '2019-06-31'])\n",
    "train_target = sc_df.fit_transform(df[['y']].loc['2017-01-01': '2019-06-31'])"
   ]
  },
  {
   "cell_type": "code",
   "execution_count": 10,
   "metadata": {},
   "outputs": [],
   "source": [
    "test_input = sc_df.fit_transform(df[['A', 'B', 'C', 'D', 'E', 'F', 'G']].loc['2019-07-01': '2019-12-31'])\n",
    "test_target = sc_df.fit_transform(df[['y']].loc['2019-07-01': '2019-12-31'])"
   ]
  },
  {
   "cell_type": "code",
   "execution_count": 11,
   "metadata": {},
   "outputs": [],
   "source": [
    "train_input = train_input.reshape(train_input.shape[0],7)\n",
    "test_input = test_input.reshape(test_input.shape[0],7)"
   ]
  },
  {
   "cell_type": "code",
   "execution_count": 12,
   "metadata": {},
   "outputs": [
    {
     "data": {
      "text/plain": [
       "((606, 7), (606, 1), (125, 7), (125, 1))"
      ]
     },
     "execution_count": 12,
     "metadata": {},
     "output_type": "execute_result"
    }
   ],
   "source": [
    "train_input.shape, train_target.shape, test_input.shape, test_target.shape"
   ]
  },
  {
   "cell_type": "markdown",
   "metadata": {},
   "source": [
    "#### 형식 변경"
   ]
  },
  {
   "cell_type": "code",
   "execution_count": 13,
   "metadata": {},
   "outputs": [
    {
     "data": {
      "text/plain": [
       "array([0.48888889, 0.04705882, 0.86046512, 0.56565657, 0.08181818,\n",
       "       0.52238806, 0.        ])"
      ]
     },
     "execution_count": 13,
     "metadata": {},
     "output_type": "execute_result"
    }
   ],
   "source": [
    "train_input[0]"
   ]
  },
  {
   "cell_type": "code",
   "execution_count": 14,
   "metadata": {},
   "outputs": [
    {
     "data": {
      "text/plain": [
       "array([0.68965517, 0.47222222, 0.7037037 , 0.3125    , 0.21943231,\n",
       "       0.79005525, 0.18494459])"
      ]
     },
     "execution_count": 14,
     "metadata": {},
     "output_type": "execute_result"
    }
   ],
   "source": [
    "test_input[0]"
   ]
  },
  {
   "cell_type": "markdown",
   "metadata": {},
   "source": [
    "### model 만들기"
   ]
  },
  {
   "cell_type": "code",
   "execution_count": 15,
   "metadata": {},
   "outputs": [],
   "source": [
    "early_stopping = EarlyStopping(patience=50)"
   ]
  },
  {
   "cell_type": "code",
   "execution_count": 16,
   "metadata": {},
   "outputs": [],
   "source": [
    "model = Sequential()\n",
    "\n",
    "model.add(layers.Dense(units=4, input_shape=(7,)))\n",
    "\n",
    "model.add(Dense(units = 1))\n",
    "\n",
    "model.compile(optimizer='adam', loss='mean_squared_error')"
   ]
  },
  {
   "cell_type": "code",
   "execution_count": 17,
   "metadata": {
    "scrolled": false
   },
   "outputs": [
    {
     "name": "stdout",
     "output_type": "stream",
     "text": [
      "Train on 424 samples, validate on 182 samples\n",
      "Epoch 1/1000\n",
      "424/424 [==============================] - 0s 273us/step - loss: 0.8619 - val_loss: 0.4427\n",
      "Epoch 2/1000\n",
      "424/424 [==============================] - 0s 59us/step - loss: 0.6333 - val_loss: 0.3024\n",
      "Epoch 3/1000\n",
      "424/424 [==============================] - 0s 64us/step - loss: 0.4596 - val_loss: 0.2081\n",
      "Epoch 4/1000\n",
      "424/424 [==============================] - 0s 64us/step - loss: 0.3347 - val_loss: 0.1490\n",
      "Epoch 5/1000\n",
      "424/424 [==============================] - 0s 57us/step - loss: 0.2485 - val_loss: 0.1168\n",
      "Epoch 6/1000\n",
      "424/424 [==============================] - 0s 52us/step - loss: 0.1928 - val_loss: 0.1024\n",
      "Epoch 7/1000\n",
      "424/424 [==============================] - 0s 45us/step - loss: 0.1568 - val_loss: 0.0988\n",
      "Epoch 8/1000\n",
      "424/424 [==============================] - 0s 45us/step - loss: 0.1352 - val_loss: 0.1003\n",
      "Epoch 9/1000\n",
      "424/424 [==============================] - 0s 45us/step - loss: 0.1227 - val_loss: 0.1033\n",
      "Epoch 10/1000\n",
      "424/424 [==============================] - 0s 42us/step - loss: 0.1152 - val_loss: 0.1061\n",
      "Epoch 11/1000\n",
      "424/424 [==============================] - 0s 47us/step - loss: 0.1101 - val_loss: 0.1074\n",
      "Epoch 12/1000\n",
      "424/424 [==============================] - 0s 45us/step - loss: 0.1065 - val_loss: 0.1080\n",
      "Epoch 13/1000\n",
      "424/424 [==============================] - 0s 45us/step - loss: 0.1032 - val_loss: 0.1065\n",
      "Epoch 14/1000\n",
      "424/424 [==============================] - 0s 45us/step - loss: 0.1004 - val_loss: 0.1043\n",
      "Epoch 15/1000\n",
      "424/424 [==============================] - 0s 42us/step - loss: 0.0978 - val_loss: 0.1014\n",
      "Epoch 16/1000\n",
      "424/424 [==============================] - 0s 47us/step - loss: 0.0952 - val_loss: 0.0987\n",
      "Epoch 17/1000\n",
      "424/424 [==============================] - 0s 45us/step - loss: 0.0927 - val_loss: 0.0960\n",
      "Epoch 18/1000\n",
      "424/424 [==============================] - 0s 42us/step - loss: 0.0904 - val_loss: 0.0938\n",
      "Epoch 19/1000\n",
      "424/424 [==============================] - 0s 42us/step - loss: 0.0883 - val_loss: 0.0906\n",
      "Epoch 20/1000\n",
      "424/424 [==============================] - 0s 42us/step - loss: 0.0861 - val_loss: 0.0893\n",
      "Epoch 21/1000\n",
      "424/424 [==============================] - 0s 45us/step - loss: 0.0842 - val_loss: 0.0881\n",
      "Epoch 22/1000\n",
      "424/424 [==============================] - 0s 47us/step - loss: 0.0820 - val_loss: 0.0837\n",
      "Epoch 23/1000\n",
      "424/424 [==============================] - 0s 45us/step - loss: 0.0802 - val_loss: 0.0800\n",
      "Epoch 24/1000\n",
      "424/424 [==============================] - 0s 45us/step - loss: 0.0784 - val_loss: 0.0795\n",
      "Epoch 25/1000\n",
      "424/424 [==============================] - 0s 45us/step - loss: 0.0767 - val_loss: 0.0777\n",
      "Epoch 26/1000\n",
      "424/424 [==============================] - 0s 45us/step - loss: 0.0751 - val_loss: 0.0762\n",
      "Epoch 27/1000\n",
      "424/424 [==============================] - 0s 45us/step - loss: 0.0735 - val_loss: 0.0744\n",
      "Epoch 28/1000\n",
      "424/424 [==============================] - 0s 45us/step - loss: 0.0721 - val_loss: 0.0725\n",
      "Epoch 29/1000\n",
      "424/424 [==============================] - 0s 42us/step - loss: 0.0708 - val_loss: 0.0714\n",
      "Epoch 30/1000\n",
      "424/424 [==============================] - 0s 45us/step - loss: 0.0693 - val_loss: 0.0691\n",
      "Epoch 31/1000\n",
      "424/424 [==============================] - 0s 45us/step - loss: 0.0681 - val_loss: 0.0684\n",
      "Epoch 32/1000\n",
      "424/424 [==============================] - 0s 42us/step - loss: 0.0668 - val_loss: 0.0652\n",
      "Epoch 33/1000\n",
      "424/424 [==============================] - 0s 45us/step - loss: 0.0658 - val_loss: 0.0630\n",
      "Epoch 34/1000\n",
      "424/424 [==============================] - 0s 45us/step - loss: 0.0647 - val_loss: 0.0620\n",
      "Epoch 35/1000\n",
      "424/424 [==============================] - 0s 47us/step - loss: 0.0637 - val_loss: 0.0604\n",
      "Epoch 36/1000\n",
      "424/424 [==============================] - 0s 47us/step - loss: 0.0628 - val_loss: 0.0601\n",
      "Epoch 37/1000\n",
      "424/424 [==============================] - 0s 45us/step - loss: 0.0619 - val_loss: 0.0588\n",
      "Epoch 38/1000\n",
      "424/424 [==============================] - 0s 42us/step - loss: 0.0610 - val_loss: 0.0577\n",
      "Epoch 39/1000\n",
      "424/424 [==============================] - 0s 42us/step - loss: 0.0602 - val_loss: 0.0570\n",
      "Epoch 40/1000\n",
      "424/424 [==============================] - 0s 45us/step - loss: 0.0595 - val_loss: 0.0558\n",
      "Epoch 41/1000\n",
      "424/424 [==============================] - 0s 42us/step - loss: 0.0587 - val_loss: 0.0542\n",
      "Epoch 42/1000\n",
      "424/424 [==============================] - 0s 42us/step - loss: 0.0581 - val_loss: 0.0519\n",
      "Epoch 43/1000\n",
      "424/424 [==============================] - 0s 45us/step - loss: 0.0575 - val_loss: 0.0531\n",
      "Epoch 44/1000\n",
      "424/424 [==============================] - 0s 45us/step - loss: 0.0568 - val_loss: 0.0522\n",
      "Epoch 45/1000\n",
      "424/424 [==============================] - 0s 45us/step - loss: 0.0562 - val_loss: 0.0510\n",
      "Epoch 46/1000\n",
      "424/424 [==============================] - 0s 45us/step - loss: 0.0557 - val_loss: 0.0492\n",
      "Epoch 47/1000\n",
      "424/424 [==============================] - 0s 42us/step - loss: 0.0552 - val_loss: 0.0486\n",
      "Epoch 48/1000\n",
      "424/424 [==============================] - 0s 42us/step - loss: 0.0548 - val_loss: 0.0476\n",
      "Epoch 49/1000\n",
      "424/424 [==============================] - 0s 45us/step - loss: 0.0542 - val_loss: 0.0488\n",
      "Epoch 50/1000\n",
      "424/424 [==============================] - 0s 42us/step - loss: 0.0538 - val_loss: 0.0491\n",
      "Epoch 51/1000\n",
      "424/424 [==============================] - 0s 45us/step - loss: 0.0533 - val_loss: 0.0478\n",
      "Epoch 52/1000\n",
      "424/424 [==============================] - 0s 45us/step - loss: 0.0529 - val_loss: 0.0460\n",
      "Epoch 53/1000\n",
      "424/424 [==============================] - 0s 45us/step - loss: 0.0526 - val_loss: 0.0456\n",
      "Epoch 54/1000\n",
      "424/424 [==============================] - 0s 45us/step - loss: 0.0523 - val_loss: 0.0463\n",
      "Epoch 55/1000\n",
      "424/424 [==============================] - 0s 42us/step - loss: 0.0520 - val_loss: 0.0428\n",
      "Epoch 56/1000\n",
      "424/424 [==============================] - 0s 42us/step - loss: 0.0517 - val_loss: 0.0433\n",
      "Epoch 57/1000\n",
      "424/424 [==============================] - 0s 45us/step - loss: 0.0513 - val_loss: 0.0433\n",
      "Epoch 58/1000\n",
      "424/424 [==============================] - 0s 42us/step - loss: 0.0511 - val_loss: 0.0440\n",
      "Epoch 59/1000\n",
      "424/424 [==============================] - 0s 45us/step - loss: 0.0507 - val_loss: 0.0420\n",
      "Epoch 60/1000\n",
      "424/424 [==============================] - 0s 45us/step - loss: 0.0504 - val_loss: 0.0415\n",
      "Epoch 61/1000\n",
      "424/424 [==============================] - 0s 42us/step - loss: 0.0501 - val_loss: 0.0403\n",
      "Epoch 62/1000\n",
      "424/424 [==============================] - 0s 45us/step - loss: 0.0499 - val_loss: 0.0407\n",
      "Epoch 63/1000\n",
      "424/424 [==============================] - 0s 42us/step - loss: 0.0497 - val_loss: 0.0402\n",
      "Epoch 64/1000\n",
      "424/424 [==============================] - 0s 42us/step - loss: 0.0495 - val_loss: 0.0420\n",
      "Epoch 65/1000\n",
      "424/424 [==============================] - 0s 45us/step - loss: 0.0493 - val_loss: 0.0400\n",
      "Epoch 66/1000\n",
      "424/424 [==============================] - 0s 45us/step - loss: 0.0491 - val_loss: 0.0403\n",
      "Epoch 67/1000\n",
      "424/424 [==============================] - 0s 47us/step - loss: 0.0489 - val_loss: 0.0401\n",
      "Epoch 68/1000\n",
      "424/424 [==============================] - 0s 45us/step - loss: 0.0487 - val_loss: 0.0380\n",
      "Epoch 69/1000\n",
      "424/424 [==============================] - 0s 45us/step - loss: 0.0486 - val_loss: 0.0382\n",
      "Epoch 70/1000\n",
      "424/424 [==============================] - 0s 45us/step - loss: 0.0485 - val_loss: 0.0410\n",
      "Epoch 71/1000\n",
      "424/424 [==============================] - 0s 45us/step - loss: 0.0482 - val_loss: 0.0395\n",
      "Epoch 72/1000\n",
      "424/424 [==============================] - 0s 45us/step - loss: 0.0482 - val_loss: 0.0377\n",
      "Epoch 73/1000\n",
      "424/424 [==============================] - 0s 42us/step - loss: 0.0480 - val_loss: 0.0392\n",
      "Epoch 74/1000\n",
      "424/424 [==============================] - 0s 45us/step - loss: 0.0479 - val_loss: 0.0391\n",
      "Epoch 75/1000\n",
      "424/424 [==============================] - 0s 42us/step - loss: 0.0480 - val_loss: 0.0362\n",
      "Epoch 76/1000\n",
      "424/424 [==============================] - 0s 42us/step - loss: 0.0476 - val_loss: 0.0381\n",
      "Epoch 77/1000\n",
      "424/424 [==============================] - 0s 45us/step - loss: 0.0476 - val_loss: 0.0391\n",
      "Epoch 78/1000\n",
      "424/424 [==============================] - 0s 42us/step - loss: 0.0474 - val_loss: 0.0380\n",
      "Epoch 79/1000\n"
     ]
    },
    {
     "name": "stdout",
     "output_type": "stream",
     "text": [
      "424/424 [==============================] - 0s 45us/step - loss: 0.0473 - val_loss: 0.0381\n",
      "Epoch 80/1000\n",
      "424/424 [==============================] - 0s 47us/step - loss: 0.0472 - val_loss: 0.0378\n",
      "Epoch 81/1000\n",
      "424/424 [==============================] - 0s 47us/step - loss: 0.0472 - val_loss: 0.0360\n",
      "Epoch 82/1000\n",
      "424/424 [==============================] - 0s 47us/step - loss: 0.0471 - val_loss: 0.0370\n",
      "Epoch 83/1000\n",
      "424/424 [==============================] - 0s 49us/step - loss: 0.0470 - val_loss: 0.0366\n",
      "Epoch 84/1000\n",
      "424/424 [==============================] - 0s 47us/step - loss: 0.0469 - val_loss: 0.0370\n",
      "Epoch 85/1000\n",
      "424/424 [==============================] - 0s 45us/step - loss: 0.0468 - val_loss: 0.0372\n",
      "Epoch 86/1000\n",
      "424/424 [==============================] - 0s 47us/step - loss: 0.0467 - val_loss: 0.0379\n",
      "Epoch 87/1000\n",
      "424/424 [==============================] - 0s 45us/step - loss: 0.0466 - val_loss: 0.0373\n",
      "Epoch 88/1000\n",
      "424/424 [==============================] - 0s 49us/step - loss: 0.0466 - val_loss: 0.0375\n",
      "Epoch 89/1000\n",
      "424/424 [==============================] - 0s 40us/step - loss: 0.0465 - val_loss: 0.0362\n",
      "Epoch 90/1000\n",
      "424/424 [==============================] - 0s 42us/step - loss: 0.0464 - val_loss: 0.0357\n",
      "Epoch 91/1000\n",
      "424/424 [==============================] - 0s 45us/step - loss: 0.0463 - val_loss: 0.0368\n",
      "Epoch 92/1000\n",
      "424/424 [==============================] - 0s 47us/step - loss: 0.0463 - val_loss: 0.0373\n",
      "Epoch 93/1000\n",
      "424/424 [==============================] - 0s 45us/step - loss: 0.0462 - val_loss: 0.0370\n",
      "Epoch 94/1000\n",
      "424/424 [==============================] - 0s 45us/step - loss: 0.0461 - val_loss: 0.0354\n",
      "Epoch 95/1000\n",
      "424/424 [==============================] - 0s 47us/step - loss: 0.0461 - val_loss: 0.0349\n",
      "Epoch 96/1000\n",
      "424/424 [==============================] - 0s 45us/step - loss: 0.0461 - val_loss: 0.0364\n",
      "Epoch 97/1000\n",
      "424/424 [==============================] - 0s 47us/step - loss: 0.0460 - val_loss: 0.0375\n",
      "Epoch 98/1000\n",
      "424/424 [==============================] - 0s 47us/step - loss: 0.0459 - val_loss: 0.0361\n",
      "Epoch 99/1000\n",
      "424/424 [==============================] - 0s 45us/step - loss: 0.0460 - val_loss: 0.0334\n",
      "Epoch 100/1000\n",
      "424/424 [==============================] - 0s 45us/step - loss: 0.0460 - val_loss: 0.0374\n",
      "Epoch 101/1000\n",
      "424/424 [==============================] - 0s 45us/step - loss: 0.0458 - val_loss: 0.0349\n",
      "Epoch 102/1000\n",
      "424/424 [==============================] - 0s 45us/step - loss: 0.0457 - val_loss: 0.0351\n",
      "Epoch 103/1000\n",
      "424/424 [==============================] - 0s 47us/step - loss: 0.0456 - val_loss: 0.0366\n",
      "Epoch 104/1000\n",
      "424/424 [==============================] - 0s 45us/step - loss: 0.0457 - val_loss: 0.0382\n",
      "Epoch 105/1000\n",
      "424/424 [==============================] - 0s 59us/step - loss: 0.0457 - val_loss: 0.0350\n",
      "Epoch 106/1000\n",
      "424/424 [==============================] - 0s 45us/step - loss: 0.0456 - val_loss: 0.0340\n",
      "Epoch 107/1000\n",
      "424/424 [==============================] - 0s 47us/step - loss: 0.0458 - val_loss: 0.0380\n",
      "Epoch 108/1000\n",
      "424/424 [==============================] - 0s 47us/step - loss: 0.0454 - val_loss: 0.0350\n",
      "Epoch 109/1000\n",
      "424/424 [==============================] - 0s 54us/step - loss: 0.0454 - val_loss: 0.0349\n",
      "Epoch 110/1000\n",
      "424/424 [==============================] - 0s 45us/step - loss: 0.0454 - val_loss: 0.0353\n",
      "Epoch 111/1000\n",
      "424/424 [==============================] - 0s 47us/step - loss: 0.0457 - val_loss: 0.0316\n",
      "Epoch 112/1000\n",
      "424/424 [==============================] - 0s 45us/step - loss: 0.0452 - val_loss: 0.0368\n",
      "Epoch 113/1000\n",
      "424/424 [==============================] - 0s 42us/step - loss: 0.0452 - val_loss: 0.0362\n",
      "Epoch 114/1000\n",
      "424/424 [==============================] - 0s 45us/step - loss: 0.0451 - val_loss: 0.0347\n",
      "Epoch 115/1000\n",
      "424/424 [==============================] - 0s 47us/step - loss: 0.0452 - val_loss: 0.0350\n",
      "Epoch 116/1000\n",
      "424/424 [==============================] - 0s 49us/step - loss: 0.0451 - val_loss: 0.0348\n",
      "Epoch 117/1000\n",
      "424/424 [==============================] - 0s 49us/step - loss: 0.0451 - val_loss: 0.0368\n",
      "Epoch 118/1000\n",
      "424/424 [==============================] - 0s 54us/step - loss: 0.0451 - val_loss: 0.0368\n",
      "Epoch 119/1000\n",
      "424/424 [==============================] - 0s 50us/step - loss: 0.0452 - val_loss: 0.0341\n",
      "Epoch 120/1000\n",
      "424/424 [==============================] - 0s 47us/step - loss: 0.0450 - val_loss: 0.0358\n",
      "Epoch 121/1000\n",
      "424/424 [==============================] - 0s 52us/step - loss: 0.0449 - val_loss: 0.0360\n",
      "Epoch 122/1000\n",
      "424/424 [==============================] - 0s 47us/step - loss: 0.0449 - val_loss: 0.0348\n",
      "Epoch 123/1000\n",
      "424/424 [==============================] - 0s 45us/step - loss: 0.0449 - val_loss: 0.0350\n",
      "Epoch 124/1000\n",
      "424/424 [==============================] - 0s 50us/step - loss: 0.0448 - val_loss: 0.0341\n",
      "Epoch 125/1000\n",
      "424/424 [==============================] - 0s 57us/step - loss: 0.0448 - val_loss: 0.0337\n",
      "Epoch 126/1000\n",
      "424/424 [==============================] - 0s 47us/step - loss: 0.0447 - val_loss: 0.0356\n",
      "Epoch 127/1000\n",
      "424/424 [==============================] - 0s 50us/step - loss: 0.0447 - val_loss: 0.0369\n",
      "Epoch 128/1000\n",
      "424/424 [==============================] - 0s 50us/step - loss: 0.0447 - val_loss: 0.0350\n",
      "Epoch 129/1000\n",
      "424/424 [==============================] - 0s 49us/step - loss: 0.0447 - val_loss: 0.0340\n",
      "Epoch 130/1000\n",
      "424/424 [==============================] - 0s 47us/step - loss: 0.0446 - val_loss: 0.0350\n",
      "Epoch 131/1000\n",
      "424/424 [==============================] - 0s 49us/step - loss: 0.0446 - val_loss: 0.0347\n",
      "Epoch 132/1000\n",
      "424/424 [==============================] - 0s 47us/step - loss: 0.0446 - val_loss: 0.0353\n",
      "Epoch 133/1000\n",
      "424/424 [==============================] - 0s 47us/step - loss: 0.0445 - val_loss: 0.0378\n",
      "Epoch 134/1000\n",
      "424/424 [==============================] - 0s 45us/step - loss: 0.0444 - val_loss: 0.0346\n",
      "Epoch 135/1000\n",
      "424/424 [==============================] - 0s 49us/step - loss: 0.0446 - val_loss: 0.0334\n",
      "Epoch 136/1000\n",
      "424/424 [==============================] - 0s 47us/step - loss: 0.0445 - val_loss: 0.0349\n",
      "Epoch 137/1000\n",
      "424/424 [==============================] - 0s 47us/step - loss: 0.0445 - val_loss: 0.0359\n",
      "Epoch 138/1000\n",
      "424/424 [==============================] - 0s 49us/step - loss: 0.0444 - val_loss: 0.0357\n",
      "Epoch 139/1000\n",
      "424/424 [==============================] - 0s 45us/step - loss: 0.0444 - val_loss: 0.0355\n",
      "Epoch 140/1000\n",
      "424/424 [==============================] - 0s 47us/step - loss: 0.0444 - val_loss: 0.0353\n",
      "Epoch 141/1000\n",
      "424/424 [==============================] - 0s 47us/step - loss: 0.0444 - val_loss: 0.0336\n",
      "Epoch 142/1000\n",
      "424/424 [==============================] - 0s 42us/step - loss: 0.0444 - val_loss: 0.0337\n",
      "Epoch 143/1000\n",
      "424/424 [==============================] - 0s 45us/step - loss: 0.0444 - val_loss: 0.0370\n",
      "Epoch 144/1000\n",
      "424/424 [==============================] - 0s 45us/step - loss: 0.0443 - val_loss: 0.0360\n",
      "Epoch 145/1000\n",
      "424/424 [==============================] - 0s 45us/step - loss: 0.0442 - val_loss: 0.0351\n",
      "Epoch 146/1000\n",
      "424/424 [==============================] - 0s 45us/step - loss: 0.0442 - val_loss: 0.0340\n",
      "Epoch 147/1000\n",
      "424/424 [==============================] - 0s 45us/step - loss: 0.0443 - val_loss: 0.0337\n",
      "Epoch 148/1000\n",
      "424/424 [==============================] - 0s 45us/step - loss: 0.0443 - val_loss: 0.0380\n",
      "Epoch 149/1000\n",
      "424/424 [==============================] - 0s 42us/step - loss: 0.0442 - val_loss: 0.0356\n",
      "Epoch 150/1000\n",
      "424/424 [==============================] - 0s 45us/step - loss: 0.0444 - val_loss: 0.0335\n",
      "Epoch 151/1000\n",
      "424/424 [==============================] - 0s 43us/step - loss: 0.0442 - val_loss: 0.0378\n",
      "Epoch 152/1000\n",
      "424/424 [==============================] - 0s 45us/step - loss: 0.0442 - val_loss: 0.0357\n",
      "Epoch 153/1000\n",
      "424/424 [==============================] - 0s 42us/step - loss: 0.0441 - val_loss: 0.0366\n",
      "Epoch 154/1000\n",
      "424/424 [==============================] - 0s 42us/step - loss: 0.0442 - val_loss: 0.0380\n",
      "Epoch 155/1000\n",
      "424/424 [==============================] - 0s 45us/step - loss: 0.0442 - val_loss: 0.0333\n",
      "Epoch 156/1000\n",
      "424/424 [==============================] - 0s 42us/step - loss: 0.0441 - val_loss: 0.0356\n",
      "Epoch 157/1000\n"
     ]
    },
    {
     "name": "stdout",
     "output_type": "stream",
     "text": [
      "424/424 [==============================] - 0s 45us/step - loss: 0.0440 - val_loss: 0.0354\n",
      "Epoch 158/1000\n",
      "424/424 [==============================] - 0s 45us/step - loss: 0.0441 - val_loss: 0.0374\n",
      "Epoch 159/1000\n",
      "424/424 [==============================] - 0s 42us/step - loss: 0.0441 - val_loss: 0.0365\n",
      "Epoch 160/1000\n",
      "424/424 [==============================] - 0s 42us/step - loss: 0.0441 - val_loss: 0.0388\n",
      "Epoch 161/1000\n",
      "424/424 [==============================] - 0s 45us/step - loss: 0.0441 - val_loss: 0.0344\n"
     ]
    }
   ],
   "source": [
    "history = model.fit(train_input, train_target, epochs=1000, batch_size=32, validation_split=0.3, callbacks=[early_stopping])"
   ]
  },
  {
   "cell_type": "code",
   "execution_count": 18,
   "metadata": {},
   "outputs": [
    {
     "data": {
      "image/png": "[encoded data removed]",
      "text/plain": [
       "<Figure size 1440x360 with 1 Axes>"
      ]
     },
     "metadata": {
      "needs_background": "light"
     },
     "output_type": "display_data"
    }
   ],
   "source": [
    "y_vloss = history.history['val_loss']\n",
    "y_loss = history.history['loss']\n",
    "\n",
    "x_len = np.arange(len(y_loss))\n",
    "\n",
    "plt.figure(figsize=(20,5))\n",
    "plt.plot(x_len, y_vloss, marker='.', c='red', label=\"Validation-set Loss\")\n",
    "plt.plot(x_len, y_loss, marker='.', c='blue', label=\"Train-set Loss\")\n",
    "plt.legend(loc='upper right')\n",
    "plt.grid()\n",
    "plt.xlabel('epoch')\n",
    "plt.ylabel('loss')\n",
    "plt.show()"
   ]
  },
  {
   "cell_type": "code",
   "execution_count": 19,
   "metadata": {},
   "outputs": [],
   "source": [
    "predicted = model.predict(test_input)\n",
    "predicted=sc_df.inverse_transform(predicted)"
   ]
  },
  {
   "cell_type": "code",
   "execution_count": 20,
   "metadata": {},
   "outputs": [
    {
     "data": {
      "text/plain": [
       "(125, 1)"
      ]
     },
     "execution_count": 20,
     "metadata": {},
     "output_type": "execute_result"
    }
   ],
   "source": [
    "predicted.shape"
   ]
  },
  {
   "cell_type": "code",
   "execution_count": 21,
   "metadata": {},
   "outputs": [],
   "source": [
    "actual = y[-125:].reset_index()['Close']"
   ]
  },
  {
   "cell_type": "code",
   "execution_count": 22,
   "metadata": {},
   "outputs": [
    {
     "data": {
      "text/plain": [
       "4285.698226133122"
      ]
     },
     "execution_count": 22,
     "metadata": {},
     "output_type": "execute_result"
    }
   ],
   "source": [
    "RMSE = mean_squared_error(actual, predicted)**0.5    \n",
    "RMSE"
   ]
  },
  {
   "cell_type": "code",
   "execution_count": 23,
   "metadata": {},
   "outputs": [
    {
     "data": {
      "image/png": "[encoded data removed]",
      "text/plain": [
       "<Figure size 432x288 with 1 Axes>"
      ]
     },
     "metadata": {
      "needs_background": "light"
     },
     "output_type": "display_data"
    }
   ],
   "source": [
    "plt.plot(predicted)\n",
    "plt.plot(actual)\n",
    "plt.show()"
   ]
  },
  {
   "cell_type": "code",
   "execution_count": null,
   "metadata": {},
   "outputs": [],
   "source": []
  }
 ],
 "metadata": {
  "kernelspec": {
   "display_name": "Python 3",
   "language": "python",
   "name": "python3"
  },
  "language_info": {
   "codemirror_mode": {
    "name": "ipython",
    "version": 3
   },
   "file_extension": ".py",
   "mimetype": "text/x-python",
   "name": "python",
   "nbconvert_exporter": "python",
   "pygments_lexer": "ipython3",
   "version": "3.6.10"
  }
 },
 "nbformat": 4,
 "nbformat_minor": 2
}
